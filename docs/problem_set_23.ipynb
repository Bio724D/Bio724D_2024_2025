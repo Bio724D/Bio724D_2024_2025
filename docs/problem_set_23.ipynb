{
 "cells": [
  {
   "cell_type": "markdown",
   "id": "7abad401-87ee-44c9-95fa-199998cdf67d",
   "metadata": {},
   "source": [
    "# Problem Set 23: Working with images in Numpy and Matplotlib\n",
    "\n",
    "Author: Paul Magwene\n",
    "\n",
    "## Instructions\n",
    "\n",
    "Create a markdown document within JupyterLab and answer the questions below using code blocks that generate the correct outputs. We encourage you to include explanatory text in your markdown document. \n",
    "\n",
    "Write \"robust\" solutions wherever possible. A good rule of thumb for judging whether your solution is appropriately \"robust\" is to ask yourself \"If I added additional observations or variables to this data set, or if the order of variables changed, would my code still compute the right solution?\"\n",
    "\n",
    "Make sure your markdown is nicely formatted -- use headers, bullets, numbering, etc so that the structure of the document is clear.\n",
    "\n",
    "When completed, title your Jupyter notebook file as follows (replace `XX` with the assignment number, e.g. `01`, `02`, etc):\n",
    "\n",
    "-   `netid-assignment_XX-Spring2025.ipynb`\n",
    "\n",
    "Submit both your Jupyter notebook on your Github repo.\n"
   ]
  },
  {
   "cell_type": "markdown",
   "id": "eccef40b",
   "metadata": {},
   "source": [
    "## Problems"
   ]
  },
  {
   "cell_type": "markdown",
   "id": "c1bc369f-f752-47bc-91fe-91c56b696ad3",
   "metadata": {},
   "source": [
    "The zip file `2024-NASA-Vegetation-Index-Images.zip` ([Github link](https://github.com/Bio724D/Bio724D_2024_2025/blob/main/data/2024-NASA-Vegetation-Index-Images.zip)) includes images like the following:\n",
    "\n",
    "![NASA Vegetation Index, Jan 2024](./202401-nasa-vegetation.jpg)\n",
    "\n",
    "These images were downloaded from NASA and represent global [Vegetation Index data for 2024](https://neo.gsfc.nasa.gov/view.php?datasetId=MOD_NDVI_M&year=2024)."
   ]
  },
  {
   "cell_type": "markdown",
   "id": "8fd9afe1-f7fd-4ec9-bfd9-4005cef2a518",
   "metadata": {},
   "source": [
    "1. For the January 2024 image (`202401-nasa-vegetation.jpg`) show how to extract a region of the image representing Australia and Tasmania\n"
   ]
  },
  {
   "cell_type": "markdown",
   "id": "ccb31c6f-50cd-45d1-bf18-179e682dfb85",
   "metadata": {},
   "source": [
    "2. In these vegetation images, black regions represent regions that were not included in the measurements of vegetation index.  In an RGB image, black is represented by the values (0, 0, 0) in terms of the three channels (R, G, B).\n",
    "\n",
    "    Show how to create a Boolean array representing the pixels in the image that is True for all non-black pixels, and False for all black pixels."
   ]
  },
  {
   "cell_type": "markdown",
   "id": "e5dc47ad",
   "metadata": {},
   "source": [
    "3. Using the Boolean mask (array) created in problem 2 and the Australia/Tasmania sub-image from problem 1, show how to extract all the green channel pixel intensities for Australia and Tasmania in the January 2024 image, and calculate the average \"greenness\" of that sub-image (only considering the land pixels) "
   ]
  },
  {
   "cell_type": "markdown",
   "id": "55e6a8a0",
   "metadata": {},
   "source": [
    "4. Show how to iterate through all the NASA vegetation index images, carrying out steps 1-3 above, and then create a simple line plot showing average green value on the y-axis, and month (represented as integers) on the x-axis."
   ]
  },
  {
   "cell_type": "markdown",
   "id": "c21ffe8a-3870-443e-832c-857a24d24679",
   "metadata": {},
   "source": [
    "5. **Thursday lunch:** Identify something that you learned from the presentation or discussion on Thursday that you found valuable. Provide a brief reflection here (1-5 sentences) and include code or pseudo-code if useful. (Hint: consider adding this to your notebook as well.)"
   ]
  },
  {
   "cell_type": "markdown",
   "id": "a8124a87",
   "metadata": {},
   "source": []
  }
 ],
 "metadata": {
  "kernelspec": {
   "display_name": "Python 3 (ipykernel)",
   "language": "python",
   "name": "python3"
  },
  "language_info": {
   "codemirror_mode": {
    "name": "ipython",
    "version": 3
   },
   "file_extension": ".py",
   "mimetype": "text/x-python",
   "name": "python",
   "nbconvert_exporter": "python",
   "pygments_lexer": "ipython3",
   "version": "3.12.2"
  }
 },
 "nbformat": 4,
 "nbformat_minor": 5
}
