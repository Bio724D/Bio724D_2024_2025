{
 "cells": [
  {
   "cell_type": "markdown",
   "id": "7abad401-87ee-44c9-95fa-199998cdf67d",
   "metadata": {},
   "source": [
    "# Problem Set 22: Control flow, comprehensions, and function writing\n",
    "\n",
    "Author: Paul Magwene\n",
    "\n",
    "## Instructions\n",
    "\n",
    "Create a markdown document within JupyterLab and answer the questions below using code blocks that generate the correct outputs. We encourage you to include explanatory text in your markdown document. \n",
    "\n",
    "Write \"robust\" solutions wherever possible. A good rule of thumb for judging whether your solution is appropriately \"robust\" is to ask yourself \"If I added additional observations or variables to this data set, or if the order of variables changed, would my code still compute the right solution?\"\n",
    "\n",
    "Make sure your markdown is nicely formatted -- use headers, bullets, numbering, etc so that the structure of the document is clear.\n",
    "\n",
    "When completed, title your Jupyter notebook file as follows (replace `XX` with the assignment number, e.g. `01`, `02`, etc):\n",
    "\n",
    "-   `netid-assignment_XX-Spring2022.ipynb`\n",
    "\n",
    "Submit both your Jupyter notebook on your Github repo.\n"
   ]
  },
  {
   "cell_type": "markdown",
   "id": "eccef40b",
   "metadata": {},
   "source": [
    "## Problems"
   ]
  },
  {
   "cell_type": "markdown",
   "id": "c1bc369f-f752-47bc-91fe-91c56b696ad3",
   "metadata": {},
   "source": [
    "1. Functions can make the task of programming simpler by breaking a complex problem into simpler steps. Draw on the examples in [parsing_files_example.ipynb](https://github.com/Bio724D/Bio724D_2024_2025/blob/main/python_notebooks/parsing_files_example.ipynb) to write two functions. \n",
    "   \n",
    "   a) The first function, `nucs_to_codons`, should take a DNA string  as its argument and return a list of codons. See if you can ipmlement your function using  [itertools.batched](https://docs.python.org/3/library/itertools.html#itertools.batched), which will yield an even more compact solution than the example we provided..\n",
    "   \n",
    "   b) The second function, `to_aminoacids` should take that codon list as its argument and returns a list of corresponding amino acids. Use the built-in `zip` function in your impementation -- note that `zip` can take more than two inputs, which is useful in this case because there are three nucleotide positions we need to consider.\n",
    "\n",
    "   c) Nesting one function inside another function can help to make your code more concise and the logic easier to follow. Write a third function, `translate`, that takes as input a string representing a DNA sequences. This function should carry out both of the steps that the previous functions individually provide. **Do so by calling your earlier functions from within this new one.** In other words, don't simply paste the code of the two separate functions into the third.  \n",
    "\n",
    "   Include docstrings with your functions. See [PEP 257 – Docstring Conventions](https://peps.python.org/pep-0257/).   "
   ]
  },
  {
   "cell_type": "markdown",
   "id": "8fd9afe1-f7fd-4ec9-bfd9-4005cef2a518",
   "metadata": {},
   "source": [
    "2. Write a function, `reverse_complement`, that takes as its argument a string representing DNA and returns the reverse complement of that string as another DNA sequence. \n",
    "   \n",
    "   Recall that the reverse complement is the sequence of complementary bases in the reverse orientation (because nucleic acids base-pair in antiparallel, or opposite, directions). For example, the string `AATCGGATCTA` should return `TAGATCCGATT` if your function is working properly. \n",
    "   \n",
    "   **Optional:** Extend your function to take two arguments: (1) a string representing either DNA or RNA, and (2) the type of polymer to return (DNA or RNA). The function itself should return the reverse complement with DNA or RNA bases, depending on the value passed to the second argument."
   ]
  },
  {
   "cell_type": "markdown",
   "id": "ccb31c6f-50cd-45d1-bf18-179e682dfb85",
   "metadata": {},
   "source": [
    "4. **Notebook:** Choose something that you learned from lecture, the hands-on coding in class, or your own investigation that you think will be valuable for your future programming endeavors. Using text or a mix of text and code, create an entry for your notebook. Add this to your notebook and include it here. "
   ]
  },
  {
   "cell_type": "markdown",
   "id": "c21ffe8a-3870-443e-832c-857a24d24679",
   "metadata": {},
   "source": [
    "5. **Thursday lunch:** Identify something that you learned from the presentation or discussion on Thursday that you found valuable. Provide a brief reflection here (1-5 sentences) and include code or pseudo-code if useful. (Hint: consider adding this to your notebook as well.)"
   ]
  },
  {
   "cell_type": "markdown",
   "id": "a8124a87",
   "metadata": {},
   "source": []
  }
 ],
 "metadata": {
  "kernelspec": {
   "display_name": "Python 3 (ipykernel)",
   "language": "python",
   "name": "python3"
  },
  "language_info": {
   "codemirror_mode": {
    "name": "ipython",
    "version": 3
   },
   "file_extension": ".py",
   "mimetype": "text/x-python",
   "name": "python",
   "nbconvert_exporter": "python",
   "pygments_lexer": "ipython3",
   "version": "3.12.2"
  }
 },
 "nbformat": 4,
 "nbformat_minor": 5
}
