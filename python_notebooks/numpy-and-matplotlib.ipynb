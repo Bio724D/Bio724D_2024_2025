{
 "cells": [
  {
   "cell_type": "markdown",
   "id": "a86555ec-1760-478e-bfc2-7f1f94fb4dc0",
   "metadata": {},
   "source": [
    "# Numpy and Matplotlib\n",
    "\n",
    "* Bio 724D, Spring 2024\n",
    "* Paul M. Magwene\n"
   ]
  },
  {
   "cell_type": "markdown",
   "id": "6fdbc6af-87e6-49c4-89b2-9f090fdc5fa4",
   "metadata": {},
   "source": [
    "## Numpy\n",
    "\n",
    "Numpy is the de facto library for numerical computing in Python.\n",
    "\n",
    "* Provides an efficient multi-dimensional array data structure that facilitates a wide variety of numerical computing tasks.\n",
    "\n",
    "* Provides a wide range of functions for array manipulation and core numerical functions that are important for many numerical tasks in mathematics, statistics and machine learning, bioinformatics, etc.\n",
    "\n",
    "* Basis for many other packages"
   ]
  },
  {
   "cell_type": "markdown",
   "id": "fcea856f-4ddd-4b34-be14-678da773b65f",
   "metadata": {},
   "source": [
    "## What about Scipy?\n",
    "\n",
    "* Scipy is a companion to Numpy, providing a broad range of numerical routines that are widely used in different fields, but perhaps not so fundamental as what's included in numpy\n",
    "* Includes:\n",
    "\t* Integration\n",
    "\t* Optimization\n",
    "\t* Interpolation\n",
    "\t* Signal processing\n",
    "\t* Linear algebra -- numpy has a linalg module but scipy version adds some additional functionality\n",
    "\t* Spatial data \n",
    "\t* Graph algorithms\n",
    "\t* Statistics\n",
    "\t* Image processing"
   ]
  },
  {
   "cell_type": "markdown",
   "id": "ef5f61ed-6771-42a5-a199-06966b04d753",
   "metadata": {},
   "source": [
    "## Numpy: key concepts\n",
    "\n",
    "* Numpy arrays (type: `ndarray`) are multi-dimensional, ordered, and homogenous \n",
    "\n",
    "* Arrays have a size, dimension, and shape\n",
    "\n",
    "* **Typed** -- Arrays have a data type (`dtype`) which specifies the types of the data they hold. You can leave this up to numpy to infer/guess, or you can specify `dtype` explicitly\n",
    "\n",
    "* **Indexing and slicing** -- Array access is a logical extension of indexing for other Python data structures like lists but there are some subtleties to be aware of\n",
    "\n",
    "* **Vectorized** -- Many Numpy operators and functions are vectorized and are applied to every element in an input array\n",
    "\n",
    "* **Broadcasting** -- Numpy array operations/function that take two or more arrays as input exploit \"broadcasting\" to carry out operations between arrays. This as long as the dimensions of the arrays are compatible.\n",
    "\n",
    "  * Sort of like a stricter version of R's \"recycling\"\n",
    "\n",
    "    <p></p>\n",
    " \n",
    "* **Views and copies** -- Most methods on arrays return \"views\" of/into the original array than copies.  Changing a view will change the data in the original array. To get a copy, make sure to use the `.copy()` method"
   ]
  },
  {
   "cell_type": "markdown",
   "id": "6bd189df-248c-4962-aadc-c67396a3460f",
   "metadata": {},
   "source": [
    "## Numpy Broadcasting Rules\n",
    "\n",
    "From the Numpy User Guide, [Broadcasting](https://numpy.org/doc/stable/user/basics.broadcasting.html)\n",
    "\n",
    "> When operating on two arrays, NumPy compares their shapes element-wise. It starts with the trailing (i.e. rightmost) dimension and works its way left. Two dimensions are compatible when\n",
    ">\n",
    ">    1. they are equal, or\n",
    ">\n",
    ">    2. one of them is 1.\n",
    ">\n",
    ">If these conditions are not met, a ValueError: operands could not be broadcast together exception is thrown, indicating that the arrays have incompatible shapes."
   ]
  },
  {
   "cell_type": "markdown",
   "id": "265fc075-ae0c-4412-90a5-4c5e7da5fca7",
   "metadata": {},
   "source": [
    "## Matplotlib\n",
    "\n",
    "Matplot is the de facto library for plotting in Python.\n",
    "\n",
    "* Provides two \"flavors\" of plotting interfaces\n",
    "  1. A \"state based\" function oriented interface through `matplotlib.pyplot`  \n",
    "  2. An object oriented interface\n",
    " \n",
    "     <p></p>\n",
    "\n",
    "* The function based interface tends to be \"higher level\" while the object oriented interface provides greater flexibility and tweaking. It is not uncommon to mix the two types of interfaces when constructing plots interactively.\n",
    "\n",
    "* Does not provide the elegance of a \"grammar of graphics\". However, provides powerful set of tools for creating novel graphics that would be hard or impossible to do in ggplot2.  Also has much better support for 3D graphics and other less common plot types."
   ]
  },
  {
   "cell_type": "markdown",
   "id": "a0e90d5d-d8d9-47d1-aca0-45f17200e6be",
   "metadata": {},
   "source": [
    "## Basic plot types in matplotlib.pyplot\n",
    "\n",
    "* `plot()` \n",
    "* `scatter()` \n",
    "* `hist()`, `hist2d()`\n",
    "* `boxplot()`\n",
    "* `violinplot()`\n",
    "* `contour()/contourf()`\n",
    "* `bar()`\n",
    "* `pie()`\n",
    "* `imshow()`"
   ]
  },
  {
   "cell_type": "code",
   "execution_count": null,
   "id": "38ee9de8-1d6e-445c-a884-be928583d96a",
   "metadata": {},
   "outputs": [],
   "source": []
  }
 ],
 "metadata": {
  "kernelspec": {
   "display_name": "Python 3 (ipykernel)",
   "language": "python",
   "name": "python3"
  },
  "language_info": {
   "codemirror_mode": {
    "name": "ipython",
    "version": 3
   },
   "file_extension": ".py",
   "mimetype": "text/x-python",
   "name": "python",
   "nbconvert_exporter": "python",
   "pygments_lexer": "ipython3",
   "version": "3.10.11"
  }
 },
 "nbformat": 4,
 "nbformat_minor": 5
}
