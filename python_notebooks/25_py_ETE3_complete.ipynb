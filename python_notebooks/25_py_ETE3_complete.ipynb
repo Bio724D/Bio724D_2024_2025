{
 "cells": [
  {
   "cell_type": "markdown",
   "id": "c7dd67cd-da7a-4efc-bed4-6e82aaf041d8",
   "metadata": {},
   "source": [
    "# Object-oriented programming and the ETE3 package\n",
    "\n",
    "Author: Greg Wray  \n",
    "2025-APR-08"
   ]
  },
  {
   "cell_type": "markdown",
   "id": "a631b59e-570c-4320-aad7-b89723c1df22",
   "metadata": {},
   "source": [
    "## A very brief introduction to object-oriented programming\n",
    "\n",
    "Many modern programming languages incorporate an object-oriented paradigm (**OOP**), including Python, R, Java, and C++. A central concept in OOP is treating data and functions as **objects**. Rather than memorizing the computer science definition, a useful way to think about an object is that data values are associated with specific properties and uses. \n",
    "\n",
    "For example, `my_var = [5, 2]` stores several values in memory: one byte indicates that the data type is list, one byte indicates its length, and a subsequent block of memory represents each item in the list, including its position in the list, its data type, and its value. This information is bundled into a single object with a consistent internal organization. Behind the scenes, Python understands that internal organization and knows, for example, that the first byte indicates a data type. It then knows where to find the \"data\" bytes and how to infer their data type, and only allows operationsconsistent with the properties of an integer (in this case). For example, it knows that these values cannot be divided by zero and that they can be added to another number but not to a string. In addition, Python uses the length value for indexing and to determine how many times to iterate in a functional programming context such as a list comprehension.   \n",
    "\n",
    "A list object is fairly straightforward object, but the real strength of objects comes with the ability to create a **class**: a definition of a customized object that can include multiple data types and data structures, associated meta-data, rules of use, and dedicated functions and methods. When you create a data object using a class definition, it is called an **instance** of the class. A class definition always includes a constructor function to create instances, and typically also includes additional methods and functions designed to work specifically with instances of that class. For example, `DataFrame` is a class that defines certain properties; when you call the `DataFrame()` constructor function it creates an instance with access to all the attributes, functions, and methods that this class provides. You could produce a data frame using other approaches, but it would not have access to these attributes, functions, and methods; you would need to write code yourself to find (for example) its dimensions. \n",
    "\n",
    "Less obviously, functions are also objects in most OOP languages. In computer science terminology, functions are first-class entities. This means, for example, that a function can be passed as input to another function (or even to itself), which can be very useful. \n",
    "\n",
    "A key OOP concept is **inheritance**, which is the ability to create new classes that incorporate the features of an existing class(data fields, attributes, and methods), with new capabilities. For example, consider the situation where you create a class to represent a phylogenetic tree, but later want to create a class that adds branch lengths. Inheritance allows you to keep the existing class, while creating a new one with the original features but adding a new data field and associated methods to work with it.  \n",
    "\n",
    "OOP languages also use data **abstraction**. This means that only certain parts of the data within an object are visible to functions (also known as data hiding). This helps reduce errors, as it prevents functions from accessing information that is not relevant, but the programmer might mistakenly try to incorporate. In addition, OOP uses **encapsulation** to hide the details of how data is organized and manipulated within a class from the broader programming environment. For example, consider the inheritance situation described in the previous paragraph. Creating a new sub-class involves changing the class definition and adding new methods. Encapsulation means that these changes won't break exisiting code that use it.  "
   ]
  },
  {
   "cell_type": "markdown",
   "id": "1750ea30-41de-4191-9553-84262523af42",
   "metadata": {},
   "source": [
    "## Set-up for hands-on session\n",
    "\n",
    "Run these code blocks to install the ete3 library and then load it for use. "
   ]
  },
  {
   "cell_type": "code",
   "execution_count": null,
   "id": "b13fde10-8686-4a7e-9201-ef432cebe1d2",
   "metadata": {},
   "outputs": [],
   "source": [
    "pip install ete3"
   ]
  },
  {
   "cell_type": "code",
   "execution_count": null,
   "id": "ec6ca485-4236-4c63-af74-fc3e3c4ae9ed",
   "metadata": {},
   "outputs": [],
   "source": [
    "import numpy as np\n",
    "import ete3\n",
    "from ete3 import *"
   ]
  },
  {
   "cell_type": "markdown",
   "id": "0ca459ec-546b-4a89-b8a9-cacdbb402f34",
   "metadata": {},
   "source": [
    "## The ETE3 library\n",
    "\n",
    "ETE is short for *Evolutionary Tree Exploration* version 3. The ETE3 library provides classes and functions for estimating, representing, manipulating, analyzing, and displaying trees and associated data. Access the website [here](https://etetoolkit.org). \n",
    "\n",
    "This notebook provides a very basic introduction to ETE3. The goals are: (1) to show how ETE3 works with tree topology and associated data and (2) to demonstrate the value of object-oriented programming paradigms for solving real biological data analysis problems. There are many capabilities of ETE3 that this notebook does *not* cover, the two most important areas being tree reconstruction and data modeling and analysis.  \n",
    "\n",
    "**Motivation.** Trees are used to represent a wide range of information in biology. The most common application of trees in biology is to represent *phylogenetic history*, including relationships among taxa at any level, trait evolution, ancestral state reconstruction, the history of gene duplications and losses, and more. Even if you are not an evolutionary biologist, trees can be very useful, as they are frequently used to represent *overall similarity* in just about anything of interest to a biologist, including morphologies, ecosystems, experimental treatments, and much more. \n",
    "\n",
    "**Tree vocabulary.** Trees consist of a set of nodes connted by branches. Each node can have 0 or more child nodes (by convention \"below\" the node) and at most 1 parent node (by convention \"above\" it). Nodes with 0 child nodes are called leaf nodes, while nodes with 1 or more child nodes are internal nodes. A tree may or may not include a root node; when present, it is the only node with 0 parent nodes; all other nodes have exactly 1 parent.   "
   ]
  },
  {
   "cell_type": "code",
   "execution_count": null,
   "id": "528ea5c6-edce-4069-9862-a4a0648c4f52",
   "metadata": {},
   "outputs": [],
   "source": [
    "# why does the ETE3 logo have a silhouette from the 1970s movie ET?\n",
    "t = Tree(\"(A,(B,(E,D)));\")\n",
    "t.phonehome()"
   ]
  },
  {
   "cell_type": "markdown",
   "id": "f34e2d46-09f1-4376-add3-f77690c2c75b",
   "metadata": {
    "jp-MarkdownHeadingCollapsed": true
   },
   "source": [
    "### ETE3 data structures\n",
    "\n",
    "The classes that ETE3 uses to represent trees are `Tree` and `Node`. Because every node is essentially a tree in its own right, these classes are effectively synonymous; however, it's more explicit to use `Tree` to represent the entire tree, and `Node` when to represent a sub-tree. In keeping with the OOP paradigm, these classes define several data fields, in this case the topology of the tree, leaf node names, branch lengths, node support, as well as attributes such as the number of nodes, maximum and minimum depth of the tree. These classes also allow data of almost any kind to be attached to nodes, including single values, trait matrices, images, and DNA or protein sequences.  \n",
    "\n",
    "ETE3 also provides several classes that use the OOP concept of inheritance: they have the properties of the `Tree` base class, but include additional attributes and methods to work with specific kinds of evolutionary trees. The class `PhyloTree` represents phylogenies of taxa, with nodes explicitly considered to be ancestors. The classes `Seqgroup` and `EvolTree` represent phylogenies of sequences rather than taxa. \n",
    "\n",
    "ETE3 uses the OOP principles of abstraction and encapsulation to create data objects that are designed to work mostly or entirely behind the scenes. For example, `.children()` returns a list of nodes below the one passed to the method; however the contents of the list is not a sequence of node names, but is instead defined by an internal class that is not intended for use by most programmers.  "
   ]
  },
  {
   "cell_type": "markdown",
   "id": "13ee2b74-00b2-4bdb-ac7f-602a89053280",
   "metadata": {},
   "source": [
    "### Creating trees\n",
    "ETE3 provides several ways to create a `Tree` data object.\n",
    "\n",
    "**Create a tree from scratch.**  It is possible to build a tree entirely by hand. Although this is uncommon, it can be very useful for learning how to manipulate the topology and metadata of a `Tree` object."
   ]
  },
  {
   "cell_type": "code",
   "execution_count": null,
   "id": "ff1c31ed-9261-4131-beca-d07b8e1b29c6",
   "metadata": {},
   "outputs": [],
   "source": [
    "# build a tree node by node\n",
    "t = Tree()                      # create an empty tree\n",
    "#A = t.add_child(name='A')       # adds a node at the root\n",
    "#B = t.add_child(name='B')       # adds a node at the root\n",
    "#C = A.add_child(name='C')       # adds a node as daughter to existing node A\n",
    "#D = C.add_sister(name='D')      # adds node as sister to existing node C\n",
    "#E = A.add_child(name='E')       # adds another daughter to existing node A (trifurcations are allowed)\n",
    "print(t)"
   ]
  },
  {
   "cell_type": "code",
   "execution_count": null,
   "id": "eda73035-1f6b-4da2-953d-e5e98c43fbd6",
   "metadata": {},
   "outputs": [],
   "source": [
    "# check the data type of your tree\n",
    "type(t)"
   ]
  },
  {
   "cell_type": "markdown",
   "id": "8994ab81-e877-4a14-9559-1b2eaad7b0a5",
   "metadata": {},
   "source": [
    "When displaying a tree using `print()`, the default is not to show names of internal branches. This behavior can be modifed as shown in the example below."
   ]
  },
  {
   "cell_type": "code",
   "execution_count": null,
   "id": "860c2ce9-8c9c-4a70-9038-8af867309116",
   "metadata": {},
   "outputs": [],
   "source": [
    "# display names of internal branches\n",
    "print(t.get_ascii(show_internal=True))"
   ]
  },
  {
   "cell_type": "markdown",
   "id": "a2577e0a-3ddb-4f25-98e1-0bedd5c2ccbf",
   "metadata": {},
   "source": [
    "**Create a random tree.** ETE3 provides `populate()` as a mechanism to quickly produce trees with random topology. This can be useful for permutation tests or just to generate a tree to practice with."
   ]
  },
  {
   "cell_type": "code",
   "execution_count": null,
   "id": "88028955-eb8a-41c4-8c62-ac81c7ff0418",
   "metadata": {},
   "outputs": [],
   "source": [
    "# create an empty tree and then add 6 random branches with names\n",
    "t = Tree()\n",
    "leaf_names = ['Mus', 'Bos', 'Cervus', 'Phoca', 'Micropterus', 'Physeter', 'Homo', 'Panthera', 'Felis']\n",
    "t.populate(9, names_library = leaf_names)\n",
    "print(t)"
   ]
  },
  {
   "attachments": {},
   "cell_type": "markdown",
   "id": "d13a2918-75bb-42cf-98c5-d732e9729d65",
   "metadata": {},
   "source": [
    "**Create a tree from Newick definition string.** In most cases, `Tree` instances are created using the **Newick** format. This is one of the most widely used formats for representing trees. Newick format is simple and flexible. It uses parentheses and commas separating leaf names to represent topology; a semi-colon indicates the end of the specification. Optionally, Newick fromat can also include names for internal branches, as well as lengths and support for branches leading to each node; the last two fields are always present for every node in an instance of the Tree class, with default values of 1.0.  \n",
    "\n",
    "To create small trees, you can type your own string or copy+paste an existing one. "
   ]
  },
  {
   "cell_type": "code",
   "execution_count": null,
   "id": "238fd0f7-578f-4a2d-9bdc-4b127f5ab8cd",
   "metadata": {},
   "outputs": [],
   "source": [
    "# create a tree using a simple Newick definition string\n",
    "t = Tree('(A,(B,(E,D)));')\n",
    "print(t)"
   ]
  },
  {
   "cell_type": "code",
   "execution_count": null,
   "id": "656d11f7-f74c-492a-a5fe-bf5a98422c81",
   "metadata": {},
   "outputs": [],
   "source": [
    "# create a tree with branch lengths using a Newick definition string\n",
    "t = Tree('(A:4,(B:1,(E:1,D:3):0.5):0.5);')\n",
    "print(t)"
   ]
  },
  {
   "cell_type": "markdown",
   "id": "41415969-6478-4cbf-bfaf-d81b39286cfc",
   "metadata": {},
   "source": [
    "Note that displaying a tree using `print()` does not show branch lengths, even when they are specified to be different from 1.0. To show branch lengths, see **Viewing trees**, below.\n",
    "\n",
    "To create a tree with additional attributes, we need to tell the `Tree` creator function to accept a different input format. In this case, the optional argument `format=1` indicates a standard Newick tree with named internal nodes. For a full list of Newick tree formats that ETE3 accepts, see the documentation."
   ]
  },
  {
   "cell_type": "code",
   "execution_count": null,
   "id": "00bd724b-6f25-471e-a835-eb83a821b62d",
   "metadata": {},
   "outputs": [],
   "source": [
    "# create a tree with named internal nodes\n",
    "t = Tree('((((H,K)D,(F,I)G)B,E)A,((L,(N,Q)O)J,(P,S)M)C);', format=1)\n",
    "print(t.get_ascii(show_internal=True))"
   ]
  },
  {
   "cell_type": "markdown",
   "id": "82a74130-d09b-47c6-ab31-f05b8b338550",
   "metadata": {},
   "source": [
    "**Create a tree from a file.** For larger trees, typing or copy+pasting strings quickly becomes impractical. The `Tree` constructor function can take a file name and path as an argument. The input file must be a plain-text file that contains a single string in Newick format. To save a Tree data object as a file, ETE3 provides the `write()` method. The ability to read and write Newick formats provides way to save and share `Tree` instances as plain text files."
   ]
  },
  {
   "cell_type": "code",
   "execution_count": 181,
   "id": "4f6cfa43-e774-4bf0-9784-ec2ee581802c",
   "metadata": {},
   "outputs": [
    {
     "name": "stdout",
     "output_type": "stream",
     "text": [
      "\n",
      "      /-6669.DappuP312785\n",
      "     |\n",
      "     |         /-7739.JGI126010\n",
      "     |      /-|\n",
      "     |     |   \\-7739.JGI126021\n",
      "     |     |\n",
      "     |   /-|      /-45351.NEMVEDRAFT_v1g217973-PA\n",
      "   /-|  |  |   /-|\n",
      "  |  |  |  |  |  |   /-6085.XP_002167371\n",
      "  |  |  |  |  |   \\-|\n",
      "  |  |  |   \\-|      \\-10228.TriadP54105\n",
      "  |  |  |     |\n",
      "  |  |  |     |   /-7668.SPU_016633tr\n",
      "  |  |  |      \\-|\n",
      "  |   \\-|         \\-7668.SPU_013365tr\n",
      "  |     |\n",
      "  |     |      /-51511.ENSCSAVP00000011400\n",
      "  |     |   /-|\n",
      "  |     |  |   \\-7719.ENSCINP00000035803\n",
      "  |     |  |\n",
      "  |     |  |   /-7757.ENSPMAP00000006833\n",
      "  |     |  |  |\n",
      "  |      \\-|  |      /-7955.ENSDARP00000103018\n",
      "  |        |  |     |\n",
      "  |        |  |   /-|   /-8049.ENSGMOP00000003903\n",
      "  |        |  |  |  |  |\n",
      "  |        |  |  |  |  |      /-8128.ENSONIP00000009923\n",
      "  |        |  |  |   \\-|   /-|\n",
      "  |         \\-|  |     |  |  |   /-69293.ENSGACP00000005927\n",
      "  |           |  |     |  |   \\-|\n",
      "  |           |  |     |  |     |   /-99883.ENSTNIP00000008530\n",
      "  |           |  |      \\-|      \\-|\n",
      "  |           |  |        |         \\-31033.ENSTRUP00000029741\n",
      "  |           |  |        |\n",
      "  |           |  |        |   /-8083.ENSXMAP00000007211\n",
      "  |           |  |         \\-|\n",
      "  |            \\-|            \\-8090.ENSORLP00000021771\n",
      "  |              |\n",
      "  |              |   /-7897.ENSLACP00000021045\n",
      "  |              |  |\n",
      "  |              |  |   /-8364.ENSXETP00000053091\n",
      "  |              |  |  |\n",
      "  |              |  |  |      /-9258.ENSOANP00000015194\n",
      "  |              |  |  |     |\n",
      "  |              |  |  |     |      /-13616.ENSMODP00000032296\n",
      "  |              |  |  |     |   /-|\n",
      "  |              |  |  |     |  |  |   /-9315.ENSMEUP00000005072\n",
      "  |              |  |  |     |  |   \\-|\n",
      "  |              |  |  |     |  |      \\-9305.ENSSHAP00000018667\n",
      "  |               \\-|  |   /-|  |\n",
      "  |                 |  |  |  |  |      /-9361.ENSDNOP00000011178\n",
      "  |                 |  |  |  |  |   /-|\n",
      "  |                 |  |  |  |  |  |  |   /-9371.ENSETEP00000005953\n",
      "  |                 |  |  |  |  |  |   \\-|\n",
      "  |                 |  |  |  |  |  |     |   /-9813.ENSPCAP00000009886\n",
      "  |                 |  |  |  |  |  |      \\-|\n",
      "  |                 |  |  |  |  |  |         \\-9785.ENSLAFP00000023898\n",
      "  |                 |  |  |   \\-|  |\n",
      "  |                 |  |  |     |  |            /-30608.ENSMICP00000006810\n",
      "  |                 |  |  |     |  |         /-|\n",
      "  |                 |  |  |     |  |        |   \\-30611.ENSOGAP00000013460\n",
      "  |                  \\-|  |     |  |      /-|\n",
      "  |                    |  |     |  |     |  |   /-9478.ENSTSYP00000011163\n",
      "  |                    |  |     |  |     |   \\-|\n",
      "  |                    |  |     |  |     |     |   /-9483.ENSCJAP00000037059\n",
      "  |                    |  |     |  |     |      \\-|\n",
      "  |                    |  |     |  |     |        |   /-9544.ENSMMUP00000001688\n",
      "  |                    |  |     |  |     |         \\-|\n",
      "  |                    |  |     |  |     |           |   /-61853.ENSNLEP00000001585\n",
      "  |                    |  |      \\-|     |            \\-|\n",
      "  |                    |  |        |     |              |   /-9601.ENSPPYP00000009641\n",
      "--|                    |  |        |     |               \\-|\n",
      "  |                    |  |        |     |                 |   /-9593.ENSGGOP00000014253\n",
      "  |                    |  |        |     |                  \\-|\n",
      "  |                    |  |        |   /-|                    |   /-9606.ENSP00000299886\n",
      "  |                    |  |        |  |  |                     \\-|\n",
      "  |                    |  |        |  |  |                        \\-9598.ENSPTRP00000016297\n",
      "  |                    |  |        |  |  |\n",
      "  |                    |  |        |  |  |            /-10141.ENSCPOP00000018381\n",
      "  |                    |  |        |  |  |         /-|\n",
      "  |                    |  |        |  |  |        |   \\-10141.ENSCPOP00000003239\n",
      "  |                    |  |        |  |  |      /-|\n",
      "  |                     \\-|        |  |  |     |  |   /-10090.ENSMUSP00000018805\n",
      "  |                       |        |  |  |     |   \\-|\n",
      "  |                       |        |  |  |   /-|      \\-10116.ENSRNOP00000003804\n",
      "  |                       |        |  |  |  |  |\n",
      "  |                       |        |  |  |  |  |   /-43179.ENSSTOP00000001636\n",
      "  |                       |         \\-|   \\-|   \\-|\n",
      "  |                       |           |     |      \\-10020.ENSDORP00000002346\n",
      "  |                       |           |     |\n",
      "  |                       |           |     |   /-9986.ENSOCUP00000010215\n",
      "  |                       |           |      \\-|\n",
      "  |                       |           |         \\-37347.ENSTBEP00000010812\n",
      "  |                       |           |\n",
      "  |                       |           |      /-9823.ENSSSCP00000018275\n",
      "  |                       |           |   /-|\n",
      "  |                       |           |  |  |   /-9739.ENSTTRP00000004916\n",
      "  |                       |           |  |   \\-|\n",
      "  |                       |           |  |      \\-9913.ENSBTAP00000007999\n",
      "  |                       |           |  |\n",
      "  |                       |            \\-|      /-9796.ENSECAP00000006507\n",
      "  |                       |              |   /-|\n",
      "  |                       |              |  |  |   /-9685.ENSFCAP00000004377\n",
      "  |                       |              |  |   \\-|\n",
      "  |                       |              |  |     |   /-9615.ENSCAFP00000006718\n",
      "  |                       |              |  |      \\-|\n",
      "  |                       |               \\-|        |   /-9646.ENSAMEP00000002816\n",
      "  |                       |                 |         \\-|\n",
      "  |                       |                 |            \\-9669.ENSMPUP00000014182\n",
      "  |                       |                 |\n",
      "  |                       |                 |   /-59463.ENSMLUP00000015199\n",
      "  |                       |                  \\-|\n",
      "  |                       |                     \\-132908.ENSPVAP00000006353\n",
      "  |                       |\n",
      "  |                       |   /-28377.ENSACAP00000014302\n",
      "  |                        \\-|\n",
      "  |                          |   /-13735.ENSPSIP00000020553\n",
      "  |                           \\-|\n",
      "  |                             |   /-59729.ENSTGUP00000002997\n",
      "  |                              \\-|\n",
      "  |                                |   /-9103.ENSMGAP00000006649\n",
      "  |                                 \\-|\n",
      "  |                                    \\-9031.ENSGALP00000007041\n",
      "  |\n",
      "  |      /-7070.TC009561-PA\n",
      "  |     |\n",
      "  |   /-|   /-7029.ACYPI001869-PA\n",
      "  |  |  |  |\n",
      "  |  |  |  |      /-34740.HMEL012959-PA\n",
      "  |  |   \\-|   /-|\n",
      "  |  |     |  |  |   /-13037.EHJ66433\n",
      "  |  |     |  |   \\-|\n",
      "  |  |      \\-|      \\-7091.BGIBMGA012450-TA\n",
      "  |  |        |\n",
      "  |  |        |   /-7425.NV10250-PA\n",
      "   \\-|         \\-|\n",
      "     |           |   /-7460.GB18353-PA\n",
      "     |            \\-|\n",
      "     |               \\-12957.ACEP_00009457-PA\n",
      "     |\n",
      "     |   /-121225.PHUM413450-PA\n",
      "     |  |\n",
      "     |  |         /-43151.ADAR004533-PA\n",
      "     |  |      /-|\n",
      "      \\-|     |   \\-7165.AGAP001322-PA\n",
      "        |   /-|\n",
      "        |  |  |   /-7176.CPIJ007948-PA\n",
      "        |  |   \\-|\n",
      "         \\-|      \\-7159.AAEL007141-PA\n",
      "           |\n",
      "           |   /-7260.FBpp0240708\n",
      "           |  |\n",
      "            \\-|      /-7222.FBpp0149372\n",
      "              |   /-|\n",
      "              |  |   \\-7244.FBpp0224481\n",
      "               \\-|\n",
      "                 |   /-7237.FBpp0281462\n",
      "                  \\-|\n",
      "                    |   /-7217.FBpp0120932\n",
      "                     \\-|\n",
      "                       |   /-7245.FBpp0269552\n",
      "                        \\-|\n",
      "                           \\-7227.FBpp0082093\n"
     ]
    }
   ],
   "source": [
    "# create a Tree object from a file in Newick format\n",
    "t1 = Tree('newick_example.nw')\n",
    "print(t1)"
   ]
  },
  {
   "cell_type": "code",
   "execution_count": null,
   "id": "4d45b8fa-8503-4c84-82a4-3309a79e9635",
   "metadata": {},
   "outputs": [],
   "source": [
    "# create a small tree object and then save it as a plain text file\n",
    "t = Tree(\"(A:1,(B:1,(E:1,D:3):0.5):0.5);\")\n",
    "t.write(outfile = 'my_little_tree.nw')\n",
    "print(t)"
   ]
  },
  {
   "cell_type": "code",
   "execution_count": null,
   "id": "f0791357-0880-4710-8750-098da7d4be9d",
   "metadata": {},
   "outputs": [],
   "source": [
    "# read back your file into a Tree object and display\n",
    "t = Tree('my_little_tree.nw')\n",
    "print(t)"
   ]
  },
  {
   "cell_type": "markdown",
   "id": "0f1c4780-2fea-401f-8036-59058a7656f5",
   "metadata": {},
   "source": [
    "### Creating pointers to nodes\n",
    "\n",
    "To work with specific nodes, we first need to create a **pointer** that tells ETE3 what position in the tree to refer to or operate on. This seems like a redundant step, since the node already has a label, but it is useful for two reasons. First, it allows abstraction (e.g., assignment of different nodes to the same identifier during program execution). Second, pointers are useful because they are not just string, but rather a class with attributes and methods. Once we define a pointer, we can extract information about the node, its parent node, and the sub-tree that it defines. We can also use the pointer to delete the node or sub-tree or use it as an insertion point for adding a node (see Manipulating tree structure, below)."
   ]
  },
  {
   "cell_type": "code",
   "execution_count": null,
   "id": "44910bf7-4ae3-4d5e-b048-e4a952e2fdfd",
   "metadata": {},
   "outputs": [],
   "source": [
    "# create a tree with named internal nodes\n",
    "t5 = Tree('((((H,K)D,(F,I)G)B,E)A,((L,(N,Q)O)J,(P,S)M)C);', format=1)\n",
    "print(t.get_ascii(show_internal=True))"
   ]
  },
  {
   "cell_type": "code",
   "execution_count": null,
   "id": "41ec4580-365f-4640-aa44-d2dd6d97981c",
   "metadata": {},
   "outputs": [],
   "source": [
    "# create pointers to specific nodes\n",
    "D = t5.search_nodes(name='D') [0]\n",
    "B = t5.search_nodes(name='B') [0]\n",
    "J = t5.search_nodes(name='J') [0]\n",
    "print(D, '\\n', B, '\\n', J)"
   ]
  },
  {
   "cell_type": "markdown",
   "id": "10906d0a-2790-4aa2-a96b-1507c1136c05",
   "metadata": {},
   "source": [
    "### Getting information about trees and nodes\n",
    "\n",
    "ETE3 provides several useful attributes, methods, and functions to extract information about `Tree` and `Node` objects. Most of these apply equally to both kinds of objects. For instance:\n",
    " * `.name` returns the label of the node\n",
    " * `.describe` returns a brief summary of the sub-tree\n",
    " * `.up` returns the name of the parent node\n",
    " * `.children` returns a List of daughter nodes (empty if none)\n",
    " * `.dist` returns the distance to the parent node (default = 1.0)\n",
    " * `.support` returns a value representing support for the node (default = 1.0)\n",
    "\n",
    "The examples below just scratch the surface of the methods available. "
   ]
  },
  {
   "cell_type": "code",
   "execution_count": null,
   "id": "bfc39824-a40e-46bb-8bb9-9f46ede60192",
   "metadata": {},
   "outputs": [],
   "source": [
    "# create a Tree object from file to work with\n",
    "t5 = Tree('((((H,K)D,(F,I)G)B,E)A,((L,(N,Q)O)J,(P,S)M)C);', format=1)\n",
    "print(t5.get_ascii(show_internal=True))"
   ]
  },
  {
   "cell_type": "code",
   "execution_count": null,
   "id": "65e57878-e48d-4cd9-ba5c-5acdf6f7a891",
   "metadata": {},
   "outputs": [],
   "source": [
    "# create pointers for all internal nodes\n",
    "D = t5.search_nodes(name='D') [0]\n",
    "G = t5.search_nodes(name='G') [0]\n",
    "B = t5.search_nodes(name='B') [0]\n",
    "A = t5.search_nodes(name='A') [0]\n",
    "M = t5.search_nodes(name='M') [0]\n",
    "O = t5.search_nodes(name='O') [0]\n",
    "J = t5.search_nodes(name='J') [0]\n",
    "C = t5.search_nodes(name='C') [0]"
   ]
  },
  {
   "cell_type": "code",
   "execution_count": null,
   "id": "cb0dd537-27c2-4f0c-9d49-2065d202225d",
   "metadata": {},
   "outputs": [],
   "source": [
    "# test for root\n",
    "t5.is_root()"
   ]
  },
  {
   "cell_type": "code",
   "execution_count": null,
   "id": "8135ab39-8df7-4b88-af18-732fac0de0bf",
   "metadata": {},
   "outputs": [],
   "source": [
    "# test for root\n",
    "D.is_root()"
   ]
  },
  {
   "cell_type": "code",
   "execution_count": null,
   "id": "f801fdae-d9f2-462e-9ed3-afe8f2f8315b",
   "metadata": {},
   "outputs": [],
   "source": [
    "# return the parent node\n",
    "D.up"
   ]
  },
  {
   "cell_type": "code",
   "execution_count": null,
   "id": "a1ec8f11-2d2a-49bc-b58a-271060b1e61b",
   "metadata": {},
   "outputs": [],
   "source": [
    "# return a list of direct child nodes\n",
    "J.children [:]"
   ]
  },
  {
   "cell_type": "code",
   "execution_count": null,
   "id": "7133e00d-0f91-4b97-87e7-6bb992db1ea4",
   "metadata": {},
   "outputs": [],
   "source": [
    "# return summary information about a node and its sub-tree\n",
    "J.describe()"
   ]
  },
  {
   "cell_type": "code",
   "execution_count": null,
   "id": "16afd498-7808-4d66-b3f6-d766e277f36d",
   "metadata": {},
   "outputs": [],
   "source": [
    "# return summary information about the entire tree\n",
    "t5.describe()"
   ]
  },
  {
   "cell_type": "markdown",
   "id": "64018beb-a122-436d-b7db-b0df936ff289",
   "metadata": {},
   "source": [
    "### Copying trees\n",
    "\n",
    "As with mutable objects generally in Python, assigning an existing instance of `Tree` creates an alias that points to the original object. Use the `.copy()` method to create a true copy. Everything in standard Newick format will be copied (topology, leaf node names, branch lengths, and node support). If additional data are attached to nodes, however, they may not be copied using the default setting. To ensure that *all* attached data is faithfully copied, set the optional `method` parameter to `'deepcopy'` (takes longer, but ensures complete copying)."
   ]
  },
  {
   "cell_type": "code",
   "execution_count": null,
   "id": "57b7d2b7-5955-4193-82d1-e93fa6b5adf4",
   "metadata": {},
   "outputs": [],
   "source": [
    "# create a tree to work with\n",
    "t5 = Tree('example.nw')"
   ]
  },
  {
   "cell_type": "code",
   "execution_count": null,
   "id": "4ac6b201-f8b3-4cb6-8680-2559fa2b7206",
   "metadata": {},
   "outputs": [],
   "source": [
    "# create a copy, then check that the labels, branch lengths, and node support were copied \n",
    "duplicated_tree = t5.copy()\n",
    "duplicated_tree.write(outfile = 'duplicated_tree.nw')"
   ]
  },
  {
   "cell_type": "code",
   "execution_count": null,
   "id": "b5c15ded-f277-492b-994c-0f27fe8390ac",
   "metadata": {},
   "outputs": [],
   "source": [
    "# create a deep copy of a tree (not needed in this case)\n",
    "duplicated_tree = t5.copy(method='deepcopy')"
   ]
  },
  {
   "cell_type": "markdown",
   "id": "be4f5056-50b3-4f2e-adce-c7041871de27",
   "metadata": {},
   "source": [
    "### Manipulating tree structure\n",
    "\n",
    "ETE3 provides several methods for manipulating the structure of an existing tree. It is possible to **delete** a single node with or without removing its child nodes. It is also possible to **detach** a leaf or internal node with its child nodes for further use. Finally, it is possible to **add** new nodes at any position. Adding a detached node is analogous to a cut-and-paste operation. \n",
    "\n",
    "Note that the operations in the examples below occur *in place*; to preserve the original tree, assign to a new variable name."
   ]
  },
  {
   "cell_type": "code",
   "execution_count": null,
   "id": "5fd0b8ec-aab1-4f2c-bb82-bc1f82da590c",
   "metadata": {},
   "outputs": [],
   "source": [
    "# create a tree to work with\n",
    "t5 = Tree('((((H,K)D,(F,I)G)B,E)A,((L,(N,Q)O)J,(P,S)M)C);', format=1)\n",
    "D = t5.search_nodes(name='D') [0]\n",
    "B = t5.search_nodes(name='B') [0]\n",
    "J = t5.search_nodes(name='J') [0]\n",
    "print(t5.get_ascii(show_internal=True))"
   ]
  },
  {
   "cell_type": "markdown",
   "id": "eb981149-ccd2-47dd-a89b-741d4fc8c31a",
   "metadata": {},
   "source": [
    "**Deleting single nodes.** The `delete()` method removes a single node. If the node is a leaf, it simply disappears; if it is an internal node, any child nodes are assigned to the nearest surviving node. "
   ]
  },
  {
   "cell_type": "code",
   "execution_count": null,
   "id": "17c5357e-9340-4771-978a-8f0575bde617",
   "metadata": {},
   "outputs": [],
   "source": [
    "# delete node D\n",
    "D.delete()\n",
    "print(t5.get_ascii(show_internal=True))"
   ]
  },
  {
   "cell_type": "markdown",
   "id": "eda7373d-06ce-4d25-8135-f7432ac7d26f",
   "metadata": {},
   "source": [
    "**Deleting sub-trees.** The `detach()` method deletes a single node with all child nodes. "
   ]
  },
  {
   "cell_type": "code",
   "execution_count": null,
   "id": "459c7368-5dc3-40ad-a384-6a7b8009320a",
   "metadata": {},
   "outputs": [],
   "source": [
    "# regenerate the tree and pointers\n",
    "t5 = Tree('((((H,K)D,(F,I)G)B,E)A,((L,(N,Q)O)J,(P,S)M)C);', format=1)\n",
    "D = t5.search_nodes(name='D') [0]\n",
    "B = t5.search_nodes(name='B') [0]\n",
    "J = t5.search_nodes(name='J') [0]\n",
    "print(t5.get_ascii(show_internal=True))"
   ]
  },
  {
   "cell_type": "code",
   "execution_count": null,
   "id": "f29fe362-4e03-4d5f-bcf3-360d1ad6bf09",
   "metadata": {},
   "outputs": [],
   "source": [
    "# delete a sub-tree and assign to an identifier for later use\n",
    "my_subtree = J.detach()\n",
    "print(t5.get_ascii(show_internal=True))"
   ]
  },
  {
   "cell_type": "code",
   "execution_count": null,
   "id": "6062b893-098a-418f-ad0e-9e6307d5925e",
   "metadata": {},
   "outputs": [],
   "source": [
    "# take a look at the deleted sub-tree\n",
    "print(my_subtree.get_ascii(show_internal=True))"
   ]
  },
  {
   "cell_type": "markdown",
   "id": "8ed4a9ac-4a8a-489d-985c-8a94bad52e20",
   "metadata": {},
   "source": [
    "**Add a detached node to a tree.**  Any existing node object can be added to a tree. The default position is the root, but you can use a node pointer to indicate another site of attachment."
   ]
  },
  {
   "cell_type": "code",
   "execution_count": null,
   "id": "83b47953-497e-4efc-b2ac-046f4f59fef1",
   "metadata": {},
   "outputs": [],
   "source": [
    "# re-attach a deleted node at the root\n",
    "t5.add_child(my_subtree)\n",
    "print(t5.get_ascii(show_internal=True))"
   ]
  },
  {
   "cell_type": "code",
   "execution_count": null,
   "id": "791d39fe-b23f-4ad7-8c15-be1032096c4e",
   "metadata": {},
   "outputs": [],
   "source": [
    "# re-attach a deleted node at a specified location\n",
    "my_subtree = B.add_child(my_subtree)\n",
    "print(t5.get_ascii(show_internal=True))"
   ]
  },
  {
   "cell_type": "markdown",
   "id": "81dda98d-88aa-411b-97c9-757410db2eb5",
   "metadata": {},
   "source": [
    "**Attach a new node.** Adding a new node is similar, but requires that you provide a name. "
   ]
  },
  {
   "cell_type": "code",
   "execution_count": null,
   "id": "65194076-bf50-4a74-8b05-6c4b4e273c31",
   "metadata": {},
   "outputs": [],
   "source": [
    "# regenerate the original tree and add a single node at the root \n",
    "t5 = Tree('((((H,K)D,(F,I)G)B,E)A,((L,(N,Q)O)J,(P,S)M)C);', format=1)\n",
    "t5.add_child(name='zebra')\n",
    "print(t5.get_ascii(show_internal=True))"
   ]
  },
  {
   "cell_type": "code",
   "execution_count": null,
   "id": "7168789a-dd9f-462f-836a-54254c2a70f2",
   "metadata": {},
   "outputs": [],
   "source": [
    "# to add a single node at a specified location, first create a pointer to it\n",
    "B = t5.search_nodes(name='B') [0]\n",
    "okapi = B.add_child(name='okapi')\n",
    "print(t5.get_ascii(show_internal=True))"
   ]
  },
  {
   "cell_type": "markdown",
   "id": "f86b41d6-1ec8-483b-8721-5d37e9ee6005",
   "metadata": {},
   "source": [
    "### Viewing trees\n",
    "\n",
    "ETE3 provides a tools for rendering trees. The interface is somewhat clunky but it gets the job done. \n",
    "                     \n",
    "To use these features, you first need to generate a style definition object using the `TreeStyle()` generator function. Once created, the definition can be updated. To plot the tree, use `.show()` and pass the the style object."
   ]
  },
  {
   "cell_type": "code",
   "execution_count": null,
   "id": "bf2622e5-9363-48f8-a0f4-42cfd1e5dcf2",
   "metadata": {},
   "outputs": [],
   "source": [
    "# generate a tree\n",
    "t7 = Tree('((((H,K)D,(F,I)G)B,E)A,((L,(N,Q)O)J,(P,S)M)C);', format=1)"
   ]
  },
  {
   "cell_type": "code",
   "execution_count": null,
   "id": "cc3e5215-eb94-4b65-b7ba-87a2667988cb",
   "metadata": {},
   "outputs": [],
   "source": [
    "# generate a style definition, then plot\n",
    "ts = TreeStyle()\n",
    "ts.show_leaf_name = True\n",
    "ts.mode = \"r\"                 # rectangular plot\n",
    "t7.show(tree_style=ts)"
   ]
  },
  {
   "cell_type": "code",
   "execution_count": null,
   "id": "1072682c-5fcf-4353-8397-1fbe13ed7c49",
   "metadata": {},
   "outputs": [],
   "source": [
    "# plot a larger tree \n",
    "t7 = Tree('example.nw')\n",
    "t7.show(tree_style=ts)"
   ]
  },
  {
   "cell_type": "code",
   "execution_count": null,
   "id": "2d77825f-fcfe-4d49-a66f-3c498b2557ba",
   "metadata": {},
   "outputs": [],
   "source": [
    "# plot again in circular form\n",
    "ts = TreeStyle()\n",
    "ts.show_leaf_name = True\n",
    "ts.mode = \"c\"                 # circular plot\n",
    "ts.arc_start = 270            # start plotting at 12 o'clock\n",
    "ts.arc_span = 90             # spread branches over 180 degrees\n",
    "t7.show(tree_style=ts)"
   ]
  },
  {
   "cell_type": "code",
   "execution_count": null,
   "id": "2ee26b9e-cd56-47bc-bfa2-d00e66db6e0a",
   "metadata": {},
   "outputs": [],
   "source": []
  }
 ],
 "metadata": {
  "kernelspec": {
   "display_name": "Python 3 (ipykernel)",
   "language": "python",
   "name": "python3"
  },
  "language_info": {
   "codemirror_mode": {
    "name": "ipython",
    "version": 3
   },
   "file_extension": ".py",
   "mimetype": "text/x-python",
   "name": "python",
   "nbconvert_exporter": "python",
   "pygments_lexer": "ipython3",
   "version": "3.12.7"
  }
 },
 "nbformat": 4,
 "nbformat_minor": 5
}
