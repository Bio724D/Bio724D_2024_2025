{
 "cells": [
  {
   "cell_type": "markdown",
   "id": "1c26cc43-7993-4c65-9451-b62f56f1178f",
   "metadata": {},
   "source": [
    "## More on SQL\n",
    "\n",
    "Author: Greg Wray  \n",
    "2024-MAR-04"
   ]
  },
  {
   "cell_type": "markdown",
   "id": "82bccd53-25a1-4cd2-9f38-1c16a054ece3",
   "metadata": {},
   "source": [
    "### Set-up and build database\n",
    "The steps below follow those in the notebook from last week (refer to that notebook for explanations). The only difference here is that we load `matplotlib` so that we can do some graphing with results in Python. "
   ]
  },
  {
   "cell_type": "code",
   "execution_count": null,
   "id": "8db12061-3ea4-4a5d-a855-81eb1d435c63",
   "metadata": {},
   "outputs": [],
   "source": [
    "# import packages and extensions\n",
    "import numpy as np\n",
    "import pandas as pd\n",
    "import matplotlib \n",
    "import duckdb\n",
    "%load_ext sql"
   ]
  },
  {
   "cell_type": "code",
   "execution_count": null,
   "id": "22e734a1-d431-434b-a79d-f13e96961745",
   "metadata": {},
   "outputs": [],
   "source": [
    "# create an in-memory database\n",
    "%sql duckdb://"
   ]
  },
  {
   "cell_type": "code",
   "execution_count": null,
   "id": "37a46515-023f-481b-a8aa-f372a4610f9c",
   "metadata": {},
   "outputs": [],
   "source": [
    "%%sql\n",
    "\n",
    "-- create 7 tables and read in data for each from .csv files\n",
    "    \n",
    "DROP TABLE IF EXISTS orders;             \n",
    "CREATE TABLE orders (                    \n",
    "    order_ioc VARCHAR PRIMARY KEY,       \n",
    "    seq SMALLINT NOT NULL,               \n",
    "    familiar_order VARCHAR,              \n",
    "    taxonomy VARCHAR                     \n",
    "    );                                   \n",
    "COPY orders FROM 's_orders.csv';         \n",
    "\n",
    "DROP TABLE IF EXISTS families;\n",
    "CREATE TABLE families(\n",
    "    family_ioc VARCHAR PRIMARY KEY,\n",
    "    seq SMALLINT NOT NULL,\n",
    "    order_ioc VARCHAR NOT NULL,\n",
    "    familiar_family VARCHAR,\n",
    "    niche VARCHAR,\n",
    "    taxonomy VARCHAR,\n",
    "    num_gen SMALLINT NOT NULL,\n",
    "    num_spp SMALLINT NOT NULL,\n",
    "    num_spp_x SMALLINT NOT NULL,\n",
    "    num_threat SMALLINT NOT NULL\n",
    "    );\n",
    "COPY families FROM 's_families.csv';\n",
    "\n",
    "DROP TABLE IF EXISTS genera;\n",
    "CREATE TABLE genera(\n",
    "    genus_ioc VARCHAR PRIMARY KEY,\n",
    "    seq SMALLINT NOT NULL,\n",
    "    family_ioc VARCHAR NOT NULL,\n",
    "    familiar_genus VARCHAR,\n",
    "    taxonomy VARCHAR,\n",
    "    num_spp SMALLINT NOT NULL\n",
    "    );\n",
    "COPY genera FROM 's_genera.csv';\n",
    "\n",
    "DROP TABLE IF EXISTS species;\n",
    "CREATE TABLE species(\n",
    "    seq SMALLINT PRIMARY KEY,\n",
    "    genus_ioc VARCHAR NOT NULL,\n",
    "    species_ioc VARCHAR NOT NULL,\n",
    "    num_spp SMALLINT NOT NULL,\n",
    "    familiar_ioc VARCHAR,\n",
    "    conservation VARCHAR,\n",
    "    endemic VARCHAR\n",
    "    );\n",
    "COPY species FROM 's_species.csv';\n",
    "\n",
    "DROP TABLE IF EXISTS observations;\n",
    "CREATE TABLE observations(\n",
    "    seq SMALLINT PRIMARY KEY,\n",
    "    genus_ioc VARCHAR NOT NULL,\n",
    "    species_ioc VARCHAR NOT NULL,\n",
    "    subspecies_ioc VARCHAR NOT NULL,\n",
    "    date_obs DATE,\n",
    "    time_obs VARCHAR,\n",
    "    location_name VARCHAR NOT NULL,\n",
    "    trip_name VARCHAR NOT NULL,\n",
    "    notes VARCHAR\n",
    "    );\n",
    "COPY observations FROM 's_observations.csv';\n",
    "\n",
    "DROP TABLE IF EXISTS trips;\n",
    "CREATE TABLE trips(\n",
    "    trip_name VARCHAR PRIMARY KEY,\n",
    "    start_date DATE NOT NULL,\n",
    "    end_date DATE NOT NULL,\n",
    "    notes VARCHAR\n",
    "    );\n",
    "COPY trips FROM 's_trips.csv';\n",
    "\n",
    "DROP TABLE IF EXISTS locations;\n",
    "CREATE TABLE locations(\n",
    "    location_name VARCHAR PRIMARY KEY,\n",
    "    province VARCHAR,\n",
    "    country_name VARCHAR,\n",
    "    bioregion_name VARCHAR,\n",
    "    climate VARCHAR,\n",
    "    protection VARCHAR,\n",
    "    earliest DATE NOT NULL,\n",
    "    latest DATE NOT NULL\n",
    "    );\n",
    "COPY locations FROM 's_locations.csv';"
   ]
  },
  {
   "cell_type": "code",
   "execution_count": null,
   "id": "475a8986-6866-4eb6-b8ff-fee1f528d4aa",
   "metadata": {},
   "outputs": [],
   "source": [
    "# remove default maximum on number of records returned\n",
    "%config SqlMagic.displaylimit = 0  "
   ]
  },
  {
   "cell_type": "markdown",
   "id": "b6e689d0-3982-4cca-b7b1-35656aaecd42",
   "metadata": {},
   "source": [
    "## Creating and modifying tables"
   ]
  },
  {
   "cell_type": "code",
   "execution_count": null,
   "id": "b7e22459-f980-4144-9bcd-c6db60bd4b6b",
   "metadata": {},
   "outputs": [],
   "source": []
  },
  {
   "cell_type": "markdown",
   "id": "baf7842c-23ef-45fc-bf52-56755ee16b4d",
   "metadata": {},
   "source": [
    "YOUR TURN: Attempt to query the `trips` table. You should now get a catalog error stating that `trips` does not exist. You can easily re-generate the table by running the code block that creates all the tables. Go ahead and do that now before we move on to the next topic."
   ]
  },
  {
   "cell_type": "markdown",
   "id": "16aaf63c-80be-4ced-8356-3a9d30580c5e",
   "metadata": {},
   "source": [
    "## Data integrity"
   ]
  },
  {
   "cell_type": "code",
   "execution_count": null,
   "id": "e453c910-f6f9-4197-8e24-69224bcb2c86",
   "metadata": {},
   "outputs": [],
   "source": []
  },
  {
   "cell_type": "markdown",
   "id": "e6afef4e-a105-4d62-9780-541db2355e14",
   "metadata": {},
   "source": [
    "YOUR TURN: Run a query to make sure that the update worked as expected. Now uncomment the part of the `CREATE TABLE` statement above and attempt to re-create the table and establish the foreign key constraint. Test the foreign key constraint by attempting to modify the name 'Kanha Kisli NP' in the `locations` table to an incorrect spelling. As another test, attempt to modify the value of `location_name` in any row by misspelling it or by entering a place that has never been visited (e.g., 'Grand Canyon NP').  "
   ]
  },
  {
   "cell_type": "markdown",
   "id": "97a9e24e-bbd8-4fda-aca8-c455b9f297cf",
   "metadata": {},
   "source": [
    "## Relational database design\n",
    "\n",
    "YOUR TURN: Design a database to store the results of a set of camera-traps at a field site. Assume that there are 12 camera traps, each of which may capture from zero to many images per night, that the study lasts for 20 days, and that the study aims to record every case where any kind of mammal sets off the trap. As part of the study, each morning you and your team will examine the images captured the night before and enter the results into the database. Of greatest interest are the species imaged, but you also plan to capture relevant meta-data. For instance, you will have access to the field station's automated weather logging records. And you want the data to be useful for possible future studies, so the design should be question-agnostic.\n",
    "\n",
    "Sketch out a set of tables and columns that could hold this information. Think about which columns need constraints and whethere any foreign key constraints would be helpful. Make sure your database is in third normal form.\n",
    "\n",
    "Designing a database can seem daunting. A good way to start is to experiment by creating tables and loading some sample data. Write code to create the tables and columns for your database. Insert two or more rows of sample data into each table. Design a few test queries to get a feel for how you might retrieve data. Consider making changes and re-create tables as needed to implement them. Iterate through changes and testing. "
   ]
  },
  {
   "cell_type": "code",
   "execution_count": null,
   "id": "8c904979-c120-4609-bf68-4965455eac73",
   "metadata": {},
   "outputs": [],
   "source": []
  },
  {
   "cell_type": "markdown",
   "id": "91ba9ebe-54c1-4d53-beb1-2df5fe9dfac3",
   "metadata": {},
   "source": [
    "## Working with SQL within Python"
   ]
  },
  {
   "cell_type": "code",
   "execution_count": null,
   "id": "1175ae5c-7a6b-4c84-8bad-2dd3403d2c55",
   "metadata": {},
   "outputs": [],
   "source": []
  },
  {
   "cell_type": "markdown",
   "id": "20745023-e92f-4e01-be47-0b25962d70fb",
   "metadata": {},
   "source": [
    "YOUR TURN: Write a Python program that creates a graph showing the cumulative number of observations over every year from 1967 (the earliest observation) to 2023 (the most recent year with complete data). Use matplotlib to construct the graph. You can use either a line graph or a histogram. Note that you will need to fill in values for years for which there are no new observations. Once that's working, add the cumulative number of new species observed over the same interval."
   ]
  }
 ],
 "metadata": {
  "kernelspec": {
   "display_name": "Python 3 (ipykernel)",
   "language": "python",
   "name": "python3"
  },
  "language_info": {
   "codemirror_mode": {
    "name": "ipython",
    "version": 3
   },
   "file_extension": ".py",
   "mimetype": "text/x-python",
   "name": "python",
   "nbconvert_exporter": "python",
   "pygments_lexer": "ipython3",
   "version": "3.10.13"
  }
 },
 "nbformat": 4,
 "nbformat_minor": 5
}
