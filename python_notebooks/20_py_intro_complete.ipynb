{
 "cells": [
  {
   "cell_type": "markdown",
   "id": "e11c1992-7bfb-43a7-bccc-162273a4d077",
   "metadata": {},
   "source": [
    "# 20: Introduction to Python\n",
    "\n",
    "Author: Greg Wray  \n",
    "2025-FEB-22  \n",
    "  \n",
    "Type code into this notebook during lecture. Run code in the selected cell by clicking the `run` (play button) icon or typing `shift-return`.  \n",
    "Modify and experiment!! This is the best way to get a feel for how Python works (and any other language).   \n",
    "Consider adding comments to record notes and findings: `#` starts a comment on a new line or part way through a line (just like R and bash). "
   ]
  },
  {
   "cell_type": "markdown",
   "id": "0233b382-6ad4-43f3-a713-f76fe640073f",
   "metadata": {},
   "source": [
    "### First Python program"
   ]
  },
  {
   "cell_type": "code",
   "execution_count": 4,
   "id": "840e2048-589d-4478-82b7-9162bcfd449e",
   "metadata": {
    "panel-layout": {
     "height": 26.470584869384766,
     "visible": true,
     "width": 100
    }
   },
   "outputs": [
    {
     "name": "stdout",
     "output_type": "stream",
     "text": [
      "Hello world!\n"
     ]
    }
   ],
   "source": [
    "print(\"Hello world!\")"
   ]
  },
  {
   "cell_type": "markdown",
   "id": "565b3c18-a16d-447c-9dab-59cac4927f79",
   "metadata": {},
   "source": [
    "### Simple expressions\n",
    "\n",
    "Most math operators in Python are the same as R.\n",
    "The main exception is the exponentiation operator, `**`.   \n",
    "Use round brackets to enforce and clarity order of operations. As with other languages, inequalities return boolean (True/False) values."
   ]
  },
  {
   "cell_type": "code",
   "execution_count": 2,
   "id": "bb9f3ef9-8de9-469f-bcd5-7eb4b07a86c6",
   "metadata": {},
   "outputs": [
    {
     "data": {
      "text/plain": [
       "25"
      ]
     },
     "execution_count": 2,
     "metadata": {},
     "output_type": "execute_result"
    }
   ],
   "source": [
    "# basic math\n",
    "(2 + 3) * 5"
   ]
  },
  {
   "cell_type": "code",
   "execution_count": 3,
   "id": "8edce4e3-0505-48da-91a6-aac7ba87a3f5",
   "metadata": {},
   "outputs": [
    {
     "data": {
      "text/plain": [
       "0"
      ]
     },
     "execution_count": 3,
     "metadata": {},
     "output_type": "execute_result"
    }
   ],
   "source": [
    "# floor division (returns the remainder)\n",
    "100 % 20            "
   ]
  },
  {
   "cell_type": "code",
   "execution_count": 202,
   "id": "b3971e75-8fbb-4144-b02d-7f79d449f690",
   "metadata": {},
   "outputs": [
    {
     "data": {
      "text/plain": [
       "27"
      ]
     },
     "execution_count": 202,
     "metadata": {},
     "output_type": "execute_result"
    }
   ],
   "source": [
    "# exponentiation\n",
    "3**3                # unlike R; in Python ^ is a bit-wise operator"
   ]
  },
  {
   "cell_type": "code",
   "execution_count": 203,
   "id": "d69bf956-8b56-4496-8b31-feac7ce1ab68",
   "metadata": {},
   "outputs": [
    {
     "data": {
      "text/plain": [
       "True"
      ]
     },
     "execution_count": 203,
     "metadata": {},
     "output_type": "execute_result"
    }
   ],
   "source": [
    "# boolean expression\n",
    "(3 + 7) > 9"
   ]
  },
  {
   "cell_type": "markdown",
   "id": "c9f2126e-242e-49ff-8950-4e3db7281114",
   "metadata": {
    "editable": true,
    "slideshow": {
     "slide_type": ""
    },
    "tags": []
   },
   "source": [
    "### Atomic data types and assignment\n",
    "\n",
    "Data types are implicit in Python; the rules are very similar to R.   \n",
    "Variable names can be re-bound (re-assigned) at any time. Warning: re-binding erases the previous value!"
   ]
  },
  {
   "cell_type": "code",
   "execution_count": 14,
   "id": "0bf1ab23-9690-44a1-a186-9aa7a7add15b",
   "metadata": {
    "editable": true,
    "panel-layout": {
     "height": 26.470584869384766,
     "visible": true,
     "width": 100
    },
    "slideshow": {
     "slide_type": ""
    },
    "tags": []
   },
   "outputs": [
    {
     "data": {
      "text/plain": [
       "'42'"
      ]
     },
     "execution_count": 14,
     "metadata": {},
     "output_type": "execute_result"
    }
   ],
   "source": [
    "# Python uses dynamic typing\n",
    "varA = 42               # unquoted numerals without decimal are integers\n",
    "varC = 42.0             # unquoted numerals with a decimal are floats\n",
    "varC = \"42\"             # single and double quotes both indicate string, even if only numerals are present\n",
    "varD = 'Forty-two'      # re-binding to the same identifier is allowed\n",
    "varD = False            # True and False without quotes are booleans\n",
    "\n",
    "varC                    # evaluating a declared variable returns its current value"
   ]
  },
  {
   "cell_type": "code",
   "execution_count": 264,
   "id": "ca205613-c461-4440-b046-7548b515e00b",
   "metadata": {},
   "outputs": [
    {
     "data": {
      "text/plain": [
       "str"
      ]
     },
     "execution_count": 264,
     "metadata": {},
     "output_type": "execute_result"
    }
   ],
   "source": [
    "# to see what type Python used when creating a variable, use the type() function\n",
    "type(varC)"
   ]
  },
  {
   "cell_type": "markdown",
   "id": "99b3b709-1d54-4a90-b13a-7e7278158373",
   "metadata": {},
   "source": [
    "### Common data structures\n",
    "\n",
    "The four most common Python data structures are list, tuple, set, and dictionary.  \n",
    "These are general-purpose **containers**: able to hold any data type or structure, including mixed contents.  \n",
    "You can specify and tell them apart by the type of brackets/braces and (for dictionary) by separators."
   ]
  },
  {
   "cell_type": "code",
   "execution_count": 271,
   "id": "b2331d5b-1885-4070-8cdb-d4a0ab42a7b3",
   "metadata": {},
   "outputs": [],
   "source": [
    "# list -- general-purpose container: square brackets\n",
    "dna_bases = ['a', 'c', 't', 'g']\n",
    "# tuple -- immutable version of a list: round brackets\n",
    "some_integers = (12, 7, 23, 0, 8, -2, 4, 2)\n",
    "# set -- unordered version of a list with no repeat items; curly braces\n",
    "palette = {'blue', 'orange', 'green', 'red'}\n",
    "# dictionary -- curly braces enclose a vector of key:value pairs \n",
    "office_numbers = {\"Paul\": 4103, \"Greg\": 4104, \"Tania\": 4115}"
   ]
  },
  {
   "cell_type": "code",
   "execution_count": 207,
   "id": "bf4b24b0-9884-4403-8c03-970d353588bd",
   "metadata": {
    "panel-layout": {
     "height": 50.4411735534668,
     "visible": true,
     "width": 100
    }
   },
   "outputs": [
    {
     "data": {
      "text/plain": [
       "3"
      ]
     },
     "execution_count": 207,
     "metadata": {},
     "output_type": "execute_result"
    }
   ],
   "source": [
    "# to extract the length of a container, use len()\n",
    "len(my_dictionary)"
   ]
  },
  {
   "cell_type": "code",
   "execution_count": 208,
   "id": "02515d9b-2868-40ce-a8f8-9b3cc497325c",
   "metadata": {},
   "outputs": [
    {
     "data": {
      "text/plain": [
       "9"
      ]
     },
     "execution_count": 208,
     "metadata": {},
     "output_type": "execute_result"
    }
   ],
   "source": [
    "# len() also works with strings (but not other atomic data types)\n",
    "len(c)          # returns the number of characters (different from R)"
   ]
  },
  {
   "cell_type": "code",
   "execution_count": 209,
   "id": "28c44281-2343-482e-b510-783dd8e6c784",
   "metadata": {},
   "outputs": [
    {
     "data": {
      "text/plain": [
       "list"
      ]
     },
     "execution_count": 209,
     "metadata": {},
     "output_type": "execute_result"
    }
   ],
   "source": [
    "# type() works with all data types\n",
    "type(dna_bases)"
   ]
  },
  {
   "cell_type": "code",
   "execution_count": 237,
   "id": "6b4dddf9-0277-490e-94d5-50e70ca5db0a",
   "metadata": {},
   "outputs": [
    {
     "data": {
      "text/plain": [
       "[{'blue', 'green', 'orange', 'red'},\n",
       " True,\n",
       " [1, 2, 4, 8, 16],\n",
       " 'Jabberwocky',\n",
       " 390625,\n",
       " 4]"
      ]
     },
     "execution_count": 237,
     "metadata": {},
     "output_type": "execute_result"
    }
   ],
   "source": [
    "# mixing data types and nesting within containers is allowed; it is also possible to include variables, expressions, and functions\n",
    "big_list = [palette, True, [1, 2, 4, 8, 16], \"Jabberwocky\", 5**8, len(dna_bases)]\n",
    "big_list"
   ]
  },
  {
   "cell_type": "code",
   "execution_count": 16,
   "id": "9619784c-4c3b-4c42-9786-7900277f44f6",
   "metadata": {},
   "outputs": [
    {
     "data": {
      "text/plain": [
       "{'Leonardo': ['leader', 'blue', 'katana'],\n",
       " 'Raphael': ['muscle', 'red', 'sai'],\n",
       " 'Donatello': ['brains', 'purple', 'bo'],\n",
       " 'Michelangelo': ['comedian', 'orange', 'nunchuk']}"
      ]
     },
     "execution_count": 16,
     "metadata": {},
     "output_type": "execute_result"
    }
   ],
   "source": [
    "# a more practical and common use is create a custom data object\n",
    "tmnt = {\"Leonardo\": [\"leader\", \"blue\", \"katana\"], \n",
    "        \"Raphael\" : [\"muscle\", \"red\", \"sai\"],\n",
    "        \"Donatello\" : [\"brains\", \"purple\", \"bo\"],\n",
    "        \"Michelangelo\" : [\"comedian\", \"orange\", \"nunchuk\"]}\n",
    "tmnt"
   ]
  },
  {
   "cell_type": "markdown",
   "id": "520c4e94-99a6-4a67-8a96-2d6f9752ca49",
   "metadata": {
    "editable": true,
    "slideshow": {
     "slide_type": ""
    },
    "tags": []
   },
   "source": [
    "### Iterables\n",
    "\n",
    "An iterable is a data object that can return items one at a time. Strings and the four data structures mentioned above are iterable."
   ]
  },
  {
   "cell_type": "code",
   "execution_count": 266,
   "id": "d766c92d-c433-4d15-bd8b-c097f2fa8378",
   "metadata": {},
   "outputs": [
    {
     "name": "stdout",
     "output_type": "stream",
     "text": [
      "green\n",
      "blue\n",
      "red\n",
      "orange\n"
     ]
    }
   ],
   "source": [
    "# looping over a container returns one item at a time\n",
    "for x in palette:\n",
    "    print(x)"
   ]
  },
  {
   "cell_type": "code",
   "execution_count": 261,
   "id": "94bd454d-c624-4413-9ce1-25b7ce7f4f54",
   "metadata": {},
   "outputs": [
    {
     "name": "stdout",
     "output_type": "stream",
     "text": [
      "F\n",
      "o\n",
      "r\n",
      "t\n",
      "y\n",
      "-\n",
      "t\n",
      "w\n",
      "o\n"
     ]
    }
   ],
   "source": [
    "# looping over a string returns one character at a time\n",
    "for c in varC:\n",
    "    print(i)"
   ]
  },
  {
   "cell_type": "markdown",
   "id": "e50b3f54-12f2-4ce2-b623-af026ef2b5ff",
   "metadata": {},
   "source": [
    "### Indexing\n",
    "\n",
    "Two key points to remember about indexing in Python:\n",
    "1. zero-based (unlike R, which is 1-based)\n",
    "2. slices include the beginning but not the end value (unlike R, which includes both)   "
   ]
  },
  {
   "cell_type": "code",
   "execution_count": 239,
   "id": "9ca01307-8cec-4fad-9a6a-777c6335ab49",
   "metadata": {},
   "outputs": [
    {
     "data": {
      "text/plain": [
       "23"
      ]
     },
     "execution_count": 239,
     "metadata": {},
     "output_type": "execute_result"
    }
   ],
   "source": [
    "# square-bracket indexing works for all iterables except dictionaries\n",
    "some_integers[2]"
   ]
  },
  {
   "cell_type": "code",
   "execution_count": 240,
   "id": "20ecb932-895f-4163-9b39-56bc6e065b19",
   "metadata": {},
   "outputs": [
    {
     "data": {
      "text/plain": [
       "(12, 7, 23, 0, 8)"
      ]
     },
     "execution_count": 240,
     "metadata": {},
     "output_type": "execute_result"
    }
   ],
   "source": [
    "# slices return ranges\n",
    "some_integers[0:5]"
   ]
  },
  {
   "cell_type": "code",
   "execution_count": 241,
   "id": "e587cf83-015a-40b4-b229-90655e1f8db6",
   "metadata": {},
   "outputs": [
    {
     "data": {
      "text/plain": [
       "(8, -2, 4, 2)"
      ]
     },
     "execution_count": 241,
     "metadata": {},
     "output_type": "execute_result"
    }
   ],
   "source": [
    "# open slices work\n",
    "some_integers[4:]"
   ]
  },
  {
   "cell_type": "code",
   "execution_count": 242,
   "id": "4746c2d6-5104-4964-ad0b-ee6892f35f3a",
   "metadata": {},
   "outputs": [
    {
     "data": {
      "text/plain": [
       "(12, 23, 8)"
      ]
     },
     "execution_count": 242,
     "metadata": {},
     "output_type": "execute_result"
    }
   ],
   "source": [
    "# step size works as a third argument\n",
    "some_integers[0:6:2]"
   ]
  },
  {
   "cell_type": "code",
   "execution_count": 243,
   "id": "fa54869a-d2d8-4300-bb8d-1c160698c470",
   "metadata": {},
   "outputs": [
    {
     "data": {
      "text/plain": [
       "(12, 23, 8)"
      ]
     },
     "execution_count": 243,
     "metadata": {},
     "output_type": "execute_result"
    }
   ],
   "source": [
    "# step size can be combined with open slices\n",
    "some_integers[:6:2]"
   ]
  },
  {
   "cell_type": "code",
   "execution_count": 244,
   "id": "b74e6f35-9dff-4767-bb8d-a206601a4462",
   "metadata": {},
   "outputs": [
    {
     "data": {
      "text/plain": [
       "2"
      ]
     },
     "execution_count": 244,
     "metadata": {},
     "output_type": "execute_result"
    }
   ],
   "source": [
    "# negative indexing is useful\n",
    "some_integers[-1]     # returns the last item"
   ]
  },
  {
   "cell_type": "code",
   "execution_count": 245,
   "id": "0c81ddf2-bc6a-428b-bc37-40b04103ef5a",
   "metadata": {},
   "outputs": [
    {
     "data": {
      "text/plain": [
       "(2, 4, -2, 8, 0, 23, 7, 12)"
      ]
     },
     "execution_count": 245,
     "metadata": {},
     "output_type": "execute_result"
    }
   ],
   "source": [
    "# use open slices and negative indexing to reverse the complete iterable\n",
    "some_integers[::-1]   # also known as the \"martian smiley\""
   ]
  },
  {
   "cell_type": "code",
   "execution_count": 246,
   "id": "b15b2a0a-0353-42d8-9298-641cc57311b5",
   "metadata": {},
   "outputs": [
    {
     "data": {
      "text/plain": [
       "4115"
      ]
     },
     "execution_count": 246,
     "metadata": {},
     "output_type": "execute_result"
    }
   ],
   "source": [
    "# to index a dictionary, use the key for the item you want to retrieve\n",
    "office_numbers[\"Tania\"]"
   ]
  },
  {
   "cell_type": "code",
   "execution_count": 267,
   "id": "c36398f7-970b-47ee-88ad-dc5fcf402cd9",
   "metadata": {},
   "outputs": [
    {
     "data": {
      "text/plain": [
       "'katana'"
      ]
     },
     "execution_count": 267,
     "metadata": {},
     "output_type": "execute_result"
    }
   ],
   "source": [
    "# to retrieve an item within a list in a dictionary, use consecutive square-bracket indexing \n",
    "tmnt['Leonardo'][2]       # returns the third item in the list associated with 'Leonardo'"
   ]
  },
  {
   "cell_type": "markdown",
   "id": "19db84fe-ea5a-480e-8415-a07f3cf9659b",
   "metadata": {},
   "source": [
    "### Immutability\n",
    "\n",
    "Immutable data objects cannot be updated once assigned, but they can be deleted and the same name re-used.   \n",
    "Atomic data types, string, and tuples are the most common immutable data structure in Python.   "
   ]
  },
  {
   "cell_type": "code",
   "execution_count": 270,
   "id": "8fae5d5d-eff0-41d7-8560-0617f0ca1ff4",
   "metadata": {},
   "outputs": [
    {
     "data": {
      "text/plain": [
       "['a', 'c', 'u', 'g']"
      ]
     },
     "execution_count": 270,
     "metadata": {},
     "output_type": "execute_result"
    }
   ],
   "source": [
    "# lists are mutable\n",
    "dna_bases[2] = 'u'\n",
    "dna_bases"
   ]
  },
  {
   "cell_type": "code",
   "execution_count": 249,
   "id": "ff39f2f1-a333-46d2-a183-851d98c09bd7",
   "metadata": {},
   "outputs": [
    {
     "ename": "TypeError",
     "evalue": "'tuple' object does not support item assignment",
     "output_type": "error",
     "traceback": [
      "\u001b[0;31m---------------------------------------------------------------------------\u001b[0m",
      "\u001b[0;31mTypeError\u001b[0m                                 Traceback (most recent call last)",
      "Cell \u001b[0;32mIn[249], line 2\u001b[0m\n\u001b[1;32m      1\u001b[0m \u001b[38;5;66;03m# tuples are not mutable\u001b[39;00m\n\u001b[0;32m----> 2\u001b[0m some_integers[\u001b[38;5;241m2\u001b[39m] \u001b[38;5;241m=\u001b[39m \u001b[38;5;241m33\u001b[39m\n",
      "\u001b[0;31mTypeError\u001b[0m: 'tuple' object does not support item assignment"
     ]
    }
   ],
   "source": [
    "# tuples are not mutable\n",
    "some_integers[2] = 33"
   ]
  },
  {
   "cell_type": "code",
   "execution_count": 269,
   "id": "7fe62198-5267-4c76-bd1f-decbe37c3173",
   "metadata": {},
   "outputs": [
    {
     "data": {
      "text/plain": [
       "'parrot'"
      ]
     },
     "execution_count": 269,
     "metadata": {},
     "output_type": "execute_result"
    }
   ],
   "source": [
    "# but tuples can be \"erased\" by assigning a new value to the same identifier\n",
    "some_integers = \"parrot\"\n",
    "some_integers"
   ]
  },
  {
   "cell_type": "markdown",
   "id": "068036be-076e-423a-9934-16db540531e2",
   "metadata": {},
   "source": [
    "Mutable containers have an important property: assigning to a new variable does *not* create a new copy of the data.   \n",
    "Updating the contents for one variable also updates it for the other variable. "
   ]
  },
  {
   "cell_type": "code",
   "execution_count": 251,
   "id": "e10b9637-ad1f-4b4a-88f7-b8493d3143bd",
   "metadata": {},
   "outputs": [
    {
     "data": {
      "text/plain": [
       "['a', 'c', 't', 'g']"
      ]
     },
     "execution_count": 251,
     "metadata": {},
     "output_type": "execute_result"
    }
   ],
   "source": [
    "# assign to a new identifier\n",
    "dna_bases = ['a', 'c', 't', 'g']\n",
    "rna_bases = dna_bases\n",
    "rna_bases"
   ]
  },
  {
   "cell_type": "code",
   "execution_count": 252,
   "id": "2ec80fdb-36a5-4fe4-9864-901f907e0c1d",
   "metadata": {},
   "outputs": [
    {
     "data": {
      "text/plain": [
       "['a', 'c', 'u', 'g']"
      ]
     },
     "execution_count": 252,
     "metadata": {},
     "output_type": "execute_result"
    }
   ],
   "source": [
    "# update new_list\n",
    "rna_bases[2]= 'u'\n",
    "rna_bases"
   ]
  },
  {
   "cell_type": "code",
   "execution_count": 253,
   "id": "05ae3f9b-46d0-4df9-ae17-b94208d3f619",
   "metadata": {},
   "outputs": [
    {
     "data": {
      "text/plain": [
       "['a', 'c', 'u', 'g']"
      ]
     },
     "execution_count": 253,
     "metadata": {},
     "output_type": "execute_result"
    }
   ],
   "source": [
    "# now, check the original list\n",
    "dna_bases"
   ]
  },
  {
   "cell_type": "markdown",
   "id": "2e31c515-a718-44b5-bd7a-f64d5f63cf39",
   "metadata": {},
   "source": [
    "Immutable objects behave differently: assigning to a new variable creates an independent copy of the data.   \n",
    "Updating the copy does not affect the original."
   ]
  },
  {
   "cell_type": "code",
   "execution_count": 254,
   "id": "21490191-d4a9-4b03-8076-14e5f7ce2c71",
   "metadata": {
    "jp-MarkdownHeadingCollapsed": true
   },
   "outputs": [
    {
     "data": {
      "text/plain": [
       "'Hello'"
      ]
     },
     "execution_count": 254,
     "metadata": {},
     "output_type": "execute_result"
    }
   ],
   "source": [
    "# create an immutable object and make a copy\n",
    "my_string = \"Hello\"\n",
    "new_string = my_string\n",
    "new_string"
   ]
  },
  {
   "cell_type": "code",
   "execution_count": 255,
   "id": "174accd2-f307-437b-86df-841dbb1d34c1",
   "metadata": {},
   "outputs": [
    {
     "data": {
      "text/plain": [
       "'Hello world!'"
      ]
     },
     "execution_count": 255,
     "metadata": {},
     "output_type": "execute_result"
    }
   ],
   "source": [
    "# modify the copy\n",
    "new_string = new_string + \" world!\"\n",
    "new_string"
   ]
  },
  {
   "cell_type": "code",
   "execution_count": 256,
   "id": "49c9346a-a69c-4267-b596-1beea3b8d365",
   "metadata": {},
   "outputs": [
    {
     "data": {
      "text/plain": [
       "'Hello'"
      ]
     },
     "execution_count": 256,
     "metadata": {},
     "output_type": "execute_result"
    }
   ],
   "source": [
    "# now, check the original string\n",
    "my_string"
   ]
  },
  {
   "cell_type": "markdown",
   "id": "4929fe9c-e128-44f1-8876-51ca3aefe94c",
   "metadata": {},
   "source": [
    "### Syntax and formatting\n",
    "\n",
    "Python was designed to have clean, readable code.  \n",
    "To illustrate, we'll write another program."
   ]
  },
  {
   "cell_type": "code",
   "execution_count": 20,
   "id": "7cea73ba-fb0e-46c0-9b33-8d338e59421d",
   "metadata": {},
   "outputs": [
    {
     "name": "stdout",
     "output_type": "stream",
     "text": [
      "The name of the island Isabella\n",
      "  is 8 letters long\n",
      "  ends with the letters lla\n",
      "  is composed of one word\n",
      "  contains the letters ['I', 'a', 'b', 'e', 'l', 's']\n",
      "\n",
      "The name of the island Fernandina\n",
      "  is 10 letters long\n",
      "  ends with the letters ina\n",
      "  is composed of one word\n",
      "  contains the letters ['F', 'a', 'd', 'e', 'i', 'n', 'r']\n",
      "\n",
      "The name of the island San Salvador\n",
      "  is 12 letters long\n",
      "  ends with the letters dor\n",
      "  is composed of multiple words\n",
      "  contains the letters ['S', 'a', 'd', 'l', 'n', 'o', 'r', 'v']\n",
      "\n",
      "The name of the island Santa Cruz\n",
      "  is 10 letters long\n",
      "  ends with the letters ruz\n",
      "  is composed of multiple words\n",
      "  contains the letters ['C', 'S', 'a', 'n', 'r', 't', 'u', 'z']\n",
      "\n",
      "The name of the island San Cristobal\n",
      "  is 13 letters long\n",
      "  ends with the letters bal\n",
      "  is composed of multiple words\n",
      "  contains the letters ['C', 'S', 'a', 'b', 'i', 'l', 'n', 'o', 'r', 's', 't']\n",
      "\n",
      "The name of the island Floreana\n",
      "  is 8 letters long\n",
      "  ends with the letters ana\n",
      "  is composed of one word\n",
      "  contains the letters ['F', 'a', 'e', 'l', 'n', 'o', 'r']\n",
      "\n",
      "Total island names analyzed: 6\n"
     ]
    }
   ],
   "source": [
    "# analysis of island names\n",
    "\n",
    "# input data\n",
    "islas_galapagos = ['Isabella', 'Fernandina', 'San Salvador', 'Santa Cruz', \n",
    "        'San Cristobal', 'Floreana']\n",
    "\n",
    "# function that returns a sorted list of unique letters from an input string\n",
    "def get_letters(name):\n",
    "    letters_list = []\n",
    "    for char in name:\n",
    "        if char.isalpha():\n",
    "            letters_list.append(char)\n",
    "    letters_list = list(set(letters_list))\n",
    "    letters_list.sort()\n",
    "    return letters_list\n",
    "\n",
    "# main loop analyzes each input string\n",
    "for x in islas_galapagos :\n",
    "    print(\"The name of the island\", x)\n",
    "    print(\"  is\", len(x), \"letters long\")\n",
    "    print(\"  ends with the letters\", x[-3:])\n",
    "    if ' ' in x : \n",
    "        print (\"  is composed of multiple words\") \n",
    "    else :\n",
    "        print (\"  is composed of one word\")\n",
    "    print(\"  contains the letters\", get_letters(x))\n",
    "    print()\n",
    "\n",
    "# summary of work done\n",
    "print('Total island names analyzed:', len(islas_galapagos))"
   ]
  },
  {
   "cell_type": "markdown",
   "id": "f1d8aa9f-f067-448c-8a51-2b011fd01e6c",
   "metadata": {},
   "source": [
    "### Libraries\n",
    "\n",
    "Standard libraries:   \n",
    "* Do not need to be installed   \n",
    "* Contain many very useful data structures and functions    \n",
    "* Some common standard libraries: math, statistics, itertools, datetime, pathlb, sqlite3 \n",
    "   \n",
    "Third-party libraries:   \n",
    "* Must be installed before use   \n",
    "* Some common third-party libraries: scipy, numpy, pandas, matplotlib, seaborn   \n",
    "   \n",
    "All libraries must be imported before use and referred to by name when calling functions to avoid \"name collisions\"   "
   ]
  },
  {
   "cell_type": "code",
   "execution_count": 2,
   "id": "a63b58e7-15ad-4b3f-bc16-e95cb12552f9",
   "metadata": {},
   "outputs": [
    {
     "ename": "NameError",
     "evalue": "name 'factorial' is not defined",
     "output_type": "error",
     "traceback": [
      "\u001b[0;31m---------------------------------------------------------------------------\u001b[0m",
      "\u001b[0;31mNameError\u001b[0m                                 Traceback (most recent call last)",
      "Cell \u001b[0;32mIn[2], line 2\u001b[0m\n\u001b[1;32m      1\u001b[0m \u001b[38;5;66;03m# try using a standard function that needs to be loaded first\u001b[39;00m\n\u001b[0;32m----> 2\u001b[0m output_value \u001b[38;5;241m=\u001b[39m factorial(\u001b[38;5;241m3\u001b[39m)\n",
      "\u001b[0;31mNameError\u001b[0m: name 'factorial' is not defined"
     ]
    }
   ],
   "source": [
    "# try using a standard function that needs to be loaded first\n",
    "output_value = factorial(3)"
   ]
  },
  {
   "cell_type": "code",
   "execution_count": 4,
   "id": "9a931f25-24eb-48a7-9bb7-fe51c67e5dce",
   "metadata": {},
   "outputs": [
    {
     "ename": "NameError",
     "evalue": "name 'factorial' is not defined",
     "output_type": "error",
     "traceback": [
      "\u001b[0;31m---------------------------------------------------------------------------\u001b[0m",
      "\u001b[0;31mNameError\u001b[0m                                 Traceback (most recent call last)",
      "Cell \u001b[0;32mIn[4], line 2\u001b[0m\n\u001b[1;32m      1\u001b[0m \u001b[38;5;28;01mimport\u001b[39;00m \u001b[38;5;21;01mmath\u001b[39;00m\n\u001b[0;32m----> 2\u001b[0m output_value \u001b[38;5;241m=\u001b[39m factorial(\u001b[38;5;241m3\u001b[39m)\n",
      "\u001b[0;31mNameError\u001b[0m: name 'factorial' is not defined"
     ]
    }
   ],
   "source": [
    "# import the library\n",
    "import math\n",
    "output_value = factorial(3)"
   ]
  },
  {
   "cell_type": "code",
   "execution_count": 7,
   "id": "1d1a0618-705a-464d-b029-807fa0fce11a",
   "metadata": {},
   "outputs": [
    {
     "data": {
      "text/plain": [
       "6"
      ]
     },
     "execution_count": 7,
     "metadata": {},
     "output_type": "execute_result"
    }
   ],
   "source": [
    "# refer to the library to avoid name collisions; now it works!\n",
    "output_value = math.factorial(3)\n",
    "output_value"
   ]
  }
 ],
 "metadata": {
  "kernelspec": {
   "display_name": "Python 3 (ipykernel)",
   "language": "python",
   "name": "python3"
  },
  "language_info": {
   "codemirror_mode": {
    "name": "ipython",
    "version": 3
   },
   "file_extension": ".py",
   "mimetype": "text/x-python",
   "name": "python",
   "nbconvert_exporter": "python",
   "pygments_lexer": "ipython3",
   "version": "3.12.7"
  },
  "panel-cell-order": [
   "3e3b0242-573d-4d80-9697-ba90465df1fb",
   "840e2048-589d-4478-82b7-9162bcfd449e",
   "0bf1ab23-9690-44a1-a186-9aa7a7add15b",
   "bf4b24b0-9884-4403-8c03-970d353588bd"
  ]
 },
 "nbformat": 4,
 "nbformat_minor": 5
}
