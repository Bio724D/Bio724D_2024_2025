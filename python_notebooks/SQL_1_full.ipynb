{
 "cells": [
  {
   "cell_type": "markdown",
   "id": "93686ee0-1347-4248-bd3f-1fe9d3f09b63",
   "metadata": {},
   "source": [
    "## Introduction to SQL\n",
    "\n",
    "Author: Greg Wray  \n",
    "2024-FEB-26"
   ]
  },
  {
   "cell_type": "markdown",
   "id": "16320c8e-9731-434d-a3db-ea16a4b5a629",
   "metadata": {},
   "source": [
    "### Set-up   \n",
    "We will be using **DuckDB** as our relational database mangement system (RDBMS) and **JupySQL** as an interface between DuckDB and JupyterLab. Make sure you've correctly installed the necessary software before you use this notebook (see the separate notebook with instructions and tests). \n",
    "\n",
    "Note: you will get a warning about Pyarrow if you don't have it installed. This won't affect anything you do with this notebook.  "
   ]
  },
  {
   "cell_type": "code",
   "execution_count": null,
   "id": "c166cfc5-d979-424b-87f1-b98a81441286",
   "metadata": {},
   "outputs": [],
   "source": [
    "# load the libraries we will need\n",
    "import numpy as np\n",
    "import pandas as pd\n",
    "import duckdb\n",
    "\n",
    "# use a magic to load the JupySQL extension\n",
    "%load_ext sql"
   ]
  },
  {
   "cell_type": "markdown",
   "id": "4c3dea03-6000-4869-94f8-722a9bcc377e",
   "metadata": {},
   "source": [
    "### Build a database\n",
    "\n",
    "First, we will create an empty database. To do this, we use a magic to indicate that the rest of the line is SQL code. In this particular case, it is actually a meta-statement specific to JupySQL that instructs DuckDB to create a new in-memory database."
   ]
  },
  {
   "cell_type": "code",
   "execution_count": null,
   "id": "e19fbfd0-9034-46ce-b3dd-7e1a8319b40a",
   "metadata": {},
   "outputs": [],
   "source": [
    "%sql duckdb://"
   ]
  },
  {
   "cell_type": "markdown",
   "id": "fad57eff-052f-4c98-862a-36759c832a3f",
   "metadata": {},
   "source": [
    "Now we're ready to define the tables that will make up the relational database and read in the data.\n",
    "\n",
    "Make sure you have all 7 `s_*.csv` files in your working directory. \n",
    "\n",
    "We will use the cell magic `%%sql` to tell Jupyter that the entire code block should be interpreted as SQL. Note that cell magics must be the first line of code in a block and consist of `%%` immediately followed by the name of the magic. \n",
    "\n",
    "Important: the database will persist only as long as the notebook is open or until the kernel is reset. If you re-open the notebook or re-start the kernel, you'll need to run this code block again. We'll go over how to save a database to disk in the second SQL session.\n",
    "\n",
    "Note that comments in SQL are indicated by `--` (double dash sign); as with R and Python, comments can apply to an entire line or to the remainder of a line."
   ]
  },
  {
   "cell_type": "code",
   "execution_count": null,
   "id": "7e3aa952-8040-4b2e-bcc2-93fcafd09613",
   "metadata": {},
   "outputs": [],
   "source": [
    "%%sql\n",
    "\n",
    "-- create 7 tables and read in data for each from .csv files\n",
    "-- we will examine table creation  next week, but for now comments provide a brief explanation\n",
    "    \n",
    "DROP TABLE IF EXISTS orders;             -- allows us to re-install a table if we mistakenly mess it up\n",
    "CREATE TABLE orders(                     -- creates and names the table\n",
    "    order_ioc VARCHAR PRIMARY KEY,       -- specifies 1st column: name, data type, and primary key\n",
    "    seq SMALLINT NOT NULL,               -- specifies 2nd column: name, data type, and required value\n",
    "    familiar_order VARCHAR,              -- specifies 3rd column: name, data type\n",
    "    taxonomy VARCHAR                     -- specifies 4th column: name, data type\n",
    "    );                                   -- closes column definitions \n",
    "COPY orders FROM 's_orders.csv';         -- reads in data from file (column order must match!)\n",
    "\n",
    "DROP TABLE IF EXISTS families;\n",
    "CREATE TABLE families(\n",
    "    family_ioc VARCHAR PRIMARY KEY,\n",
    "    seq SMALLINT NOT NULL,\n",
    "    order_ioc VARCHAR NOT NULL,\n",
    "    familiar_family VARCHAR,\n",
    "    niche VARCHAR,\n",
    "    taxonomy VARCHAR,\n",
    "    num_gen SMALLINT NOT NULL,\n",
    "    num_spp SMALLINT NOT NULL,\n",
    "    num_spp_x SMALLINT NOT NULL,\n",
    "    num_threat SMALLINT NOT NULL\n",
    "    );\n",
    "COPY families FROM 's_families.csv';\n",
    "\n",
    "DROP TABLE IF EXISTS genera;\n",
    "CREATE TABLE genera(\n",
    "    genus_ioc VARCHAR PRIMARY KEY,\n",
    "    seq SMALLINT NOT NULL,\n",
    "    family_ioc VARCHAR NOT NULL,\n",
    "    familiar_genus VARCHAR,\n",
    "    taxonomy VARCHAR,\n",
    "    num_spp SMALLINT NOT NULL\n",
    "    );\n",
    "COPY genera FROM 's_genera.csv';\n",
    "\n",
    "DROP TABLE IF EXISTS species;\n",
    "CREATE TABLE species(\n",
    "    seq SMALLINT PRIMARY KEY,\n",
    "    genus_ioc VARCHAR NOT NULL,\n",
    "    species_ioc VARCHAR NOT NULL,\n",
    "    num_spp SMALLINT NOT NULL,\n",
    "    familiar_ioc VARCHAR,\n",
    "    conservation VARCHAR,\n",
    "    endemic VARCHAR\n",
    "    );\n",
    "COPY species FROM 's_species.csv';\n",
    "\n",
    "DROP TABLE IF EXISTS observations;\n",
    "CREATE TABLE observations(\n",
    "    seq SMALLINT PRIMARY KEY,\n",
    "    genus_ioc VARCHAR NOT NULL,\n",
    "    species_ioc VARCHAR NOT NULL,\n",
    "    subspecies_ioc VARCHAR NOT NULL,\n",
    "    date_obs DATE,\n",
    "    time_obs VARCHAR,\n",
    "    location_name VARCHAR NOT NULL,\n",
    "    trip_name VARCHAR NOT NULL,\n",
    "    notes VARCHAR\n",
    "    );\n",
    "COPY observations FROM 's_observations.csv';\n",
    "\n",
    "DROP TABLE IF EXISTS trips;\n",
    "CREATE TABLE trips(\n",
    "    trip_name VARCHAR PRIMARY KEY,\n",
    "    start_date DATE NOT NULL,\n",
    "    end_date DATE NOT NULL\n",
    "    );\n",
    "COPY trips FROM 's_trips.csv';\n",
    "\n",
    "DROP TABLE IF EXISTS locations;\n",
    "CREATE TABLE locations(\n",
    "    location_name VARCHAR PRIMARY KEY,\n",
    "    province VARCHAR,\n",
    "    country_name VARCHAR,\n",
    "    bioregion_name VARCHAR,\n",
    "    climate VARCHAR,\n",
    "    protection VARCHAR,\n",
    "    earliest DATE NOT NULL,\n",
    "    latest DATE NOT NULL\n",
    "    );\n",
    "COPY locations FROM 's_locations.csv';"
   ]
  },
  {
   "cell_type": "markdown",
   "id": "5ff699ad-a229-4953-bcf7-1fa975f6894f",
   "metadata": {},
   "source": [
    "Next, we will remove the default limit of 10 on the maximum number of rows returned when we make a query. To do this, we will use a different magic, this time to indicate we want to change a configuration setting. The statement itself consists of the variable name and the new value we want to assign. Somewhat counter-intuitively, the value 0 corresponds to \"no limit\"; any positive integer will set the corresponding limit.  "
   ]
  },
  {
   "cell_type": "code",
   "execution_count": null,
   "id": "2522fe6d-1cd7-4e35-9059-f91e20b33c03",
   "metadata": {},
   "outputs": [],
   "source": [
    "%config SqlMagic.displaylimit = 0"
   ]
  },
  {
   "cell_type": "markdown",
   "id": "b0c6549d-a316-4ad5-84ab-22caf47646c5",
   "metadata": {},
   "source": [
    "### Test the database\n",
    "\n",
    "It's good practice to check that your newly constructed database is installed correctly. One way to do that is to make sure all the rows are present in individual tables. The expected number of records for three of the tables are as follows:   \n",
    "* orders: 44\n",
    "* families: 252\n",
    "* observations: 13510\n",
    "\n",
    "YOUR TURN: substitute the table names below as needed to check that other tables have been correctly imported."
   ]
  },
  {
   "cell_type": "code",
   "execution_count": null,
   "id": "03e64427-985d-4434-a636-b225bce482c9",
   "metadata": {},
   "outputs": [],
   "source": [
    "%%sql \n",
    "-- return the number of rows\n",
    "SELECT COUNT(*) FROM orders;"
   ]
  },
  {
   "cell_type": "markdown",
   "id": "639e8340-59af-4d4e-b516-4749dbf1dce5",
   "metadata": {},
   "source": [
    "We can also check whether all of the columns are present. The expected number of columns in three of the tables are as follows:\n",
    "* genera: 6\n",
    "* locations: 8   \n",
    "* observations: 9\n",
    "\n",
    "YOUR TURN: substitute the table names below as needed to check that other tables have been correctly imported. Note that the output has a separate row for each column in the table."
   ]
  },
  {
   "cell_type": "code",
   "execution_count": null,
   "id": "70ac76e3-edbb-474b-883d-c88dbf4bcb61",
   "metadata": {},
   "outputs": [],
   "source": [
    "%%sql \n",
    "-- return information about the columns in a table\n",
    "SELECT * FROM pragma_table_info ('genera');"
   ]
  },
  {
   "cell_type": "markdown",
   "id": "6ae48de0-1c37-472b-b794-f9c916e3b8f3",
   "metadata": {},
   "source": [
    "### Simple queries"
   ]
  },
  {
   "cell_type": "markdown",
   "id": "c9528f69-27f9-4c61-a0d2-1c6a8546c0b9",
   "metadata": {},
   "source": [
    "`SELECT` is the workhorse of data retrieval in SQL. It can be used in simple constructions to filter and process rows in a single table or in complex statements that involve grouping, aliases, functions, nested queries, and joins between multiple tables. We will start by working with data in a single table to introduce some of the basic filtering and output capabilities.  \n",
    "\n",
    "SQL is case-insensitive. However, the convention is to use upper-case for keywords and functions, and use lower case for indentifiers (table and column names). This will make your SQL code more readable.\n",
    "\n",
    "A simple `SELECT` statement is shown below. The `*` character means *return all columns*, while the default behavior of `SELECT` is to return all rows. Thus, this query returns *all* of the data in the `genera` table. "
   ]
  },
  {
   "cell_type": "code",
   "execution_count": null,
   "id": "40d0f400-5d84-4caa-803e-72e0b31e65bb",
   "metadata": {},
   "outputs": [],
   "source": [
    "%%sql \n",
    "-- return the entire contents of the genera table\n",
    "SELECT * FROM orders;"
   ]
  },
  {
   "cell_type": "markdown",
   "id": "8abde46e-66e0-4c20-a4e7-9ca6fba30b87",
   "metadata": {},
   "source": [
    "For queries that return many rows, it is convenient to specify a limit on the number of rows using a `LIMIT` clause. \n",
    "\n",
    "YOUR TURN: The `orders` table contains only 44 rows, but the `genera` table is much longer. Try substituting `genera` in place of orders to get a feel for why including a `LIMIT` is helpful. "
   ]
  },
  {
   "cell_type": "code",
   "execution_count": null,
   "id": "27c6ae11-5fe9-4ed9-bc0a-8e421446d32c",
   "metadata": {},
   "outputs": [],
   "source": [
    "%%sql \n",
    "-- return the first 5 rows of the genera table\n",
    "SELECT  * FROM genera LIMIT 10;"
   ]
  },
  {
   "cell_type": "markdown",
   "id": "512940e1-c01f-4e64-9c14-8761158a65b9",
   "metadata": {},
   "source": [
    "Note above that rows are returned in a seemingly random order. We'll cover how to order output later.\n",
    "\n",
    "Often, we want to filter rows based on a condition. Conditions apply values in a particular column or set of columns. Include a `WHERE` clause to specify the condition. When construting a condition, logical, arithmetic, and set operators work as expected; SQL also provides some additional operators, including `LIKE` and `BETWEEN`. Brackets can be used to indicate compound conditions. \n",
    "\n",
    "Important: SQL requires that clauses appear in a particular order! `WHERE` clauses must follow `FROM` and table name(s). `LIMIT` clauses are last. "
   ]
  },
  {
   "cell_type": "code",
   "execution_count": null,
   "id": "33bd5cac-0ecc-46bf-88d5-e3808cbb8c17",
   "metadata": {},
   "outputs": [],
   "source": [
    "%%sql \n",
    "-- return the records for every species observed within a given genus\n",
    "SELECT * FROM species WHERE genus_ioc = 'Bubo';"
   ]
  },
  {
   "cell_type": "code",
   "execution_count": null,
   "id": "e0c35691-1152-4147-8938-de6c6900782f",
   "metadata": {},
   "outputs": [],
   "source": [
    "%%sql\n",
    "-- return the rows where a family contains greater than five recently extinct species\n",
    "SELECT * FROM families WHERE num_spp_x > 5;"
   ]
  },
  {
   "cell_type": "code",
   "execution_count": null,
   "id": "890b6ca8-e13f-4050-bf8e-2914dd8fc78f",
   "metadata": {},
   "outputs": [],
   "source": [
    "%%sql\n",
    "-- return rows containing families with names that alphabetically follow a specified word\n",
    "SELECT * FROM genera WHERE genus_ioc > 'Vireo';"
   ]
  },
  {
   "cell_type": "code",
   "execution_count": null,
   "id": "b3c86fc3-f1cf-460e-8878-5709f6c8025e",
   "metadata": {},
   "outputs": [],
   "source": [
    "%%sql \n",
    "-- return rows containing families that are part of a specified set\n",
    "SELECT * FROM genera WHERE family_ioc IN ('Todidae', 'Momotidae', 'Meropidae');"
   ]
  },
  {
   "cell_type": "code",
   "execution_count": null,
   "id": "974e2f48-9c64-402c-9e2b-79cded7dacad",
   "metadata": {},
   "outputs": [],
   "source": [
    "%%sql \n",
    "-- return rows containing families that have more than 2 extinct species and contain fewer than 10 genera\n",
    "SELECT * FROM families WHERE num_spp_x > 2 AND num_gen < 10;"
   ]
  },
  {
   "cell_type": "code",
   "execution_count": null,
   "id": "8e7d0b20-b3b9-4d35-b8c9-861842207756",
   "metadata": {},
   "outputs": [],
   "source": [
    "%%sql\n",
    "-- return rows with genus names that start with 'J', 'K' or 'L' (note 'indexing' is like Python)\n",
    "SELECT * FROM families WHERE family_ioc BETWEEN 'J' AND 'L';"
   ]
  },
  {
   "cell_type": "markdown",
   "id": "024f3678-617c-42e8-a571-61a88b64458e",
   "metadata": {},
   "source": [
    "YOUR TURN: to understand how `BETWEEN` works, try changing the first or second string.\n",
    "\n",
    "To search for a substring within a specific column, use the `LIKE` keyword and the expansion\n",
    "`%` to indicate \"anything\". The expansion character can precede or follow the search substring (or both). Filtering with `LIKE` is case-sensitive with DuckDB, but be aware that this is not the case with some other implementations of SQL."
   ]
  },
  {
   "cell_type": "code",
   "execution_count": null,
   "id": "97c29c8d-c899-45ac-a647-e2f21d5823b1",
   "metadata": {},
   "outputs": [],
   "source": [
    "%%sql \n",
    "-- return rows where family name starts with 'Str'\n",
    "SELECT * FROM genera WHERE genus_ioc LIKE 'Str%';"
   ]
  },
  {
   "cell_type": "code",
   "execution_count": null,
   "id": "39e77383-ff8e-4064-aa46-974724e0634e",
   "metadata": {},
   "outputs": [],
   "source": [
    "%%sql \n",
    "-- return rows where family name contains with 'ng'\n",
    "SELECT * FROM genera WHERE genus_ioc LIKE '%ng%';"
   ]
  },
  {
   "cell_type": "markdown",
   "id": "9e8c4902-0e38-4da8-89e5-2659fc3a2b21",
   "metadata": {},
   "source": [
    "An important feature of relational databases is that the rows (records) are not stored in a predictable or even stable order. This allows for faster filter and sort operations, but it does mean that you need to be explicit when you want results returned in a particular order.  \n",
    "\n",
    "To sort output, we can include an `ORDER BY` clause: the keyword followed by the name of the column(s) to sort on. By default, rows are returned in ascending order, but this behavior can be changed by including the keyword `DESC`."
   ]
  },
  {
   "cell_type": "code",
   "execution_count": null,
   "id": "364ac6b8-48c3-43b5-8a98-328e3b6df968",
   "metadata": {},
   "outputs": [],
   "source": [
    "%%sql \n",
    "-- return rows in alphabetical order by family name (note: ascending order is default)\n",
    "SELECT * FROM genera ORDER BY genus_ioc LIMIT 5;"
   ]
  },
  {
   "cell_type": "code",
   "execution_count": null,
   "id": "de0be848-ba38-417b-ba11-c19491b9a3bf",
   "metadata": {},
   "outputs": [],
   "source": [
    "%%sql\n",
    "-- return the five families with the most extinct species (note: sort in descending order)\n",
    "SELECT * FROM families ORDER BY num_spp_x DESC LIMIT 5;"
   ]
  },
  {
   "cell_type": "markdown",
   "id": "632f5583-bbe3-42b1-af7c-05a9e4548fa7",
   "metadata": {},
   "source": [
    "In many cases, we only need to see some of the information in the rows returned by a query. Replace the `*` with the name(s) of the columns to retrieve a subset. (Note that the `*` is also modeled on the expansions used in Unix and stands for \"all\".)"
   ]
  },
  {
   "cell_type": "code",
   "execution_count": null,
   "id": "9e157318-b313-43d4-99c9-5b6d1a31f649",
   "metadata": {},
   "outputs": [],
   "source": [
    "%%sql \n",
    "-- return family name and niche only and sort by IOC ordination (note: uses the seq column to sort)\n",
    "SELECT family_ioc, familiar_family, niche FROM families ORDER BY seq LIMIT 5;"
   ]
  },
  {
   "cell_type": "markdown",
   "id": "030c6de7-7653-434a-bb6b-6d17a88cf3a1",
   "metadata": {},
   "source": [
    "### Summarizing and grouping data\n",
    "\n",
    "SQL offers powerful summarizing and grouping capabilities that have inspired packages in other languages, including dplyr and Pandas. We will explore these using a single table for simplicity, but bear in mind that they can also be applied to the output of more complex queries, such as those covered in later sections of this notebook. \n",
    "\n",
    "Note that SQL automatically assigns a column name for computed output (i.e., anything other than column values)."
   ]
  },
  {
   "cell_type": "code",
   "execution_count": null,
   "id": "15ecece8-dafb-41d4-b8d6-df23256a3cd5",
   "metadata": {},
   "outputs": [],
   "source": [
    "%%sql\n",
    "-- return the largest number of genera in a single family\n",
    "SELECT MAX(num_gen) FROM families;"
   ]
  },
  {
   "cell_type": "code",
   "execution_count": null,
   "id": "6b87bd4d-5e68-4af0-8ca2-8b1fe36ca132",
   "metadata": {},
   "outputs": [],
   "source": [
    "%%sql\n",
    "-- returns the mean number of genera in each family\n",
    "SELECT MEAN (num_gen) FROM families;"
   ]
  },
  {
   "cell_type": "markdown",
   "id": "61f08c86-488a-488e-a113-ee3124820558",
   "metadata": {},
   "source": [
    "To aggregate rows by value, use a `GROUP BY` clause and specify column or columns to use. This clause follows the `FROM` or `WHERE` clause (if present) and preceds the `ORDER BY` and `LIMIT` clauses (if present). In the example below, we group by location name. We can then get tallies of the number of observations at each location using the `COUNT` function.  \n",
    "\n",
    "As queries become more complex, it is common to use multiple lines and indenting to improve readability. "
   ]
  },
  {
   "cell_type": "code",
   "execution_count": null,
   "id": "c5f92376-fc4c-4d60-80b8-498b7d6ec384",
   "metadata": {},
   "outputs": [],
   "source": [
    "%%sql\n",
    "-- return the number of records at each location\n",
    "SELECT\n",
    "  location_name,\n",
    "  COUNT(*)\n",
    "FROM\n",
    "  observations\n",
    "GROUP BY\n",
    "  location_name\n",
    "ORDER BY\n",
    "  COUNT() DESC           -- just the top 10 locations\n",
    "LIMIT \n",
    "  10;"
   ]
  },
  {
   "cell_type": "markdown",
   "id": "d57593da-2a5f-4de5-95f7-9f201fa7c67f",
   "metadata": {},
   "source": [
    "Another useful function is `DISTINCT`. Use it to return the number of unique entries in a column. `DISTINCT` can be combined with `COUNT` and `GROUP BY`for powerful summarizing queries.  "
   ]
  },
  {
   "cell_type": "code",
   "execution_count": null,
   "id": "5c6e478e-4d43-44fe-a63a-33031a536784",
   "metadata": {},
   "outputs": [],
   "source": [
    "%%sql\n",
    "-- returns the number of locations where a given species has been observed\n",
    "SELECT\n",
    "  genus_ioc,\n",
    "  species_ioc,\n",
    "  COUNT(DISTINCT (location_name))\n",
    "FROM\n",
    "  observations\n",
    "WHERE\n",
    "  genus_ioc = 'Falco'\n",
    "  AND species_ioc = 'tinnunculus'\n",
    "GROUP BY\n",
    "  genus_ioc,\n",
    "  species_ioc;"
   ]
  },
  {
   "cell_type": "markdown",
   "id": "aabebe85-2f78-4150-93ab-708e7c549efd",
   "metadata": {},
   "source": [
    "### Aliases   \n",
    "Looking at the results of the last few queries above, it's clear that the automatically assigned column labels aren't ideal. Using more intuitive labels makes output easier to interpret. To do this, we can assign an alias using the keyword `AS` followed by a name. Aliases without any spaces do not need quotes. \n",
    "\n",
    "A second important use for aliases is to simplify table names. We will see examples later, when we get to queries that involve multiple tables.\n",
    "                                                                                                                                    \n",
    "Note that aliases are not saved in memory; they apply only to the current query."
   ]
  },
  {
   "cell_type": "code",
   "execution_count": null,
   "id": "2dd98148-7b68-40c7-94f8-ddbd379b4906",
   "metadata": {},
   "outputs": [],
   "source": [
    "%%sql \n",
    "-- return the number of species observed within each genus ranked by number observed\n",
    "--     note that any alias introduced in the SELECT clause must also go in the ORDER BY clause \n",
    "--     also note the location of the DESC keyword (try placing it after genus and see what happens)\n",
    "SELECT\n",
    "  genus_ioc AS genus,           -- define the aliases here and next line\n",
    "  COUNT(*) AS species_seen\n",
    "FROM\n",
    "  species\n",
    "GROUP BY\n",
    "  genus_ioc\n",
    "ORDER BY\n",
    "  species_seen DESC,            -- use the aliases here and next line\n",
    "  genus\n",
    "LIMIT\n",
    "  10;"
   ]
  },
  {
   "cell_type": "markdown",
   "id": "4d118566-b43a-468f-8611-a4c14567b383",
   "metadata": {},
   "source": [
    "Another helpful way to label output is to use the function `CONCAT` to create strings that can be assigned to an alias. Strings can contain a mix of column values and whatever you provide. Enclose your text in quotes and separate items with commas.\n",
    "\n",
    "With the current database, genus and species names are stored separately, so `CONCAT` is particularly useful for combining them into a single column when returning the results of a query."
   ]
  },
  {
   "cell_type": "code",
   "execution_count": null,
   "id": "dc57f4c3-f6d8-4f47-9f5e-5e8e2603da3e",
   "metadata": {
    "scrolled": true
   },
   "outputs": [],
   "source": [
    "%%sql\n",
    "-- returns the first observation of each species in a given genus and labels the output\n",
    "--     note the use of CONCAT to join the genus and species output and insert a space for readability\n",
    "--     note the quotes in the second alias, which are needed since the alias contains spaces \n",
    "SELECT\n",
    "  CONCAT(genus_ioc, ' ', species_ioc) AS species,\n",
    "  MIN(date_obs) AS 'first seen'\n",
    "FROM\n",
    "  observations\n",
    "WHERE\n",
    "  genus_ioc = 'Falco'\n",
    "GROUP BY\n",
    "  genus_ioc,\n",
    "  species_ioc;"
   ]
  },
  {
   "cell_type": "markdown",
   "id": "147afe0b-e0ca-4385-8313-91ce2d6b2b7b",
   "metadata": {},
   "source": [
    "By combining aliases and grouping functions, it is possible to create reports that summarize several different kinds of information. Building on the previous query, we can ask for additional details about sightings of a particular species."
   ]
  },
  {
   "cell_type": "code",
   "execution_count": null,
   "id": "d18964ab-6479-4d22-ba7c-3e7966be0885",
   "metadata": {},
   "outputs": [],
   "source": [
    "%%sql\n",
    "-- returns the first observation of each species within a given genus and labels the output\n",
    "--     note the use of CONCAT to join the genus and species output and insert a space for readability\n",
    "--     note the quotes in the second alias, which are needed since the alias contains spaces \n",
    "SELECT\n",
    "  CONCAT (genus_ioc, ' ', species_ioc) AS species,\n",
    "  COUNT(seq) AS '# times seen',\n",
    "  MIN(date_obs) AS 'first seen',\n",
    "  MAX(date_obs) AS 'last seen',\n",
    "  COUNT(DISTINCT (location_name)) AS '# places',\n",
    "  COUNT(DISTINCT (subspecies_ioc)) AS '# subspecies'\n",
    "FROM\n",
    "  observations\n",
    "WHERE\n",
    "  genus_ioc = 'Falco'\n",
    "GROUP BY\n",
    "  genus_ioc,\n",
    "  species_ioc;"
   ]
  },
  {
   "cell_type": "markdown",
   "id": "1bbcf776-6d84-4766-a0a4-c4edd85532e8",
   "metadata": {},
   "source": [
    "### Nested queries\n",
    "\n",
    "Nested queries are useful when we want to first narrow a search, then query the results in a different way. With nested queries, the \"inner\" query is executed first, followed by a second \"outer\" query that only considers the rows returned by the first query. \n",
    "\n",
    "The example below returns the name of every species that has been observed within a given family. This information is stored in multiple tables: the `genera` table has a column that assigns every genus to a family. We will first query that table to retrieve a list of all genera in the family of interest. Next we will query the `species` table to retrieve the genus and species names of every entry in the list returned by the first query. "
   ]
  },
  {
   "cell_type": "code",
   "execution_count": null,
   "id": "cc1a5dc5-9743-46de-b965-80548e6bf539",
   "metadata": {},
   "outputs": [],
   "source": [
    "%%sql\n",
    "-- return the names of all species observed in a given family\n",
    "--    first, filter the genera table for entries in that family and return the genus names\n",
    "--    then, use the results of that query as a condition to query the observations table \n",
    "SELECT -- this SELECT returns rows that match the set returned by the nested query\n",
    "  CONCAT (genus_ioc, ' ', species_ioc) AS species,\n",
    "  familiar_ioc AS 'common name'\n",
    "FROM\n",
    "  species\n",
    "WHERE\n",
    "  genus_ioc IN (\n",
    "    SELECT genus_ioc                   -- beginning of the nested query (executes first)\n",
    "    FROM genera\n",
    "    WHERE family_ioc = 'Musophagidae'\n",
    "    ORDER BY seq\n",
    "  )                                    -- end of the nested query\n",
    "GROUP BY\n",
    "  genus_ioc,\n",
    "  species_ioc,\n",
    "  familiar_ioc\n",
    "ORDER BY\n",
    "  genus_ioc,\n",
    "  species_ioc\n",
    "LIMIT\n",
    "  10;"
   ]
  },
  {
   "cell_type": "markdown",
   "id": "51c9b272-aaeb-4ec3-bfa1-c4f712a83bde",
   "metadata": {},
   "source": [
    "Nested queries can be useful for tabulating counts from multiple tables into a single report. The query below introduces two new features. First, it demonstrates the use of `SELECT` simply as a wrapper for several nested queries. Note that there is no table name in the outer query. Second, it demonstrates how to access a built-in variable using `SELECT`. Retrieving the value of`CURRENT_DATE` provides a date stamp on output. If we want to save this output, we now have a record of when the query was made."
   ]
  },
  {
   "cell_type": "code",
   "execution_count": null,
   "id": "95643c0f-b98a-4385-be76-096cdaab7632",
   "metadata": {},
   "outputs": [],
   "source": [
    "%%sql\n",
    "-- return the number of species observed and the total number recognized\n",
    "SELECT\n",
    "  (SELECT CURRENT_DATE) AS 'as of',\n",
    "  (SELECT COUNT(DISTINCT (genus_ioc, species_ioc)) FROM species) AS 'species observed',\n",
    "  (SELECT SUM(num_spp) FROM families) AS 'out of a total of';"
   ]
  },
  {
   "cell_type": "markdown",
   "id": "b40ec9b0-3967-41e5-83f2-14f291022fc6",
   "metadata": {},
   "source": [
    "### Joins\n",
    "\n",
    "The real power of SQL is its ability to query data from multiple tables at once using (relatively) simple statements. This can be done by including a `JOIN` clause that specifies *how* to merge results and specifies one or more *relations* that link one or more columns between two or more tables.\n",
    "\n",
    "The most commmon kind of join is a *left join*, where *every* row from the first table is returned, attached to *any* row from the second table where a value matches a row in the relation column(s) of the first table. If there is no match in the second table, `NULL` values will be inserted. Left joins allow for a one-to-many relationship between rows in the first table to those in the second table: a row from the first table might appear mutliple times if more than one row in the second table contains matching values in the related column. This is perfect for joining taxonomic tables, which have an inherently nested structure with a variable number of contents at each level and where every higher taxon contains at least one lower taxon (e.g., a family always contains at least one genus but it might contain more than one). Left joins are also useful for our `observations` table, where multiple records may be related to a single species or trip or location.     \n",
    "\n",
    "It is often the case that the same column name appears in multiple tables within a relational database. To make explicit which column of the same name you wish to reference, simply append the table name and a `.` before the column name. Columns specified in this way are said to be *fully qualified*. When writing queries that involve multiple tables, you only need to fully qualify if a column name exists in more than one table. However, fully qualifying is always allowed even when not needed, and doing so can make the logic of a query clearer. \n",
    "\n",
    "When dealing with multiple tables, using aliases for table names can help to simplify a query. A common convention is to use a single letters corresponding the table's full name. \n",
    "\n",
    "Most versions of SQL accept more than one syntax for indicating a join. We'll use the newer and recommended syntax, but be aware that other ways to specify joins exist and are commonly used. Also be aware that it is possible (but not recommended) to create *implicit joins* by leaving out the `JOIN` keyword and simply specifying one or more relations in a `WHERE` clause. This produces a *cross join*, which can work in simple queries but is often not what you actually want. You will almost certainly encounter both of these alternative approaches if you refer to code from ChatGPT or StackOverflow. Best practice is to always use explicit joins and the syntax introduced below.\n",
    "\n",
    "Let's start by constructing a query that returns the number of species that have been observed within each country. The `observations` table only stores the name of a location, not the country is it located in; that information is stored in the `locations` table. We'll create a left join of these tables to combine the information and then filter for the number of distinct country names. "
   ]
  },
  {
   "cell_type": "code",
   "execution_count": null,
   "id": "8e98c7d5-627e-4db6-b505-f2316de81acc",
   "metadata": {
    "scrolled": true
   },
   "outputs": [],
   "source": [
    "%%sql\n",
    "-- return the number of species observed within each country visited\n",
    "-- this requires:\n",
    "--    (1) grouping and counting distinct locations in the observations table\n",
    "--    (2) a left join of the locations table onto the observations table based on location name  \n",
    "SELECT\n",
    "  country_name AS country,\n",
    "  COUNT(DISTINCT (genus_ioc, species_ioc)) AS num_species\n",
    "FROM\n",
    "  observations AS o                         -- we need every row from this table\n",
    "  LEFT JOIN locations AS l                  -- we only need rows that match in this table\n",
    "  ON o.location_name = l.location_name      -- this is the column we will use to match rows\n",
    "GROUP BY\n",
    "  country\n",
    "ORDER BY\n",
    "  num_species DESC                          -- order output by number of species observed, high to low\n",
    "LIMIT\n",
    "  10;"
   ]
  },
  {
   "cell_type": "markdown",
   "id": "51ff5c39-7175-4a2c-bd1e-ba87ac76151f",
   "metadata": {},
   "source": [
    "The join appears to be successful, but there is a problem: the fourth row lists the country \"None\". What is going on? This is an indication that there are rows in the `observations` where the value in the `location_name` column can't find a match in the corresponding column of the `locations` table. But which ones? Fortunately, SQL has a mechanism for figuring this out automatically, so we don't have to scroll through the two tables trying to figure out how to find typos or missing values. We'll learn how to do this next week.\n",
    "\n",
    "The next query reports how many species have been observed from each genus relative to the total. It joins the `genus` and `species` tables and returns three numbers, each derived in a different way: (1) a tally of the number of species observed, using `GROUP BY` and the `COUNT` function; (2) the total number of species in that genus, read directly from the `genus.num_spp` column; and (3) a computed value (yes, you can do math with SQL!). "
   ]
  },
  {
   "cell_type": "code",
   "execution_count": null,
   "id": "3e3d5777-3c6b-45b6-97b6-09e98145386e",
   "metadata": {},
   "outputs": [],
   "source": [
    "%%sql\n",
    "-- returns the proportion of species observed within each genus\n",
    "SELECT\n",
    "  species.genus_ioc,\n",
    "  COUNT(species_ioc) AS num_obs,\n",
    "  genera.num_spp AS num_total,\n",
    "  ROUND(((COUNT(species_ioc) + 0.0) / genera.num_spp), 3) * 100 AS percent\n",
    "FROM species\n",
    "  LEFT JOIN genera \n",
    "  ON species.genus_ioc = genera.genus_ioc\n",
    "GROUP BY\n",
    "  genera.seq,\n",
    "  species.genus_ioc,\n",
    "  genera.num_spp\n",
    "ORDER BY\n",
    "  genera.seq\n",
    "LIMIT\n",
    "  20;"
   ]
  },
  {
   "cell_type": "markdown",
   "id": "165333b7-a53c-429a-9837-77920c6b50dd",
   "metadata": {},
   "source": [
    "### Views\n",
    "\n",
    "What if we want to left join the genera and species tables to the output of the orders and famlies left join? We could do this with two levels of nested joins, but that would be difficult to read and even more difficult to debug. Instead, we can use temporary intermediate tables called *views*.\n",
    "\n",
    "Views persist after they are created and can be subsequently queried by name; however they only persist for the *current* session and must be reconstituted every session. In both regards, creating a view is analogous to an assignment statement in R or Python that creates a data object.\n",
    "\n",
    "Something to be aware of: if you update the contents of an actual table, any view based on it is automatically updated as well."
   ]
  },
  {
   "cell_type": "code",
   "execution_count": null,
   "id": "7d2ee3a1-26a3-405f-9e4c-21367f0cba67",
   "metadata": {},
   "outputs": [],
   "source": [
    "%%sql\n",
    "-- creates a view that preserves the output of the query that follows\n",
    "-- think of this as assigning the output to a variable name\n",
    "CREATE\n",
    "OR REPLACE VIEW tax1 AS\n",
    "SELECT\n",
    "  orders.order_ioc AS orders,\n",
    "  families.family_ioc AS families\n",
    "FROM orders \n",
    "  LEFT JOIN families                          \n",
    "  ON orders.order_ioc = families.order_ioc    \n",
    "ORDER BY\n",
    "  families.seq;"
   ]
  },
  {
   "cell_type": "markdown",
   "id": "6046dd89-82a8-4dfd-9144-45cddbf32faf",
   "metadata": {},
   "source": [
    "Now we can treat `tax1` as if it were a table."
   ]
  },
  {
   "cell_type": "code",
   "execution_count": null,
   "id": "7ab4562d-1551-467f-8966-433d55b10361",
   "metadata": {},
   "outputs": [],
   "source": [
    "%%sql\n",
    "SELECT * FROM tax1 LIMIT 20;"
   ]
  },
  {
   "cell_type": "markdown",
   "id": "0b5f5906-8f84-44b3-8e26-aa1c9a40b98d",
   "metadata": {},
   "source": [
    "This means we can use `tax1` in a left join with the `genus` table. "
   ]
  },
  {
   "cell_type": "code",
   "execution_count": null,
   "id": "4d696ef2-aeed-4cf1-a728-dec6f9fd8740",
   "metadata": {},
   "outputs": [],
   "source": [
    "%%sql\n",
    "-- create a new view that contains the following query\n",
    "--     return the a list of every genus and the family and order to which it belongs\n",
    "CREATE\n",
    "OR REPLACE VIEW tax2 AS\n",
    "SELECT\n",
    "  tax1.orders,\n",
    "  tax1.families,\n",
    "  genera.genus_ioc AS genera\n",
    "FROM tax1\n",
    "  LEFT JOIN genera \n",
    "  ON tax1.families = genera.family_ioc\n",
    "ORDER BY\n",
    "  genera.seq;"
   ]
  },
  {
   "cell_type": "code",
   "execution_count": null,
   "id": "28759295-beec-4de9-83b7-a6d019c801c8",
   "metadata": {},
   "outputs": [],
   "source": [
    "%%sql\n",
    "SELECT * FROM tax2 LIMIT 20;"
   ]
  },
  {
   "cell_type": "markdown",
   "id": "eafc6185-6352-4fa1-9808-083b5f88cd9e",
   "metadata": {},
   "source": [
    "Now, we can join the `species` table to `tax2` to create a giant table that includes every species with a full enumeration of the higher-level taxa it belongs to. "
   ]
  },
  {
   "cell_type": "code",
   "execution_count": null,
   "id": "b27498be-dfb8-418d-9f70-e6b9cdf30268",
   "metadata": {},
   "outputs": [],
   "source": [
    "%%sql\n",
    "-- create a new view that contains the following query\n",
    "--     return the a list of every genus and the family and order to which it belongs\n",
    "CREATE\n",
    "OR REPLACE VIEW tax3 AS\n",
    "SELECT\n",
    "  tax2.orders,\n",
    "  tax2.families,\n",
    "  tax2.genera,\n",
    "  species.species_ioc AS species\n",
    "FROM tax2\n",
    "  LEFT JOIN species \n",
    "  ON tax2.genera = species.genus_ioc\n",
    "ORDER BY\n",
    "  species.seq;"
   ]
  },
  {
   "cell_type": "code",
   "execution_count": null,
   "id": "19aae36d-b98f-415c-8b1c-5e6c1b1f554e",
   "metadata": {},
   "outputs": [],
   "source": [
    "%%sql\n",
    "SELECT * FROM tax3 LIMIT 30;"
   ]
  },
  {
   "cell_type": "markdown",
   "id": "b2c73687-b4db-4034-ad5e-07449540c5de",
   "metadata": {},
   "source": [
    "Note how much **redundancy** is present in `tax3`. This is why relational databases are so much more efficient in terms of memory and comptutation. In the present case, well over half of the cells in the table contain repeated information! \n",
    "\n",
    "Just imagine your frustration if the IOC split the family Anatidae into two families. This would require updating **a lot** of individual cells in the giant table. But updating would only require a few changes in a relational structure. This not only makes updates simpler, but it is a huge advantage for maintaining the integrity of data."
   ]
  },
  {
   "cell_type": "code",
   "execution_count": null,
   "id": "13ba159b-1658-4d0b-ae65-707698fea548",
   "metadata": {},
   "outputs": [],
   "source": []
  }
 ],
 "metadata": {
  "kernelspec": {
   "display_name": "Python 3 (ipykernel)",
   "language": "python",
   "name": "python3"
  },
  "language_info": {
   "codemirror_mode": {
    "name": "ipython",
    "version": 3
   },
   "file_extension": ".py",
   "mimetype": "text/x-python",
   "name": "python",
   "nbconvert_exporter": "python",
   "pygments_lexer": "ipython3",
   "version": "3.10.13"
  }
 },
 "nbformat": 4,
 "nbformat_minor": 5
}
