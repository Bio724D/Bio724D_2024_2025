{
 "cells": [
  {
   "cell_type": "markdown",
   "id": "93686ee0-1347-4248-bd3f-1fe9d3f09b63",
   "metadata": {},
   "source": [
    "## Introduction to SQL\n",
    "\n",
    "Author: Greg Wray  \n",
    "2024-FEB-26"
   ]
  },
  {
   "cell_type": "markdown",
   "id": "16320c8e-9731-434d-a3db-ea16a4b5a629",
   "metadata": {},
   "source": [
    "### Set-up   \n",
    "We will be using **DuckDB** as our relational database mangement system (RDBMS) and **JupySQL** as an interface between DuckDB and JupyterLab. Make sure you've correctly installed the necessary software before you use this notebook (see the separate notebook with instructions and tests). \n",
    "\n",
    "Note: you will get a warning about Pyarrow if you don't have it installed. This won't affect anything you do with this notebook.  "
   ]
  },
  {
   "cell_type": "code",
   "execution_count": null,
   "id": "c166cfc5-d979-424b-87f1-b98a81441286",
   "metadata": {},
   "outputs": [],
   "source": [
    "# load the libraries we will need\n",
    "import numpy as np\n",
    "import pandas as pd\n",
    "import duckdb\n",
    "\n",
    "# use a magic to load the JupySQL extension\n",
    "%load_ext sql"
   ]
  },
  {
   "cell_type": "markdown",
   "id": "4c3dea03-6000-4869-94f8-722a9bcc377e",
   "metadata": {},
   "source": [
    "### Build a database\n",
    "\n",
    "First, we will create an empty database. To do this, we use a magic to indicate that the rest of the line is SQL code. In this particular case, it is actually a meta-statement specific to JupySQL that instructs DuckDB to create a new in-memory database."
   ]
  },
  {
   "cell_type": "code",
   "execution_count": null,
   "id": "e19fbfd0-9034-46ce-b3dd-7e1a8319b40a",
   "metadata": {},
   "outputs": [],
   "source": [
    "%sql duckdb://"
   ]
  },
  {
   "cell_type": "markdown",
   "id": "fad57eff-052f-4c98-862a-36759c832a3f",
   "metadata": {},
   "source": [
    "Now we're ready to define the tables that will make up the relational database and read in the data.\n",
    "\n",
    "Make sure you have all 7 `s_*.csv` files in your working directory. \n",
    "\n",
    "We will use the cell magic `%%sql` to tell Jupyter that the entire code block should be interpreted as SQL. Note that cell magics must be the first line of code in a block and consist of `%%` immediately followed by the name of the magic. \n",
    "\n",
    "Important: the database will persist only as long as the notebook is open or until the kernel is reset. If you re-open the notebook or re-start the kernel, you'll need to run this code block again. We'll go over how to save a database to disk in the second SQL session.\n",
    "\n",
    "Note that comments in SQL are indicated by `--` (double dash sign); as with R and Python, comments can apply to an entire line or to the remainder of a line."
   ]
  },
  {
   "cell_type": "code",
   "execution_count": null,
   "id": "7e3aa952-8040-4b2e-bcc2-93fcafd09613",
   "metadata": {},
   "outputs": [],
   "source": [
    "%%sql\n",
    "\n",
    "-- create 7 tables and read in data for each from .csv files\n",
    "-- we will examine table creation  next week, but for now comments provide a brief explanation\n",
    "    \n",
    "DROP TABLE IF EXISTS orders;             -- allows us to re-install a table if we mistakenly mess it up\n",
    "CREATE TABLE orders(                     -- creates and names the table\n",
    "    order_ioc VARCHAR PRIMARY KEY,       -- specifies 1st column: name, data type, and primary key\n",
    "    seq SMALLINT NOT NULL,               -- specifies 2nd column: name, data type, and required value\n",
    "    familiar_order VARCHAR,              -- specifies 3rd column: name, data type\n",
    "    taxonomy VARCHAR                     -- specifies 4th column: name, data type\n",
    "    );                                   -- closes column definitions \n",
    "COPY orders FROM 's_orders.csv';         -- reads in data from file (column order must match!)\n",
    "\n",
    "DROP TABLE IF EXISTS families;\n",
    "CREATE TABLE families(\n",
    "    family_ioc VARCHAR PRIMARY KEY,\n",
    "    seq SMALLINT NOT NULL,\n",
    "    order_ioc VARCHAR NOT NULL,\n",
    "    familiar_family VARCHAR,\n",
    "    niche VARCHAR,\n",
    "    taxonomy VARCHAR,\n",
    "    num_gen SMALLINT NOT NULL,\n",
    "    num_spp SMALLINT NOT NULL,\n",
    "    num_spp_x SMALLINT NOT NULL,\n",
    "    num_threat SMALLINT NOT NULL\n",
    "    );\n",
    "COPY families FROM 's_families.csv';\n",
    "\n",
    "DROP TABLE IF EXISTS genera;\n",
    "CREATE TABLE genera(\n",
    "    genus_ioc VARCHAR PRIMARY KEY,\n",
    "    seq SMALLINT NOT NULL,\n",
    "    family_ioc VARCHAR NOT NULL,\n",
    "    familiar_genus VARCHAR,\n",
    "    taxonomy VARCHAR,\n",
    "    num_spp SMALLINT NOT NULL\n",
    "    );\n",
    "COPY genera FROM 's_genera.csv';\n",
    "\n",
    "DROP TABLE IF EXISTS species;\n",
    "CREATE TABLE species(\n",
    "    seq SMALLINT PRIMARY KEY,\n",
    "    genus_ioc VARCHAR NOT NULL,\n",
    "    species_ioc VARCHAR NOT NULL,\n",
    "    num_spp SMALLINT NOT NULL,\n",
    "    familiar_ioc VARCHAR,\n",
    "    conservation VARCHAR,\n",
    "    endemic VARCHAR\n",
    "    );\n",
    "COPY species FROM 's_species.csv';\n",
    "\n",
    "DROP TABLE IF EXISTS observations;\n",
    "CREATE TABLE observations(\n",
    "    seq SMALLINT PRIMARY KEY,\n",
    "    genus_ioc VARCHAR NOT NULL,\n",
    "    species_ioc VARCHAR NOT NULL,\n",
    "    subspecies_ioc VARCHAR NOT NULL,\n",
    "    date_obs DATE,\n",
    "    time_obs VARCHAR,\n",
    "    location_name VARCHAR NOT NULL,\n",
    "    trip_name VARCHAR NOT NULL,\n",
    "    notes VARCHAR\n",
    "    );\n",
    "COPY observations FROM 's_observations.csv';\n",
    "\n",
    "DROP TABLE IF EXISTS trips;\n",
    "CREATE TABLE trips(\n",
    "    trip_name VARCHAR PRIMARY KEY,\n",
    "    start_date DATE NOT NULL,\n",
    "    end_date DATE NOT NULL\n",
    "    );\n",
    "COPY trips FROM 's_trips.csv';\n",
    "\n",
    "DROP TABLE IF EXISTS locations;\n",
    "CREATE TABLE locations(\n",
    "    location_name VARCHAR PRIMARY KEY,\n",
    "    province VARCHAR,\n",
    "    country_name VARCHAR,\n",
    "    bioregion_name VARCHAR,\n",
    "    climate VARCHAR,\n",
    "    protection VARCHAR,\n",
    "    earliest DATE NOT NULL,\n",
    "    latest DATE NOT NULL\n",
    "    );\n",
    "COPY locations FROM 's_locations.csv';"
   ]
  },
  {
   "cell_type": "markdown",
   "id": "5ff699ad-a229-4953-bcf7-1fa975f6894f",
   "metadata": {},
   "source": [
    "Next, we will remove the default limit of 10 on the maximum number of rows returned when we make a query. To do this, we will use a different magic, this time to indicate we want to change a configuration setting. The statement itself consists of the variable name and the new value we want to assign. Somewhat counter-intuitively, the value 0 corresponds to \"no limit\"; any positive integer will set the corresponding limit.  "
   ]
  },
  {
   "cell_type": "code",
   "execution_count": null,
   "id": "2522fe6d-1cd7-4e35-9059-f91e20b33c03",
   "metadata": {},
   "outputs": [],
   "source": [
    "%config SqlMagic.displaylimit = 0"
   ]
  },
  {
   "cell_type": "markdown",
   "id": "b0c6549d-a316-4ad5-84ab-22caf47646c5",
   "metadata": {},
   "source": [
    "### Test the database\n",
    "\n",
    "It's good practice to check that your newly constructed database is installed correctly. One way to do that is to make sure all the rows are present in individual tables. The expected number of records for three of the tables are as follows:   \n",
    "* orders: 44\n",
    "* families: 252\n",
    "* observations: 13510\n",
    "\n",
    "YOUR TURN: substitute the table names below as needed to check that other tables have been correctly imported."
   ]
  },
  {
   "cell_type": "code",
   "execution_count": null,
   "id": "03e64427-985d-4434-a636-b225bce482c9",
   "metadata": {},
   "outputs": [],
   "source": [
    "%%sql \n",
    "-- return the number of rows\n",
    "SELECT COUNT(*) FROM orders;"
   ]
  },
  {
   "cell_type": "markdown",
   "id": "639e8340-59af-4d4e-b516-4749dbf1dce5",
   "metadata": {},
   "source": [
    "We can also check whether all of the columns are present. The expected number of columns in three of the tables are as follows:\n",
    "* genera: 6\n",
    "* locations: 8   \n",
    "* observations: 9\n",
    "\n",
    "YOUR TURN: substitute the table names below as needed to check that other tables have been correctly imported. Note that the output has a separate row for each column in the table."
   ]
  },
  {
   "cell_type": "code",
   "execution_count": null,
   "id": "70ac76e3-edbb-474b-883d-c88dbf4bcb61",
   "metadata": {},
   "outputs": [],
   "source": [
    "%%sql \n",
    "-- return information about the columns in a table\n",
    "SELECT * FROM pragma_table_info ('genera');"
   ]
  },
  {
   "cell_type": "markdown",
   "id": "6ae48de0-1c37-472b-b794-f9c916e3b8f3",
   "metadata": {},
   "source": [
    "### Simple queries"
   ]
  },
  {
   "cell_type": "code",
   "execution_count": null,
   "id": "9e157318-b313-43d4-99c9-5b6d1a31f649",
   "metadata": {},
   "outputs": [],
   "source": []
  },
  {
   "cell_type": "markdown",
   "id": "030c6de7-7653-434a-bb6b-6d17a88cf3a1",
   "metadata": {},
   "source": [
    "### Summarizing and grouping data"
   ]
  },
  {
   "cell_type": "code",
   "execution_count": null,
   "id": "15ecece8-dafb-41d4-b8d6-df23256a3cd5",
   "metadata": {},
   "outputs": [],
   "source": []
  },
  {
   "cell_type": "markdown",
   "id": "aabebe85-2f78-4150-93ab-708e7c549efd",
   "metadata": {},
   "source": [
    "### Aliases   "
   ]
  },
  {
   "cell_type": "code",
   "execution_count": null,
   "id": "2dd98148-7b68-40c7-94f8-ddbd379b4906",
   "metadata": {},
   "outputs": [],
   "source": []
  },
  {
   "cell_type": "markdown",
   "id": "1bbcf776-6d84-4766-a0a4-c4edd85532e8",
   "metadata": {},
   "source": [
    "### Nested queries"
   ]
  },
  {
   "cell_type": "code",
   "execution_count": null,
   "id": "cc1a5dc5-9743-46de-b965-80548e6bf539",
   "metadata": {},
   "outputs": [],
   "source": []
  },
  {
   "cell_type": "markdown",
   "id": "b40ec9b0-3967-41e5-83f2-14f291022fc6",
   "metadata": {},
   "source": [
    "### Joins"
   ]
  },
  {
   "cell_type": "code",
   "execution_count": null,
   "id": "8e98c7d5-627e-4db6-b505-f2316de81acc",
   "metadata": {
    "scrolled": true
   },
   "outputs": [],
   "source": []
  },
  {
   "cell_type": "markdown",
   "id": "165333b7-a53c-429a-9837-77920c6b50dd",
   "metadata": {},
   "source": [
    "### Views"
   ]
  },
  {
   "cell_type": "code",
   "execution_count": null,
   "id": "7d2ee3a1-26a3-405f-9e4c-21367f0cba67",
   "metadata": {},
   "outputs": [],
   "source": []
  }
 ],
 "metadata": {
  "kernelspec": {
   "display_name": "Python 3 (ipykernel)",
   "language": "python",
   "name": "python3"
  },
  "language_info": {
   "codemirror_mode": {
    "name": "ipython",
    "version": 3
   },
   "file_extension": ".py",
   "mimetype": "text/x-python",
   "name": "python",
   "nbconvert_exporter": "python",
   "pygments_lexer": "ipython3",
   "version": "3.10.13"
  }
 },
 "nbformat": 4,
 "nbformat_minor": 5
}
