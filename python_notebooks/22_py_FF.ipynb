{
 "cells": [
  {
   "cell_type": "markdown",
   "id": "e11c1992-7bfb-43a7-bccc-162273a4d077",
   "metadata": {},
   "source": [
    "# 22: Flow and functions in Python\n",
    "\n",
    "Author: Greg Wray  \n",
    "Date: 2025-MAR-18\n",
    "  \n",
    "Type code into this notebook during lecture. Run code in the selected cell by clicking the `run` (play button) icon or typing `shift-return`.  \n",
    "Modify and experiment!! This is the best way to get a feel for how Python works (and any other language).   \n",
    "Consider adding comments to record notes and findings: `#` starts a comment on a new line or part way through a line (just like R and bash). "
   ]
  },
  {
   "cell_type": "markdown",
   "id": "100bf23e-6c48-42be-ab07-810afdee8322",
   "metadata": {},
   "source": [
    "## Example of functions and control flow\n",
    "\n",
    "The following program converts a protein FASTA file into a more easily computable format. This program illustrates the use of functions and control flow, as well as working with dictionaries and using context managers for file operations.\n",
    "\n",
    "FASTA files have an awkward organization, with each entry on two consecutive lines; in addition, there may or may not be a description following the file identifier and the sequence may or may not contain newline escape sequences. \n",
    "\n",
    "This program reads a protein FASTA file and converts the contents into a Python dictionary with the following organization:      \n",
    "* key = identifier with '>' removed   \n",
    "* value = list composed of two items: the description after the identifier plus the sequence with newlines removed   \n",
    "\n",
    "It includes three functions to work with the dictionary: \n",
    "* view a specified range of items \n",
    "* add a \"column\" representing the length of the protein\n",
    "* output the dictionary in `.csv` fomat"
   ]
  },
  {
   "cell_type": "code",
   "execution_count": null,
   "id": "68dea5e5-2a6e-4cbc-b87e-145e9a729591",
   "metadata": {},
   "outputs": [],
   "source": [
    "### program to read a FASTA file and convert to dictionary \n",
    "\n",
    "# and with ability to ouput dictionary as a .csv file\n",
    "\n",
    "# function to create a new \"column\" containing the length of the protein\n",
    "\n",
    "# function to return a specified range of items in a dictionary as a list\n",
    "\n",
    "# function to convert the dictionary into a .csv file\n",
    "    \n",
    "# read contents of file into a single string\n",
    "\n",
    "# create a list of entries\n",
    "\n",
    "# convert the entries into a dictionary\n",
    "\n",
    "# create a new \"column\" containing the length of the protein\n",
    "\n",
    "#view a range of items in the dictionary\n",
    "\n",
    "# export the dictionary to a file\n"
   ]
  },
  {
   "cell_type": "markdown",
   "id": "23ae426c-bbed-42c2-b82a-3e07857578fd",
   "metadata": {},
   "source": [
    "## Functional programming with map() and filter()\n",
    "`map()` and `filter()` provide a compact and readable way to apply an operation to every item in an iterable by creating **implicit loops**. These functions are useful in situations where you want to apply *simple* functions or filtering operations. Note that the first argument passed to these these functions is a function  and the second argument is an interable.  "
   ]
  },
  {
   "cell_type": "code",
   "execution_count": null,
   "id": "b6d324d6-aa37-47bc-b54d-d4f02f47095a",
   "metadata": {},
   "outputs": [],
   "source": [
    "# create some lists to work with\n",
    "list_a = ['armadillo', 'orca', 'three-toed sloth', 'pronghorn', 'aardvark', 'pangolin', 'fruit bat']\n",
    "list_b = list(range(20))\n",
    "print(list_b)"
   ]
  },
  {
   "cell_type": "markdown",
   "id": "f426ed95-e120-47c3-bfaf-ebafc302f3ec",
   "metadata": {},
   "source": [
    "Use `map()` to apply a function to each item in an iterable. `map()` takes two arguments: the function you want to apply and an iterable that you want to apply it to. Note that the function must take exactly one argument, namely the next item in the iterable. Also note that `map()` returns a map object, not a data object of the same type you give it. For this reason, it is common to wrap calls to `map()` with `list()` so that you can work with the result. "
   ]
  },
  {
   "cell_type": "code",
   "execution_count": null,
   "id": "ce3f6ab9-661a-4793-b140-d4fd507a5f20",
   "metadata": {},
   "outputs": [],
   "source": [
    "# find the length of each item the traditional way using a loop\n"
   ]
  },
  {
   "cell_type": "code",
   "execution_count": null,
   "id": "a99c4a24-3f43-4bdb-944d-9c3e38aadf7b",
   "metadata": {},
   "outputs": [],
   "source": [
    "# apply map() to a list of strings\n"
   ]
  },
  {
   "cell_type": "code",
   "execution_count": null,
   "id": "b9f50222-ecab-4b59-88fa-c20cdb6570d3",
   "metadata": {},
   "outputs": [],
   "source": [
    "# find the square of each item the traditional way using a loop\n"
   ]
  },
  {
   "cell_type": "code",
   "execution_count": null,
   "id": "869a9793-8622-4b84-9afe-b9687d37a868",
   "metadata": {},
   "outputs": [],
   "source": [
    "# apply map() to a list of integers\n"
   ]
  },
  {
   "cell_type": "markdown",
   "id": "8b8dc666-c419-4d7d-aa6d-c7d4ae0992a4",
   "metadata": {},
   "source": [
    "Use `filter()` to apply a filter to each item in an iterable, returning only those items that match a condition. Importantly, the condition must be specified in a function. The examples below use simple filters, but the filtering criteria can be as complicated as you want because they are encapsulated in the function. Otherwise, `filter()` works similarly to `map()`."
   ]
  },
  {
   "cell_type": "code",
   "execution_count": null,
   "id": "0caeb167-6d9d-4530-86a8-3d86c15a06df",
   "metadata": {},
   "outputs": [],
   "source": [
    "# filter for strings that start with 'p' the traditional way using a loop\n"
   ]
  },
  {
   "cell_type": "code",
   "execution_count": null,
   "id": "0cc38ad3-b093-4d0f-a4aa-3e207fdfd240",
   "metadata": {},
   "outputs": [],
   "source": [
    "# filter for strings that start with 'p' using filter()\n"
   ]
  },
  {
   "cell_type": "code",
   "execution_count": null,
   "id": "5d3a6e22-598f-4119-b853-df12bea96e01",
   "metadata": {},
   "outputs": [],
   "source": [
    "# filter for numbers divisible by 3 the traditional way using a loop\n"
   ]
  },
  {
   "cell_type": "code",
   "execution_count": null,
   "id": "8e2e9348-6531-4c7f-8b53-d6f057f751e6",
   "metadata": {},
   "outputs": [],
   "source": [
    "# filter for numbers divisible by 3 using filter()\n"
   ]
  },
  {
   "cell_type": "markdown",
   "id": "a5a5ace4-117a-4601-ab82-0c1e86984621",
   "metadata": {},
   "source": [
    "## Lambda functions\n",
    "Lambda functions are often described as \"anonymous\" or \"temporary\" functions. The examples above illustrate why they are useful. We can simplify and save several lines of code using `map()` or `filter()`; however, in many cases we need to define a function before we can take adavantage of these functions, which somewhat defeats the purpose. Lambda functions solve this problem by allowing us to define a function directly within the call to  `map()` or `filter()`. Lambda functions are also useful in other situations, including *comprehensions* (below). In addition, they are commonly used in Python code, so learning how they work is well worth the effort. In general, lambda functions are most useful when (1) you only need to call the function once and (2) the function is simple. "
   ]
  },
  {
   "cell_type": "code",
   "execution_count": null,
   "id": "cfd8b43b-2f8f-4f3f-8907-99b62bf6403b",
   "metadata": {},
   "outputs": [],
   "source": [
    "# apply map() to a list of integers using a lambda function\n"
   ]
  },
  {
   "cell_type": "code",
   "execution_count": null,
   "id": "25f4753f-1407-4d45-9da6-eb5218692d2d",
   "metadata": {},
   "outputs": [],
   "source": [
    "# apply filter() to a list of strings using a lambda function\n"
   ]
  },
  {
   "cell_type": "markdown",
   "id": "40a36adf-8045-4bc3-8e5e-a14940bd68d4",
   "metadata": {},
   "source": [
    "## Functional programming with comprehensions\n",
    "**Comprehensions** provide another functional programming paradigm in Python. Comprehensions are generally more readable than using `map()` and `filter()`, and they are more versatile because you can combine both operations in a single statement. Comprehensions can be applied to any iterator, but are most commonly applied to lists, so you will likely encounter them in the form of **list comprehensions**.\n",
    "\n",
    "Here are the basic formulas, applied to lists: \n",
    "* apply a function or operation to each item: `new_list = [new_item for item in list]` \n",
    "* filter items: `new_list = [item for item in list if condition]`\n",
    "* apply a function or operation to items after filtering: `new_list = [new_item for item in list if condition]`\n",
    "\n",
    "As with many programming concepts, it's easiest to see how this works by experimenting with some simple cases. The examples below use comprehensions to carry out the for loop, mapping, and filtering operations covered earlier."
   ]
  },
  {
   "cell_type": "code",
   "execution_count": null,
   "id": "7aaa8898-4994-4a13-b1fd-387b4ef9dc08",
   "metadata": {},
   "outputs": [],
   "source": [
    "# use a comprehension to find the length of each item in a list\n",
    "#    same result as the for loop and the map() function examples above\n"
   ]
  },
  {
   "cell_type": "code",
   "execution_count": null,
   "id": "708cf96d-0fb1-43d0-a133-affc93fc1a1f",
   "metadata": {},
   "outputs": [],
   "source": [
    "# use a comprehension to print out each item in a list and apply a method\n"
   ]
  },
  {
   "cell_type": "code",
   "execution_count": null,
   "id": "80e1307c-5f07-4708-a2a8-22c58bc4d415",
   "metadata": {},
   "outputs": [],
   "source": [
    "# use a comprehension to carry out an operation rather than apply a function\n"
   ]
  },
  {
   "cell_type": "code",
   "execution_count": null,
   "id": "062a34bc-60ee-4017-8514-793b37aacd8b",
   "metadata": {},
   "outputs": [],
   "source": [
    "# use a comprehension to filter for divisible by 3 in a list\n",
    "#  same result as the for loop and the filer() function examples above\n"
   ]
  },
  {
   "cell_type": "code",
   "execution_count": null,
   "id": "499b6ffa-d8ba-46ea-b98c-b9fa6456ad2d",
   "metadata": {},
   "outputs": [],
   "source": [
    "# use a comprehension to filter find the first letter of strings longer than 5\n",
    "#    illustrates how to apply a filter and a function in a single statement\n"
   ]
  },
  {
   "cell_type": "markdown",
   "id": "40be1ebb-29f3-42d2-9f57-7630b1683324",
   "metadata": {},
   "source": [
    "In the examples above, note that the core of a comprehension is the loop: `for x in list`. To **alter** the result by applying a function or carrying out an operation, change the code to LHS of the loop. To **filter** the items, add a condition to the LHS of the loop. If you only want to alter the result, simply leave out a condition. If you only want to filter, include the loop variable on the LHS without applying a function or operation (as in the third example above). Finally, if you want to do both, they can be combined in a single comprehension (as in the final example above). \n",
    "\n",
    "Although comprehensions are most commonly applied to lists, they can be used with any iterable type. Note that you need to wrap the comprehension in the appropriate brackets (square, round, curly) to indicate which type of iterable you want back."
   ]
  },
  {
   "cell_type": "code",
   "execution_count": null,
   "id": "22b393c4-a1bc-41e3-bd01-3e02ee6d73bd",
   "metadata": {},
   "outputs": [],
   "source": [
    "# example of a comprehension applied to a set rather than a list\n",
    "#    filters for items of length 6\n",
    "set_a = {'pink', 'yellow', 'amber', 'indigo', 'gray', 'aqua', 'red', 'green', 'violet'}\n"
   ]
  },
  {
   "cell_type": "code",
   "execution_count": null,
   "id": "ff2884c7-fff9-470a-84ec-a2266542eb59",
   "metadata": {},
   "outputs": [],
   "source": [
    "# combine filtering with a function for a set comprehension\n",
    "#    filters for strings of length 6, then extracts the first character\n"
   ]
  },
  {
   "cell_type": "markdown",
   "id": "5b8aee69-e473-4937-b95f-3a2c7952d1c5",
   "metadata": {},
   "source": [
    "The examples so far cover the basic syntax and applications of comprehensions. Below are three useful extensions.\n",
    "    \n",
    "First, it is possible to specify multiple conditions in the RHS of a comprehension. It is helpful but not required to organize the conditions onto separate lines for readability. The example below applies three conditions to test for specific starting and ending letters of each string in list. The first condition avoids run-time errors that would arise from trying to access a string of length 0. Note that the conditions are separated by whitespace (space or return), not commas."
   ]
  },
  {
   "cell_type": "code",
   "execution_count": null,
   "id": "b5fc78e4-0abe-4482-9562-21f3d5e8f6e9",
   "metadata": {},
   "outputs": [],
   "source": [
    "# filter based on specific starting and ending letters of a string\n"
   ]
  },
  {
   "cell_type": "markdown",
   "id": "c8774b9a-1b08-4906-a269-bafa792218c9",
   "metadata": {},
   "source": [
    "Second, it is also possible to use an `if` / `else` structure into the LHS of a comprehension, not to filter, but to perform different operations depending on a condition. A common application is to create a mask for Boolean indexing. (As a quick reminder, we covered Boolean indexing in the first semester with R. This is a fast, versatile way to filter items in a column or other iterable.)"
   ]
  },
  {
   "cell_type": "code",
   "execution_count": null,
   "id": "2d429056-9b17-42bc-b074-e70d91407ab7",
   "metadata": {},
   "outputs": [],
   "source": [
    "# classify items in a list of string according to criteria\n"
   ]
  },
  {
   "cell_type": "markdown",
   "id": "9cdeb65d-0526-4210-9709-bbbc636d0f8f",
   "metadata": {},
   "source": [
    "And third, it is possible to nest loops in a comprehension. This is useful for accessing every item in a matrix so that you can apply a function, carry out an operation, filter, or generate a Boolean index. Nesting can also be useful for simply generating a matrix. The example below generates a 5 x 5 matrix of the numbers 0...4. Note the nesting of square brackets to create an inner and outer loop. If you substitute round brackets in one or the other loop, you can generate a tuple of lists or a list of tuples (or any other compund data structure you wish to create). Also note the use of **anonymous variables**, since we do not need to refer to these variable again (the code will generate exactly the same result if you use i and j or some other variable name).  "
   ]
  },
  {
   "cell_type": "code",
   "execution_count": null,
   "id": "917ff52d-8da9-48e3-9312-9777439c18e4",
   "metadata": {},
   "outputs": [],
   "source": [
    "# generate a matrix using nested list comprehensions\n"
   ]
  },
  {
   "cell_type": "markdown",
   "id": "27cdba91-3743-4c27-9d6e-54937d2e3adb",
   "metadata": {},
   "source": [
    "## Exception handlers\n",
    "Errors that arise during the execution of a program are called **exceptions** in Python. Exceptions can become frustrating if you are running programs that take a long time to execute or that run in an unsupervised setting. The `try` / `except` structure is a special form of control flow that can bypass run-time errors and allow a program to continue excuting. Optionally, custom error reporting can be added. This can also be useful for debugging programs.  "
   ]
  },
  {
   "cell_type": "code",
   "execution_count": null,
   "id": "4958bc95-7010-413a-8b33-554e947aea83",
   "metadata": {},
   "outputs": [],
   "source": [
    "# handle a divide by zero situation\n",
    "values = list(range(-3, 4))\n",
    "for i in values:\n",
    "    try: \n",
    "        print(42/i)\n",
    "    except:\n",
    "        print(\"Warning: divide by zero error!\") \n",
    "print(\"Continuing on to remainder of program\")"
   ]
  },
  {
   "cell_type": "code",
   "execution_count": null,
   "id": "5fc6fd3f-fdfb-463e-a966-93d2a48cde2e",
   "metadata": {},
   "outputs": [],
   "source": [
    "# trapping specific kinds of errors\n",
    "values = [-3, -1, 0, 1, 'a', 3]\n",
    "for i in values:\n",
    "    try: \n",
    "        print(f\"Result: {42/i}\")\n",
    "    except ZeroDivisionError as e:\n",
    "        print(f\"Error: {e}\")\n",
    "    except TypeError as t:\n",
    "        print(f\"Error: {t}\")\n",
    "print(\"Continuing on to remainder of program\")"
   ]
  },
  {
   "cell_type": "markdown",
   "id": "db0fbfef-03ab-4a1d-a314-2f9a04d8c032",
   "metadata": {},
   "source": [
    "## Custom exceptions\n",
    "Python provides specific information about the type of error that caused an exception. It can sometimes be useful to create your own exceptions with the `raise` keyword. For example, you may want to trap obviously incorrect temperature measurements by limiting allowable values to a specific range or a specific data type."
   ]
  },
  {
   "cell_type": "code",
   "execution_count": null,
   "id": "7d6b9eaf-230d-4311-b209-6b629c01a4a5",
   "metadata": {},
   "outputs": [],
   "source": [
    "# trap obviously incorrect temperature values\n",
    "values = [22, 24, 19, 3000, 26] \n",
    "for t in values:\n",
    "    if (t < -20) or (t > 110): \n",
    "        raise ValueError(f\"Temperature unrealistic: {t}\")\n",
    "    else:\n",
    "        print(f\"Temperature = {t}\")"
   ]
  },
  {
   "cell_type": "markdown",
   "id": "2231e17e-9e19-4d7d-b00e-e8913f826ff4",
   "metadata": {},
   "source": [
    "To trap different kinds of errors and provide specific information about each, use one or more `elif` clauses."
   ]
  },
  {
   "cell_type": "code",
   "execution_count": null,
   "id": "3abcde86-9fcc-48d5-b864-e3d6a6805892",
   "metadata": {},
   "outputs": [],
   "source": [
    "# trap obviously incorrect temperature values and non-integer values\n",
    "values = [22, 24, 19, 'a', 26] \n",
    "for t in values:\n",
    "    if (t < -20) or (t > 110): \n",
    "        raise ValueError(f\"Temperature unrealistic: {t}\")\n",
    "    elif type(t) == float:\n",
    "        raise TypeError(f\"Value must be an integer: {t}\")        \n",
    "    else:\n",
    "        print(f\"Temperature = {t}\")"
   ]
  },
  {
   "cell_type": "code",
   "execution_count": null,
   "id": "29b7cd16-682a-41cb-844e-ca45ddeacd44",
   "metadata": {},
   "outputs": [],
   "source": []
  }
 ],
 "metadata": {
  "kernelspec": {
   "display_name": "Python 3 (ipykernel)",
   "language": "python",
   "name": "python3"
  },
  "language_info": {
   "codemirror_mode": {
    "name": "ipython",
    "version": 3
   },
   "file_extension": ".py",
   "mimetype": "text/x-python",
   "name": "python",
   "nbconvert_exporter": "python",
   "pygments_lexer": "ipython3",
   "version": "3.12.7"
  },
  "panel-cell-order": [
   "3e3b0242-573d-4d80-9697-ba90465df1fb",
   "840e2048-589d-4478-82b7-9162bcfd449e",
   "0bf1ab23-9690-44a1-a186-9aa7a7add15b",
   "bf4b24b0-9884-4403-8c03-970d353588bd"
  ]
 },
 "nbformat": 4,
 "nbformat_minor": 5
}
