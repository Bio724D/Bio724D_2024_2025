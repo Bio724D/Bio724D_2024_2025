{
 "cells": [
  {
   "cell_type": "markdown",
   "id": "e11c1992-7bfb-43a7-bccc-162273a4d077",
   "metadata": {},
   "source": [
    "# 21: Working with Python data types\n",
    "\n",
    "Author: Greg Wray  \n",
    "2025-MAR-04  \n",
    "  \n",
    "Type code into this notebook during lecture. Run code in the selected cell by clicking the `run` (play button) icon or typing `shift-return`.  \n",
    "Modify and experiment!! This is the best way to get a feel for how Python works (and any other language).   \n",
    "Consider adding comments to record notes and findings: `#` starts a comment on a new line or part way through a line (just like R and bash). "
   ]
  },
  {
   "cell_type": "markdown",
   "id": "100bf23e-6c48-42be-ab07-810afdee8322",
   "metadata": {},
   "source": [
    "### Pre-defined data structures\n",
    "Use these throughout class to avoid having to type your own!"
   ]
  },
  {
   "cell_type": "code",
   "execution_count": 189,
   "id": "68dea5e5-2a6e-4cbc-b87e-145e9a729591",
   "metadata": {},
   "outputs": [],
   "source": [
    "mammal_tuple = ('mouse', 'fruit bat', 'chimpanzee', 'leopard')\n",
    "fern_list = ['maidenhair', 'tree', 'staghorn']\n",
    "number_list = [1, 2, 3, 4, 5, 6, 7, 8, 9, 0]\n",
    "tiny_str = 'R2D2'\n",
    "short_str = 'Atlantic Right Whale'\n",
    "long_str = '\\'Twas brillig, and the slithy toves\\n   Did gyre and gimble in the wabe:\\nAll mimsy were the borogoves,\\n   And the mome raths outgrabe.'\n",
    "set_A = {1, 2, 3, 4, 5, 6}\n",
    "set_B = {2, 4, 6, 8, 10, 12}\n",
    "birds = ['parrot', 'quail', 'duck']\n",
    "genera = ['Forpus', 'Coturnix', 'Anser']\n",
    "tmnt = {\"Leonardo\": [\"leader\", \"blue\", \"katana\"], \n",
    "        \"Raphael\" : [\"muscle\", \"red\", \"sai\"],\n",
    "        \"Donatello\" : [\"brains\", \"purple\", \"bo\"],\n",
    "        \"Michelangelo\" : [\"comedian\", \"orange\", \"nunchuk\"]}"
   ]
  },
  {
   "cell_type": "markdown",
   "id": "0233b382-6ad4-43f3-a713-f76fe640073f",
   "metadata": {},
   "source": [
    "### Assignment"
   ]
  },
  {
   "cell_type": "code",
   "execution_count": 38,
   "id": "840e2048-589d-4478-82b7-9162bcfd449e",
   "metadata": {
    "panel-layout": {
     "height": 26.470584869384766,
     "visible": true,
     "width": 100
    }
   },
   "outputs": [],
   "source": [
    "# simultaneous assignment\n"
   ]
  },
  {
   "cell_type": "code",
   "execution_count": 39,
   "id": "b6d324d6-aa37-47bc-b54d-d4f02f47095a",
   "metadata": {},
   "outputs": [
    {
     "data": {
      "text/plain": [
       "'leopard'"
      ]
     },
     "execution_count": 39,
     "metadata": {},
     "output_type": "execute_result"
    }
   ],
   "source": [
    "b"
   ]
  },
  {
   "cell_type": "code",
   "execution_count": 37,
   "id": "a99c4a24-3f43-4bdb-944d-9c3e38aadf7b",
   "metadata": {},
   "outputs": [],
   "source": [
    "# swapping\n"
   ]
  },
  {
   "cell_type": "code",
   "execution_count": 40,
   "id": "8e2e9348-6531-4c7f-8b53-d6f057f751e6",
   "metadata": {},
   "outputs": [
    {
     "name": "stdout",
     "output_type": "stream",
     "text": [
      "a = mouse b = leopard\n"
     ]
    }
   ],
   "source": [
    "print('a =', a, 'b =', b)"
   ]
  },
  {
   "cell_type": "code",
   "execution_count": 28,
   "id": "0cc38ad3-b093-4d0f-a4aa-3e207fdfd240",
   "metadata": {},
   "outputs": [
    {
     "name": "stdout",
     "output_type": "stream",
     "text": [
      "i = mouse j= leopard\n"
     ]
    }
   ],
   "source": [
    "# unpacking\n",
    "mammal_tuple = ['mouse', 'fruit bat', 'chimpanzee', 'leopard']\n"
   ]
  },
  {
   "cell_type": "code",
   "execution_count": null,
   "id": "5d3a6e22-598f-4119-b853-df12bea96e01",
   "metadata": {},
   "outputs": [],
   "source": [
    "print('i =', i, 'j=', j)"
   ]
  },
  {
   "cell_type": "code",
   "execution_count": 51,
   "id": "885dc29f-82b9-4cca-8ce9-2e850790e766",
   "metadata": {},
   "outputs": [],
   "source": [
    "# augmented assignment\n",
    "tally = 0\n"
   ]
  },
  {
   "cell_type": "code",
   "execution_count": 52,
   "id": "663393bd-60d2-4237-a68a-57720bd9cc2e",
   "metadata": {},
   "outputs": [
    {
     "data": {
      "text/plain": [
       "2"
      ]
     },
     "execution_count": 52,
     "metadata": {},
     "output_type": "execute_result"
    }
   ],
   "source": [
    "tally"
   ]
  },
  {
   "cell_type": "markdown",
   "id": "565b3c18-a16d-447c-9dab-59cac4927f79",
   "metadata": {},
   "source": [
    "### Working with numbers\n",
    "\n",
    "The following are useful ways to specify and show the values of numeric data types."
   ]
  },
  {
   "cell_type": "code",
   "execution_count": 63,
   "id": "bb9f3ef9-8de9-469f-bcd5-7eb4b07a86c6",
   "metadata": {},
   "outputs": [],
   "source": [
    "# indicating data type\n"
   ]
  },
  {
   "cell_type": "code",
   "execution_count": 64,
   "id": "c65dec07-7a84-404f-ac88-f002580b1814",
   "metadata": {},
   "outputs": [
    {
     "data": {
      "text/plain": [
       "int"
      ]
     },
     "execution_count": 64,
     "metadata": {},
     "output_type": "execute_result"
    }
   ],
   "source": [
    "type(valA)"
   ]
  },
  {
   "cell_type": "code",
   "execution_count": 65,
   "id": "8edce4e3-0505-48da-91a6-aac7ba87a3f5",
   "metadata": {},
   "outputs": [],
   "source": [
    "# assigning values using scientific notation\n"
   ]
  },
  {
   "cell_type": "code",
   "execution_count": 66,
   "id": "b3971e75-8fbb-4144-b02d-7f79d449f690",
   "metadata": {},
   "outputs": [
    {
     "data": {
      "text/plain": [
       "35000.0"
      ]
     },
     "execution_count": 66,
     "metadata": {},
     "output_type": "execute_result"
    }
   ],
   "source": [
    "valD"
   ]
  },
  {
   "cell_type": "code",
   "execution_count": 1,
   "id": "d69bf956-8b56-4496-8b31-feac7ce1ab68",
   "metadata": {},
   "outputs": [],
   "source": [
    "# indicating values of long numbers\n"
   ]
  },
  {
   "cell_type": "code",
   "execution_count": 62,
   "id": "0cb31c2d-405a-4894-9237-12bb3b04affe",
   "metadata": {},
   "outputs": [
    {
     "data": {
      "text/plain": [
       "(1, 0, 395, 321)"
      ]
     },
     "execution_count": 62,
     "metadata": {},
     "output_type": "execute_result"
    }
   ],
   "source": [
    "valG"
   ]
  },
  {
   "cell_type": "markdown",
   "id": "c9f2126e-242e-49ff-8950-4e3db7281114",
   "metadata": {
    "editable": true,
    "slideshow": {
     "slide_type": ""
    },
    "tags": []
   },
   "source": [
    "### Data types and casting"
   ]
  },
  {
   "cell_type": "code",
   "execution_count": 69,
   "id": "0bf1ab23-9690-44a1-a186-9aa7a7add15b",
   "metadata": {
    "editable": true,
    "panel-layout": {
     "height": 26.470584869384766,
     "visible": true,
     "width": 100
    },
    "slideshow": {
     "slide_type": ""
    },
    "tags": []
   },
   "outputs": [],
   "source": [
    "# creating data structures\n"
   ]
  },
  {
   "cell_type": "code",
   "execution_count": 70,
   "id": "14de1dab-2bc8-424d-9b2b-64efb38588a6",
   "metadata": {},
   "outputs": [
    {
     "data": {
      "text/plain": [
       "{'a', 'o', 'p', 'r', 't'}"
      ]
     },
     "execution_count": 70,
     "metadata": {},
     "output_type": "execute_result"
    }
   ],
   "source": [
    "my_list"
   ]
  },
  {
   "cell_type": "code",
   "execution_count": 71,
   "id": "ca205613-c461-4440-b046-7548b515e00b",
   "metadata": {},
   "outputs": [],
   "source": [
    "# creating empty data structures; useful for loop operations\n"
   ]
  },
  {
   "cell_type": "code",
   "execution_count": 72,
   "id": "40fdaec4-6aeb-41eb-b621-577780c7036e",
   "metadata": {},
   "outputs": [
    {
     "data": {
      "text/plain": [
       "set"
      ]
     },
     "execution_count": 72,
     "metadata": {},
     "output_type": "execute_result"
    }
   ],
   "source": [
    "type(empty)"
   ]
  },
  {
   "cell_type": "code",
   "execution_count": 76,
   "id": "9746163d-0d31-4af4-a4c0-86e447a650b8",
   "metadata": {},
   "outputs": [],
   "source": [
    "# creating data structures with range() pattern generator\n",
    "\n",
    "# with optional second and third arguments (works for all of the above)\n"
   ]
  },
  {
   "cell_type": "code",
   "execution_count": 77,
   "id": "9cb7616c-32ec-4205-aa91-1dd7490347be",
   "metadata": {},
   "outputs": [
    {
     "data": {
      "text/plain": [
       "[0, 1, 2, 3, 4, 5, 6, 7, 8, 9]"
      ]
     },
     "execution_count": 77,
     "metadata": {},
     "output_type": "execute_result"
    }
   ],
   "source": [
    "x"
   ]
  },
  {
   "cell_type": "code",
   "execution_count": null,
   "id": "eea83b2a-15d0-43f3-b6c3-01c391c4653a",
   "metadata": {},
   "outputs": [],
   "source": [
    "# casting among atomic data types\n"
   ]
  },
  {
   "cell_type": "code",
   "execution_count": null,
   "id": "118f31cd-9826-4759-8cc2-da0dbf70cda2",
   "metadata": {},
   "outputs": [],
   "source": [
    "type(my_var)"
   ]
  },
  {
   "cell_type": "code",
   "execution_count": null,
   "id": "94b9ac4d-957d-4e45-8b0b-4a7db633361b",
   "metadata": {},
   "outputs": [],
   "source": [
    "# casting among atomic data structures\n"
   ]
  },
  {
   "cell_type": "code",
   "execution_count": null,
   "id": "6806d0f2-9c22-47f8-83b4-3227be191553",
   "metadata": {},
   "outputs": [],
   "source": [
    "type(my_var)"
   ]
  },
  {
   "cell_type": "markdown",
   "id": "c1024683-2d58-461e-b74f-b7fd967a6e45",
   "metadata": {},
   "source": [
    "### Common functions for working with data types and structures"
   ]
  },
  {
   "cell_type": "code",
   "execution_count": null,
   "id": "83411cdd-4088-4577-bc8c-3923ad9384e2",
   "metadata": {},
   "outputs": [],
   "source": [
    "# these work with all data types and structures\n"
   ]
  },
  {
   "cell_type": "code",
   "execution_count": 2,
   "id": "09e6b833-6ed6-46ca-be26-c7db3ec4c890",
   "metadata": {},
   "outputs": [],
   "source": [
    "# these work with all iterables and return numerics\n"
   ]
  },
  {
   "cell_type": "code",
   "execution_count": 79,
   "id": "dcc874d8-130c-43b9-ac1f-145f2ced225a",
   "metadata": {},
   "outputs": [
    {
     "data": {
      "text/plain": [
       "True"
      ]
     },
     "execution_count": 79,
     "metadata": {},
     "output_type": "execute_result"
    }
   ],
   "source": [
    "# these work with all interables and return bools\n"
   ]
  },
  {
   "cell_type": "code",
   "execution_count": 82,
   "id": "97a678f1-c507-4efb-b717-6b2bbabf0578",
   "metadata": {},
   "outputs": [
    {
     "data": {
      "text/plain": [
       "True"
      ]
     },
     "execution_count": 82,
     "metadata": {},
     "output_type": "execute_result"
    }
   ],
   "source": [
    "# testing for membership with any container and return bools\n"
   ]
  },
  {
   "cell_type": "code",
   "execution_count": null,
   "id": "c41ddf95-0acb-4dea-9004-dd8bb90bcfd6",
   "metadata": {},
   "outputs": [],
   "source": [
    "# making a copy of mutable data structures\n"
   ]
  },
  {
   "cell_type": "markdown",
   "id": "7be81175-5818-4144-90fd-8c08fc4d27fe",
   "metadata": {},
   "source": [
    "### Working with strings\n",
    "The examples below are just a few of the many built-in string methods. Explore and experiment to become proficient manipulating strings!\n"
   ]
  },
  {
   "cell_type": "code",
   "execution_count": null,
   "id": "9d4c9a47-9a10-4d04-a5cc-cdede4e0655c",
   "metadata": {},
   "outputs": [],
   "source": [
    "# using different quoting methods \n"
   ]
  },
  {
   "cell_type": "code",
   "execution_count": null,
   "id": "38fbed78-0c27-40d7-8a57-33ec05dc95f0",
   "metadata": {},
   "outputs": [],
   "source": [
    "s"
   ]
  },
  {
   "cell_type": "code",
   "execution_count": null,
   "id": "78f545a1-80af-46f5-8431-dc67423b8db2",
   "metadata": {},
   "outputs": [],
   "source": [
    "# concatenating strings\n"
   ]
  },
  {
   "cell_type": "code",
   "execution_count": null,
   "id": "5fae71d7-237b-46e0-8942-7ae4636ef9d8",
   "metadata": {},
   "outputs": [],
   "source": [
    "s"
   ]
  },
  {
   "cell_type": "code",
   "execution_count": 88,
   "id": "2bf0ffcf-fb98-4ea7-961a-ab3aef47e2db",
   "metadata": {},
   "outputs": [],
   "source": [
    "# retrieving information about a string\n"
   ]
  },
  {
   "cell_type": "code",
   "execution_count": 89,
   "id": "dbb6876f-2568-4275-940b-52a3c277592e",
   "metadata": {},
   "outputs": [
    {
     "data": {
      "text/plain": [
       "False"
      ]
     },
     "execution_count": 89,
     "metadata": {},
     "output_type": "execute_result"
    }
   ],
   "source": [
    "b"
   ]
  },
  {
   "cell_type": "code",
   "execution_count": 97,
   "id": "f510251b-6fb2-4ddf-8262-474d9310ce71",
   "metadata": {},
   "outputs": [],
   "source": [
    "# testing for character properties of a string and returns a bool\n"
   ]
  },
  {
   "cell_type": "code",
   "execution_count": 91,
   "id": "a84e9b36-5311-47ed-b172-0640485fc540",
   "metadata": {},
   "outputs": [
    {
     "data": {
      "text/plain": [
       "False"
      ]
     },
     "execution_count": 91,
     "metadata": {},
     "output_type": "execute_result"
    }
   ],
   "source": [
    "b"
   ]
  },
  {
   "cell_type": "code",
   "execution_count": 108,
   "id": "18c66f20-e4ad-4203-980d-e4790b82da22",
   "metadata": {},
   "outputs": [],
   "source": [
    "# manipulating strings\n"
   ]
  },
  {
   "cell_type": "code",
   "execution_count": 109,
   "id": "b9536a61-7185-4f18-bfc1-1172b66fda57",
   "metadata": {},
   "outputs": [
    {
     "data": {
      "text/plain": [
       "'7342'"
      ]
     },
     "execution_count": 109,
     "metadata": {},
     "output_type": "execute_result"
    }
   ],
   "source": [
    "t"
   ]
  },
  {
   "cell_type": "code",
   "execution_count": 116,
   "id": "a1d12af5-31d7-4fdd-8c28-a9df02e4fa22",
   "metadata": {},
   "outputs": [],
   "source": [
    "# splitting stings; these methods return lists of strings\n"
   ]
  },
  {
   "cell_type": "code",
   "execution_count": 117,
   "id": "7bed7758-280d-4d3d-a0cd-83dc8d9f070d",
   "metadata": {},
   "outputs": [
    {
     "data": {
      "text/plain": [
       "(\"'Twas brillig, and the slithy toves\\n   Did \",\n",
       " 'gyre',\n",
       " ' and gimble in the wabe:\\nAll mimsy were the borogoves,\\n   And the mome raths outgrabe.')"
      ]
     },
     "execution_count": 117,
     "metadata": {},
     "output_type": "execute_result"
    }
   ],
   "source": [
    "s"
   ]
  },
  {
   "cell_type": "code",
   "execution_count": 3,
   "id": "79766162-e0a4-47f4-927d-02359e5e71d7",
   "metadata": {},
   "outputs": [],
   "source": [
    "# formatted strings: the following are just a few examples\n",
    "var1, var2, var3, var4 = 800, 2.23333252342424, 2000000000, 2000000.23242352\n",
    "# examples of formatting numbers\n",
    "\n",
    "# anything in curly braces is evaluated at runtime\n",
    "\n",
    "# date and time formatting: won't cover today but very useful"
   ]
  },
  {
   "cell_type": "markdown",
   "id": "9d56fa8b-a790-42cb-acd0-7280b8fc3efb",
   "metadata": {},
   "source": [
    "### Working with lists\n",
    "Lists are the most common data structure because they are so versatile. The following examples illustrate some of the things you can do with lists."
   ]
  },
  {
   "cell_type": "code",
   "execution_count": 155,
   "id": "04dcbbfe-1777-402f-bfc9-35e30dd04201",
   "metadata": {},
   "outputs": [],
   "source": [
    "# modifying items in a list\n"
   ]
  },
  {
   "cell_type": "code",
   "execution_count": 156,
   "id": "8f4d92ac-3f2c-4687-9958-4eaa1df764e8",
   "metadata": {},
   "outputs": [
    {
     "data": {
      "text/plain": [
       "['bracken', 'Christmas', 'staghorn']"
      ]
     },
     "execution_count": 156,
     "metadata": {},
     "output_type": "execute_result"
    }
   ],
   "source": [
    "fern_list"
   ]
  },
  {
   "cell_type": "code",
   "execution_count": 162,
   "id": "720219d1-8f2b-44c3-8fca-73c297c68a86",
   "metadata": {},
   "outputs": [],
   "source": [
    "# adding items to a list\n"
   ]
  },
  {
   "cell_type": "code",
   "execution_count": null,
   "id": "71fdd585-79f4-4dca-b909-2f800d4b0acb",
   "metadata": {},
   "outputs": [],
   "source": [
    "fern_list"
   ]
  },
  {
   "cell_type": "code",
   "execution_count": null,
   "id": "df5aead4-d9db-43eb-8c11-268a961a86da",
   "metadata": {},
   "outputs": [],
   "source": [
    "# removing items from a list\n",
    "# remove last item and optionally return the value\n",
    "\n",
    "# remove by position (mutating; does not return items)\n",
    "\n",
    "# remove by value (mutating; does not return items)\n",
    "\n",
    "# remove duplicates\n",
    "\n",
    "# remove all items\n"
   ]
  },
  {
   "cell_type": "code",
   "execution_count": 166,
   "id": "971960e7-f0d2-4a22-bd63-39e57bef97d5",
   "metadata": {},
   "outputs": [],
   "source": [
    "# retrieving values from a list\n"
   ]
  },
  {
   "cell_type": "code",
   "execution_count": 167,
   "id": "ea0b700e-a9a8-4881-ba97-529e2f90370e",
   "metadata": {},
   "outputs": [
    {
     "data": {
      "text/plain": [
       "0"
      ]
     },
     "execution_count": 167,
     "metadata": {},
     "output_type": "execute_result"
    }
   ],
   "source": [
    "extracted"
   ]
  },
  {
   "cell_type": "code",
   "execution_count": 173,
   "id": "9ed64428-2b6c-43a4-866c-ce5429b30b15",
   "metadata": {},
   "outputs": [],
   "source": [
    "# retrieving information about the contents of a list\n",
    "# built-in functions work as expected: len(), min(), max(), sum(), all(), any()\n",
    "\n",
    "# test for membership in a list\n",
    "\n",
    "# count items in a list that match a value\n",
    "\n",
    "# retrieve the index of the first item in a list that match a value\n"
   ]
  },
  {
   "cell_type": "code",
   "execution_count": null,
   "id": "dd39916f-17fc-4f05-a3a8-bce44fd923b5",
   "metadata": {},
   "outputs": [],
   "source": [
    "i"
   ]
  },
  {
   "cell_type": "code",
   "execution_count": 178,
   "id": "0b4d2077-2504-48e2-83f9-f29abf37acd3",
   "metadata": {},
   "outputs": [],
   "source": [
    "# sorting and reversing a list\n",
    "\n",
    "# sort in-place\n",
    "\n",
    "# retrieve sorted contents without altering the list\n",
    "\n",
    "# reverse in-place\n",
    "\n",
    "# retrieve reversed contents without altering the list\n"
   ]
  },
  {
   "cell_type": "code",
   "execution_count": 180,
   "id": "500ff088-4b9f-4f3e-8584-201ec7428b94",
   "metadata": {},
   "outputs": [
    {
     "data": {
      "text/plain": [
       "['maidenhair', 'staghorn', 'tree']"
      ]
     },
     "execution_count": 180,
     "metadata": {},
     "output_type": "execute_result"
    }
   ],
   "source": [
    "fern_list\n",
    "# f"
   ]
  },
  {
   "cell_type": "markdown",
   "id": "6b1503f8-c508-4496-8ebe-408066aa567f",
   "metadata": {},
   "source": [
    "### Working with tuples\n",
    "Tuples are commonly returned by functions and methods; they are also useful as a way to protect data from modification."
   ]
  },
  {
   "cell_type": "code",
   "execution_count": 191,
   "id": "968cabef-e262-43e8-ae35-62cf18f83ab3",
   "metadata": {},
   "outputs": [],
   "source": [
    "# creating a tuple\n",
    "mammal_tuple = ('mouse', 'fruit bat', 'chimpanzee', 'leopard')\n"
   ]
  },
  {
   "cell_type": "code",
   "execution_count": 183,
   "id": "f43a83f9-3053-47bc-9691-3090d078d609",
   "metadata": {},
   "outputs": [
    {
     "data": {
      "text/plain": [
       "('parrot',)"
      ]
     },
     "execution_count": 183,
     "metadata": {},
     "output_type": "execute_result"
    }
   ],
   "source": [
    "my_tup"
   ]
  },
  {
   "cell_type": "code",
   "execution_count": 187,
   "id": "57a16cdf-1d3f-4e5f-8317-621fb61c1b16",
   "metadata": {},
   "outputs": [],
   "source": [
    "# retrieving information and contents from a tuple is similar to working with a list\n",
    "# .count() and .index() are the only methods that work with tupbles; see examples with lists"
   ]
  },
  {
   "cell_type": "code",
   "execution_count": 192,
   "id": "6232096d-d30e-41e4-9fb3-25bf0d4444c5",
   "metadata": {},
   "outputs": [
    {
     "ename": "NameError",
     "evalue": "name 'mammmal_tuple' is not defined",
     "output_type": "error",
     "traceback": [
      "\u001b[0;31m---------------------------------------------------------------------------\u001b[0m",
      "\u001b[0;31mNameError\u001b[0m                                 Traceback (most recent call last)",
      "Cell \u001b[0;32mIn[192], line 8\u001b[0m\n\u001b[1;32m      6\u001b[0m m \u001b[38;5;241m=\u001b[39m \u001b[38;5;28msorted\u001b[39m(mammal_tuple, reverse\u001b[38;5;241m=\u001b[39m\u001b[38;5;28;01mTrue\u001b[39;00m)\t\u001b[38;5;66;03m# sorts in reverse order\u001b[39;00m\n\u001b[1;32m      7\u001b[0m \u001b[38;5;66;03m# to retrieve reversed contents\u001b[39;00m\n\u001b[0;32m----> 8\u001b[0m m \u001b[38;5;241m=\u001b[39m \u001b[38;5;28mreversed\u001b[39m(mammmal_tuple)\n",
      "\u001b[0;31mNameError\u001b[0m: name 'mammmal_tuple' is not defined"
     ]
    }
   ],
   "source": [
    "# retrieving sorted  contents of tuples (direct sorting is not possible with tuples)\n"
   ]
  },
  {
   "cell_type": "markdown",
   "id": "d4e9ab55-7f78-4730-b863-36eb4126456c",
   "metadata": {},
   "source": [
    "### Working with sets\n",
    "\n",
    "Sets are among the least appreciated and utilized data structures. The examples below illustrate some of the ways you can use their capabilities."
   ]
  },
  {
   "cell_type": "code",
   "execution_count": null,
   "id": "bd71fc53-e2f3-4986-b3e5-148658b454d3",
   "metadata": {},
   "outputs": [],
   "source": [
    "set_A = {1, 2, 3, 4, 5, 6}\n",
    "set_B = {2, 4, 6, 8, 10, 12}\n",
    "set_C = {22, 33, 44, 55, 66}"
   ]
  },
  {
   "cell_type": "code",
   "execution_count": 193,
   "id": "4612cd1b-a96c-4ecb-b853-de782edc6201",
   "metadata": {},
   "outputs": [],
   "source": [
    "# creating a set\n"
   ]
  },
  {
   "cell_type": "code",
   "execution_count": 194,
   "id": "0e0606b4-93fc-41d6-9737-97fa2a58f3f8",
   "metadata": {},
   "outputs": [
    {
     "data": {
      "text/plain": [
       "set()"
      ]
     },
     "execution_count": 194,
     "metadata": {},
     "output_type": "execute_result"
    }
   ],
   "source": [
    "set_C"
   ]
  },
  {
   "cell_type": "code",
   "execution_count": null,
   "id": "5689f183-4ad7-4379-9c60-a3f9af6784cf",
   "metadata": {},
   "outputs": [],
   "source": [
    "# removing items from a set\n",
    "# to remove based on value\n",
    "\n",
    "# to remove a random item (useful for looping)\n",
    "\n",
    "# to remove all items\n"
   ]
  },
  {
   "cell_type": "code",
   "execution_count": null,
   "id": "740f8580-1872-4d54-82d1-185429e023a8",
   "metadata": {},
   "outputs": [],
   "source": [
    "set_A"
   ]
  },
  {
   "cell_type": "code",
   "execution_count": null,
   "id": "f2b4638f-46bb-4a89-9ec1-3c9d13e80d24",
   "metadata": {},
   "outputs": [],
   "source": [
    "# creating a set based on values in multiple sets\n",
    "# to create a union of sets (transitive)\n",
    "\n",
    "# to create an intersection of sets (transitive)\n",
    "\n",
    "# to create a difference between sets: present in first but not in second (not transitive)\n",
    "\n",
    "# to create a symmetric difference between sets: unique to each (transitive)\n"
   ]
  },
  {
   "cell_type": "code",
   "execution_count": null,
   "id": "928a252c-3df5-4c99-9b83-412c5b586b0f",
   "metadata": {},
   "outputs": [],
   "source": [
    "# adding items to a set based on set operations\n",
    "# unlike the above, these are mutating methods; they change 1 set\n",
    "\n",
    "# parallel update_ methods exist for other set operations"
   ]
  },
  {
   "cell_type": "code",
   "execution_count": null,
   "id": "73a7cefd-3d6b-44ac-8d49-374ae3d5290b",
   "metadata": {},
   "outputs": [],
   "source": [
    "# testing for membership in a set\n"
   ]
  },
  {
   "cell_type": "code",
   "execution_count": null,
   "id": "ae30ee17-3226-4df2-87a1-ac1511aa5d4c",
   "metadata": {},
   "outputs": [],
   "source": [
    "# testing for outcomes of set operations\n",
    "# these operations are limited to 2 sets and are not mutating; they return bools  \n",
    "\n",
    "# alternatively can use operators; this allows the identity testing for all but disjoint"
   ]
  },
  {
   "cell_type": "markdown",
   "id": "b292008f-2e2f-43bf-a6b3-ed5e954f2f45",
   "metadata": {},
   "source": [
    "### Working with dictionaries\n",
    "Dictionaries are commonly used to for a variety of purposes. "
   ]
  },
  {
   "cell_type": "code",
   "execution_count": null,
   "id": "1f9f0c4c-2718-468a-b57e-935f98636579",
   "metadata": {},
   "outputs": [],
   "source": [
    "birds = ['parrot', 'quail', 'duck']\n",
    "genera = ['Forpus', 'Coturnix', 'Anser']\n",
    "tmnt = {\"Leonardo\": [\"leader\", \"blue\", \"katana\"], \n",
    "        \"Raphael\" : [\"muscle\", \"red\", \"sai\"],\n",
    "        \"Donatello\" : [\"brains\", \"purple\", \"bo\"],\n",
    "        \"Michelangelo\" : [\"comedian\", \"orange\", \"nunchuk\"]}"
   ]
  },
  {
   "cell_type": "code",
   "execution_count": null,
   "id": "ca06eeba-0ac7-4ff7-a65a-13f85029bfa6",
   "metadata": {},
   "outputs": [],
   "source": [
    "# creating a dictionary\n",
    "# from scratch\n",
    "\n",
    "# from an iterable with enumerate\n",
    "\n",
    "# from two iterables with zip\n"
   ]
  },
  {
   "cell_type": "code",
   "execution_count": null,
   "id": "525df7d3-1571-41b3-a7fc-c5c2cd8c146a",
   "metadata": {},
   "outputs": [],
   "source": [
    "new_dict"
   ]
  },
  {
   "cell_type": "code",
   "execution_count": null,
   "id": "cf9eafbf-4843-4e76-92ce-c5b5dd238287",
   "metadata": {},
   "outputs": [],
   "source": [
    "# updating and adding values in a dictionary\n",
    "# based on key value\n",
    "\n",
    "# using one or more key:value pairs\n"
   ]
  },
  {
   "cell_type": "code",
   "execution_count": null,
   "id": "a12e6834-b757-46e7-a7ef-523707e3428a",
   "metadata": {},
   "outputs": [],
   "source": [
    "new_dict"
   ]
  },
  {
   "cell_type": "code",
   "execution_count": null,
   "id": "3a5d9ad4-c00e-4e91-933b-6f7834be13d0",
   "metadata": {},
   "outputs": [],
   "source": [
    "# removing values from a dictionary\n",
    "# based on key value; pop() and popitem() return tuples\n",
    "\n",
    "# remove random item\n",
    "\n",
    "# remove all items\n"
   ]
  },
  {
   "cell_type": "code",
   "execution_count": null,
   "id": "d8f3efc4-c04c-4d4b-ad31-04103bd3990b",
   "metadata": {},
   "outputs": [],
   "source": [
    "new_dict"
   ]
  },
  {
   "cell_type": "code",
   "execution_count": null,
   "id": "d01e447f-9a41-400a-8fb8-4def973ee24e",
   "metadata": {},
   "outputs": [],
   "source": [
    "# retrieving information from a dictionary\n",
    "#   mostly similar to working with a list: the usual functions and operators work\n",
    "#   however: be aware of the gotchas below\n",
    "# membership tests only for keys\n",
    "\n",
    "# testing for membership in values requires an extra step\n",
    "\n",
    "# testing for equality of values directly *always* returns False\n",
    "\n",
    "# testing for equality of values requires an indirect comparison \n"
   ]
  },
  {
   "cell_type": "code",
   "execution_count": null,
   "id": "1a7a22a1-a37a-434f-a0f7-acc3e243f902",
   "metadata": {},
   "outputs": [],
   "source": [
    "# retrieving values from a dictionary\n",
    "# accessing values based on key\n",
    "\n",
    "# accessing contents; these methods all return special data structures; all are iterable\n",
    "\n",
    "# accessing contents directly\n",
    "\n",
    "# accessing contents in a loop\n"
   ]
  },
  {
   "cell_type": "code",
   "execution_count": null,
   "id": "89288608-5947-4ce5-bae4-8016fc14235e",
   "metadata": {},
   "outputs": [],
   "source": [
    "# sorting items in a dictionary is similar to lists\n",
    "# however: functions and methods operate on *keys*, not values"
   ]
  }
 ],
 "metadata": {
  "kernelspec": {
   "display_name": "Python 3 (ipykernel)",
   "language": "python",
   "name": "python3"
  },
  "language_info": {
   "codemirror_mode": {
    "name": "ipython",
    "version": 3
   },
   "file_extension": ".py",
   "mimetype": "text/x-python",
   "name": "python",
   "nbconvert_exporter": "python",
   "pygments_lexer": "ipython3",
   "version": "3.12.7"
  },
  "panel-cell-order": [
   "3e3b0242-573d-4d80-9697-ba90465df1fb",
   "840e2048-589d-4478-82b7-9162bcfd449e",
   "0bf1ab23-9690-44a1-a186-9aa7a7add15b",
   "bf4b24b0-9884-4403-8c03-970d353588bd"
  ]
 },
 "nbformat": 4,
 "nbformat_minor": 5
}
