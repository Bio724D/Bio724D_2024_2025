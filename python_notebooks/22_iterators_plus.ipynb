{
 "cells": [
  {
   "cell_type": "markdown",
   "id": "324ba9dd-bffb-4590-a62a-ae9ac606bc34",
   "metadata": {},
   "source": [
    "Under the hood python constructs like For loops and List comprehensions rely on objects that are \"iterators\" or that can be made in \"iterator\" objects.\n",
    "\n",
    "## Iterators\n",
    "\n",
    "- Python objects that represent streams of data\n",
    "\n",
    "- Iteratators return the data they hold one element at a time (what's considered an \"element\" depends on the type of iterator). Data element are returned by using the iterator in the `next()` function\n",
    "\n",
    "- When an iterator has exhausted its elements, than subsequent calls to net will raise a `StopIteration` exception\n",
    "\n",
    "## Getting iterators from sequence objects\n",
    "\n",
    "Common sequence objects like lists, tuple, string, and ranges are not iterators themselves, but are \"iterable\" in that we can get an iterator from them using the `iter()` function:"
   ]
  },
  {
   "cell_type": "code",
   "execution_count": 114,
   "id": "3abf18b0-8960-4b87-bf2a-81b2cce28bbc",
   "metadata": {},
   "outputs": [
    {
     "data": {
      "text/plain": [
       "<list_iterator at 0x12581ca00>"
      ]
     },
     "execution_count": 114,
     "metadata": {},
     "output_type": "execute_result"
    }
   ],
   "source": [
    "l = [1, 2, 3]\n",
    "l_iter = iter(l)\n",
    "l_iter"
   ]
  },
  {
   "cell_type": "code",
   "execution_count": 117,
   "id": "9cc668cc-a6b4-42ce-bc62-bb6ef13cdc44",
   "metadata": {},
   "outputs": [
    {
     "data": {
      "text/plain": [
       "(<function math.sin(x, /)>,\n",
       " <function math.cos(x, /)>,\n",
       " <function math.tan(x, /)>)"
      ]
     },
     "execution_count": 117,
     "metadata": {},
     "output_type": "execute_result"
    }
   ],
   "source": [
    "import math\n",
    "t = (math.sin, math.cos, math.tan)\n",
    "t"
   ]
  },
  {
   "cell_type": "code",
   "execution_count": 119,
   "id": "bfdbcd19-f0e6-4ea5-a45b-a68f52a571f6",
   "metadata": {},
   "outputs": [
    {
     "data": {
      "text/plain": [
       "<tuple_iterator at 0x12581d7e0>"
      ]
     },
     "execution_count": 119,
     "metadata": {},
     "output_type": "execute_result"
    }
   ],
   "source": [
    "t_iter = iter(t)\n",
    "t_iter"
   ]
  },
  {
   "cell_type": "code",
   "execution_count": 115,
   "id": "9b7c48d9-475c-473f-ac9d-bf93e370c2b3",
   "metadata": {},
   "outputs": [
    {
     "data": {
      "text/plain": [
       "<str_ascii_iterator at 0x12581dab0>"
      ]
     },
     "execution_count": 115,
     "metadata": {},
     "output_type": "execute_result"
    }
   ],
   "source": [
    "s = \"ATGCAATGC\"\n",
    "s_iter = iter(s)\n",
    "s_iter"
   ]
  },
  {
   "cell_type": "code",
   "execution_count": 116,
   "id": "5d902dc2-614d-45e1-acf6-ac412adcbda6",
   "metadata": {},
   "outputs": [
    {
     "data": {
      "text/plain": [
       "<dict_keyiterator at 0x12584b420>"
      ]
     },
     "execution_count": 116,
     "metadata": {},
     "output_type": "execute_result"
    }
   ],
   "source": [
    "d = {'a': 1, 'b': 2, 'c': 3}\n",
    "d_iter = iter(d)\n",
    "d_iter"
   ]
  },
  {
   "cell_type": "code",
   "execution_count": 120,
   "id": "f59ee9ee-b3b9-4dda-a033-d854458feff8",
   "metadata": {},
   "outputs": [
    {
     "ename": "TypeError",
     "evalue": "'int' object is not iterable",
     "output_type": "error",
     "traceback": [
      "\u001b[0;31m---------------------------------------------------------------------------\u001b[0m",
      "\u001b[0;31mTypeError\u001b[0m                                 Traceback (most recent call last)",
      "Cell \u001b[0;32mIn[120], line 2\u001b[0m\n\u001b[1;32m      1\u001b[0m \u001b[38;5;66;03m# integers and many other objects can't be turned into iterators\u001b[39;00m\n\u001b[0;32m----> 2\u001b[0m i_iter \u001b[38;5;241m=\u001b[39m \u001b[38;5;28miter\u001b[39m(\u001b[38;5;241m10\u001b[39m)\n",
      "\u001b[0;31mTypeError\u001b[0m: 'int' object is not iterable"
     ]
    }
   ],
   "source": [
    "# integers and many other objects can't be turned into iterators\n",
    "i_iter = iter(10)\n"
   ]
  },
  {
   "cell_type": "markdown",
   "id": "c676f925-43eb-48c6-a482-5931ec2a2322",
   "metadata": {},
   "source": [
    "## Getting elements from an iterator using `next()`"
   ]
  },
  {
   "cell_type": "code",
   "execution_count": 130,
   "id": "97679ed9-4a9d-4cc7-9316-b7f2c503bf6e",
   "metadata": {},
   "outputs": [],
   "source": [
    "l = [1, 2, 3]\n",
    "l_iter = iter(l)"
   ]
  },
  {
   "cell_type": "code",
   "execution_count": 131,
   "id": "1e41992c-3694-40bf-a659-67a89e510c6f",
   "metadata": {},
   "outputs": [
    {
     "data": {
      "text/plain": [
       "[1, 2, 3]"
      ]
     },
     "execution_count": 131,
     "metadata": {},
     "output_type": "execute_result"
    }
   ],
   "source": [
    "list(l_iter)"
   ]
  },
  {
   "cell_type": "code",
   "execution_count": 126,
   "id": "0e8598c9-66f9-4dbd-bf25-381d1018747d",
   "metadata": {},
   "outputs": [
    {
     "data": {
      "text/plain": [
       "1"
      ]
     },
     "execution_count": 126,
     "metadata": {},
     "output_type": "execute_result"
    }
   ],
   "source": [
    "next(l_iter)"
   ]
  },
  {
   "cell_type": "code",
   "execution_count": 127,
   "id": "6def9b16-066c-48d0-acec-aa6cd4ec13e4",
   "metadata": {},
   "outputs": [
    {
     "data": {
      "text/plain": [
       "2"
      ]
     },
     "execution_count": 127,
     "metadata": {},
     "output_type": "execute_result"
    }
   ],
   "source": [
    "next(l_iter)"
   ]
  },
  {
   "cell_type": "code",
   "execution_count": 128,
   "id": "5568cbae-749b-49fc-b298-a24465b1edc9",
   "metadata": {},
   "outputs": [
    {
     "data": {
      "text/plain": [
       "3"
      ]
     },
     "execution_count": 128,
     "metadata": {},
     "output_type": "execute_result"
    }
   ],
   "source": [
    "next(l_iter)"
   ]
  },
  {
   "cell_type": "code",
   "execution_count": 129,
   "id": "edddeab0-ee16-4ed6-98ce-258b62257d28",
   "metadata": {},
   "outputs": [
    {
     "ename": "StopIteration",
     "evalue": "",
     "output_type": "error",
     "traceback": [
      "\u001b[0;31m---------------------------------------------------------------------------\u001b[0m",
      "\u001b[0;31mStopIteration\u001b[0m                             Traceback (most recent call last)",
      "Cell \u001b[0;32mIn[129], line 1\u001b[0m\n\u001b[0;32m----> 1\u001b[0m \u001b[38;5;28mnext\u001b[39m(l_iter)\n",
      "\u001b[0;31mStopIteration\u001b[0m: "
     ]
    }
   ],
   "source": [
    "next(l_iter)"
   ]
  },
  {
   "cell_type": "code",
   "execution_count": 134,
   "id": "22e5f246-8533-4e91-8a70-0aa2a5498659",
   "metadata": {},
   "outputs": [],
   "source": [
    "d = {'a': 1, 'b': 2, 'c': 3}\n",
    "d_iter = iter(d)"
   ]
  },
  {
   "cell_type": "code",
   "execution_count": 135,
   "id": "3843b75a-702c-4b8a-9d98-345683c8a605",
   "metadata": {},
   "outputs": [
    {
     "data": {
      "text/plain": [
       "'a'"
      ]
     },
     "execution_count": 135,
     "metadata": {},
     "output_type": "execute_result"
    }
   ],
   "source": [
    "next(d_iter)"
   ]
  },
  {
   "cell_type": "code",
   "execution_count": 136,
   "id": "24d0f1d9-f3db-4bff-beff-edcff2cb0a53",
   "metadata": {},
   "outputs": [
    {
     "data": {
      "text/plain": [
       "'b'"
      ]
     },
     "execution_count": 136,
     "metadata": {},
     "output_type": "execute_result"
    }
   ],
   "source": [
    "next(d_iter)"
   ]
  },
  {
   "cell_type": "code",
   "execution_count": 137,
   "id": "96f26aee-becd-418a-adc9-9cc09236ffb8",
   "metadata": {},
   "outputs": [
    {
     "data": {
      "text/plain": [
       "'c'"
      ]
     },
     "execution_count": 137,
     "metadata": {},
     "output_type": "execute_result"
    }
   ],
   "source": [
    "next(d_iter)"
   ]
  },
  {
   "cell_type": "code",
   "execution_count": 138,
   "id": "42464739-fc12-484e-85b0-13cfca7386dd",
   "metadata": {},
   "outputs": [
    {
     "ename": "StopIteration",
     "evalue": "",
     "output_type": "error",
     "traceback": [
      "\u001b[0;31m---------------------------------------------------------------------------\u001b[0m",
      "\u001b[0;31mStopIteration\u001b[0m                             Traceback (most recent call last)",
      "Cell \u001b[0;32mIn[138], line 1\u001b[0m\n\u001b[0;32m----> 1\u001b[0m \u001b[38;5;28mnext\u001b[39m(d_iter)\n",
      "\u001b[0;31mStopIteration\u001b[0m: "
     ]
    }
   ],
   "source": [
    "next(d_iter)"
   ]
  },
  {
   "cell_type": "code",
   "execution_count": 141,
   "id": "0a4afc62-d7e2-4c6b-a89b-b4fc26cce9bd",
   "metadata": {},
   "outputs": [
    {
     "data": {
      "text/plain": [
       "<function math.sin(x, /)>"
      ]
     },
     "execution_count": 141,
     "metadata": {},
     "output_type": "execute_result"
    }
   ],
   "source": [
    "t = (math.sin, math.cos, math.tan)\n",
    "t_iter = iter(t)\n",
    "next(t_iter)"
   ]
  },
  {
   "cell_type": "code",
   "execution_count": 142,
   "id": "97681075-98ce-4167-8c89-b87eb9a4ddaf",
   "metadata": {},
   "outputs": [
    {
     "data": {
      "text/plain": [
       "<function math.cos(x, /)>"
      ]
     },
     "execution_count": 142,
     "metadata": {},
     "output_type": "execute_result"
    }
   ],
   "source": [
    "next(t_iter)"
   ]
  },
  {
   "cell_type": "markdown",
   "id": "3fdb5fb6-172c-418e-9c49-9e512cb020b0",
   "metadata": {},
   "source": [
    "## for loops and comprehensions can be applied to anything that is iterable\n",
    "\n",
    "\"Iterable\" literally means that when you call `iter()` on the object it returns an interator.\n",
    "\n",
    "You can think if for loops as repeatedly calling `next()` on the iterator until a `StopIteration` exception is raised."
   ]
  },
  {
   "cell_type": "code",
   "execution_count": 150,
   "id": "5d92bc4b-c728-4d68-a0ea-0e1ef7c85ef0",
   "metadata": {},
   "outputs": [
    {
     "name": "stdout",
     "output_type": "stream",
     "text": [
      "A\n",
      "B\n",
      "C\n",
      "D\n"
     ]
    }
   ],
   "source": [
    "s = \"ABCD\"\n",
    "for i in s:\n",
    "    print(i)"
   ]
  },
  {
   "cell_type": "code",
   "execution_count": 159,
   "id": "252005d6-9ea7-44eb-b077-a249bde14d91",
   "metadata": {},
   "outputs": [
    {
     "name": "stdout",
     "output_type": "stream",
     "text": [
      "A\n",
      "B\n",
      "C\n",
      "D\n"
     ]
    }
   ],
   "source": [
    "# above is equivalent to\n",
    "s = \"ABCD\"\n",
    "s_iter = iter(s)\n",
    "while True:\n",
    "    try:\n",
    "        print(next(s_iter))\n",
    "    except StopIteration:\n",
    "        break\n",
    "    "
   ]
  },
  {
   "cell_type": "markdown",
   "id": "27727ee9-cbfe-4122-9afe-a1ed35ebe8fc",
   "metadata": {},
   "source": [
    "### List, Set, and Dictionary Comprehensions"
   ]
  },
  {
   "cell_type": "code",
   "execution_count": 162,
   "id": "53c9e0c5-f6b9-4bfb-b18f-54247d5bc31f",
   "metadata": {},
   "outputs": [],
   "source": [
    "nucs = \"ATGCTAATA\""
   ]
  },
  {
   "cell_type": "code",
   "execution_count": 163,
   "id": "3226c069-cb98-4050-b51f-7db52501011c",
   "metadata": {},
   "outputs": [
    {
     "data": {
      "text/plain": [
       "['A', 'T', 'G', 'C', 'T', 'A', 'A', 'T', 'A']"
      ]
     },
     "execution_count": 163,
     "metadata": {},
     "output_type": "execute_result"
    }
   ],
   "source": [
    "# list comprehension\n",
    "[i for i in nucs]"
   ]
  },
  {
   "cell_type": "code",
   "execution_count": 165,
   "id": "98bd6158-c5b4-49c3-a05d-66435bfea109",
   "metadata": {},
   "outputs": [
    {
     "data": {
      "text/plain": [
       "{'A', 'C', 'G', 'T'}"
      ]
     },
     "execution_count": 165,
     "metadata": {},
     "output_type": "execute_result"
    }
   ],
   "source": [
    "# set comprehension\n",
    "{i for i in nucs}"
   ]
  },
  {
   "cell_type": "code",
   "execution_count": 166,
   "id": "2aec756d-18e3-442d-8010-14f8964c9be9",
   "metadata": {},
   "outputs": [
    {
     "data": {
      "text/plain": [
       "{'A': 'a', 'T': 't', 'G': 'g', 'C': 'c'}"
      ]
     },
     "execution_count": 166,
     "metadata": {},
     "output_type": "execute_result"
    }
   ],
   "source": [
    "# dictionary comprehension\n",
    "{i: i.lower() for i in nucs}"
   ]
  },
  {
   "cell_type": "markdown",
   "id": "7fd4f29a-b4c7-46d2-b03f-59de617f0b3f",
   "metadata": {},
   "source": [
    "### Generator expressions\n",
    "\n",
    "In Python a \"generator\" is  function that returns and iterator. A generator expression is a syntax that is similar to a list comprehension, but rather than returning a list it returns a generator.\n"
   ]
  },
  {
   "cell_type": "code",
   "execution_count": 219,
   "id": "b3402a8f-e576-4b55-849f-eb7efd39b263",
   "metadata": {},
   "outputs": [],
   "source": [
    "\n",
    "# stand-in for some expensive to compute function\n",
    "def complex_func(x):\n",
    "    return math.cos(math.sin(x**2))\n",
    "\n"
   ]
  },
  {
   "cell_type": "code",
   "execution_count": 223,
   "id": "98626ac8-e4a3-432d-96d4-5a3fa5e3e7c6",
   "metadata": {},
   "outputs": [
    {
     "data": {
      "text/plain": [
       "[1.0,\n",
       " 0.6663667453928805,\n",
       " 0.7270351311688124,\n",
       " 0.9162743174606308,\n",
       " 0.9588413200803038,\n",
       " 0.9912542848596704,\n",
       " 0.5472018255605284,\n",
       " 0.5786265349466179,\n",
       " 0.6057994404065464,\n",
       " 0.8080934908296122]"
      ]
     },
     "execution_count": 223,
     "metadata": {},
     "output_type": "execute_result"
    }
   ],
   "source": [
    "# list comprehension\n",
    "# note that this carries out all the complex computations\n",
    "# AND stores the results -- for big inputs or really complex computatoins\n",
    "# we may only need one result at a time or want to delay the computation until\n",
    "# we actually need it\n",
    "\n",
    "lc = [complex_func(i) for i in range(100)]\n",
    "lc[:10]\n"
   ]
  },
  {
   "cell_type": "code",
   "execution_count": 229,
   "id": "30f1c1ee-7835-4587-b518-392068bb5efe",
   "metadata": {},
   "outputs": [
    {
     "data": {
      "text/plain": [
       "<generator object <genexpr> at 0x125a6e330>"
      ]
     },
     "execution_count": 229,
     "metadata": {},
     "output_type": "execute_result"
    }
   ],
   "source": [
    "# generator expression\n",
    "# note parentheses rather than square brackets\n",
    "\n",
    "ge = (complex_func(i) for i in range(100))\n",
    "ge"
   ]
  },
  {
   "cell_type": "code",
   "execution_count": 230,
   "id": "6b99aa5f-f745-4183-b4b5-c6dfcb98bc4d",
   "metadata": {},
   "outputs": [
    {
     "data": {
      "text/plain": [
       "(1.0, 0.6663667453928805, 0.7270351311688124)"
      ]
     },
     "execution_count": 230,
     "metadata": {},
     "output_type": "execute_result"
    }
   ],
   "source": [
    "next(ge), next(ge), next(ge)"
   ]
  },
  {
   "cell_type": "code",
   "execution_count": 231,
   "id": "681189de-ba29-402e-bb94-a53c64ebf75a",
   "metadata": {},
   "outputs": [
    {
     "data": {
      "text/plain": [
       "76.8916482025566"
      ]
     },
     "execution_count": 231,
     "metadata": {},
     "output_type": "execute_result"
    }
   ],
   "source": [
    "ge = (complex_func(i) for i in range(100))\n",
    "sum(ge)"
   ]
  },
  {
   "cell_type": "code",
   "execution_count": 232,
   "id": "a4296269-4a2e-4366-8bc8-1d67716c8d9f",
   "metadata": {},
   "outputs": [
    {
     "data": {
      "text/plain": [
       "76.8916482025566"
      ]
     },
     "execution_count": 232,
     "metadata": {},
     "output_type": "execute_result"
    }
   ],
   "source": [
    "sum(lc)"
   ]
  },
  {
   "cell_type": "markdown",
   "id": "56dca7d6-445f-4054-b345-c65f55a66fdd",
   "metadata": {},
   "source": [
    "## The `itertools` module\n",
    "\n",
    "The `itertools` module included as part of the Python standard library includes a large number of functions that produce various useful iterators. We'll illustrate a few of these."
   ]
  },
  {
   "cell_type": "code",
   "execution_count": 12,
   "id": "ebab991e-e94b-44b9-8e8b-740620ffb701",
   "metadata": {},
   "outputs": [],
   "source": [
    "import itertools"
   ]
  },
  {
   "cell_type": "markdown",
   "id": "7f6d3207-5928-490a-a477-224162f59118",
   "metadata": {},
   "source": [
    "### Infinite iterators"
   ]
  },
  {
   "cell_type": "code",
   "execution_count": 38,
   "id": "70ada1d2-afe0-44eb-852a-3049feba451b",
   "metadata": {},
   "outputs": [
    {
     "data": {
      "text/plain": [
       "['Hello', 'Hello', 'Hello', 'Hello', 'Hello']"
      ]
     },
     "execution_count": 38,
     "metadata": {},
     "output_type": "execute_result"
    }
   ],
   "source": [
    "# This iterator infinitely returns the same thing!\n",
    "\n",
    "rptr =  itertools.repeat(\"Hello\")\n",
    "\n",
    "[next(rptr) for i in range(5)]\n"
   ]
  },
  {
   "cell_type": "code",
   "execution_count": 40,
   "id": "c19e1227-fa12-40f2-b5c1-87b1a1440e36",
   "metadata": {},
   "outputs": [
    {
     "data": {
      "text/plain": [
       "('T', 'C', 'G')"
      ]
     },
     "execution_count": 40,
     "metadata": {},
     "output_type": "execute_result"
    }
   ],
   "source": [
    "# An example where a repeater can be useful in combination\n",
    "# with a generator expression\n",
    "\n",
    "\n",
    "import random\n",
    "\n",
    "rep1 = itertools.repeat(1)\n",
    "random_nuc = (random.choice(\"ATGC\") for i in rep1)\n",
    "\n",
    "# an infinite stream of random nucleotides!\n",
    "next(random_nuc), next(random_nuc), next(random_nuc)\n"
   ]
  },
  {
   "cell_type": "code",
   "execution_count": 45,
   "id": "3f6349ad-36f5-43e6-8071-7130666b2a9a",
   "metadata": {},
   "outputs": [
    {
     "data": {
      "text/plain": [
       "'TCATGGATGGCCACG'"
      ]
     },
     "execution_count": 45,
     "metadata": {},
     "output_type": "execute_result"
    }
   ],
   "source": [
    "# using string join method with the generator expression above\n",
    "# to generate a random 15bp nuc acid sequence \n",
    "# this will be different every time its evaluated\n",
    "\n",
    "rand_seq = ''.join(next(random_nuc) for i in range(15))\n",
    "rand_seq"
   ]
  },
  {
   "cell_type": "code",
   "execution_count": 215,
   "id": "c0ad70c6-e3ce-461e-bd20-e44dfd75bfea",
   "metadata": {},
   "outputs": [],
   "source": [
    "z = itertools.count(11, step=3)"
   ]
  },
  {
   "cell_type": "code",
   "execution_count": 46,
   "id": "11b7694f-9269-4396-817e-082d151e3a01",
   "metadata": {},
   "outputs": [
    {
     "data": {
      "text/plain": [
       "('red', 'green', 'blue', 'red')"
      ]
     },
     "execution_count": 46,
     "metadata": {},
     "output_type": "execute_result"
    }
   ],
   "source": [
    "# itertools.cycle is another infinite iterator\n",
    "# but one which cycles through it's inputs\n",
    "\n",
    "color_cycle = itertools.cycle([\"red\", \"green\", \"blue\"])\n",
    "\n",
    "next(color_cycle), next(color_cycle), next(color_cycle), next(color_cycle)"
   ]
  },
  {
   "cell_type": "code",
   "execution_count": 49,
   "id": "d45a61a2-4a1d-4298-87a2-2d15d08dce30",
   "metadata": {},
   "outputs": [
    {
     "data": {
      "text/plain": [
       "[1, 10, 19, 28, 37, 46, 55, 64, 73, 82]"
      ]
     },
     "execution_count": 49,
     "metadata": {},
     "output_type": "execute_result"
    }
   ],
   "source": [
    "# itertools.count gets a starting value\n",
    "# and a step size and can inifitely return\n",
    "# the next value in a sieres\n",
    "\n",
    "ctr = itertools.count(1, step=9)\n",
    "[next(ctr) for i in range(10)]\n"
   ]
  },
  {
   "cell_type": "code",
   "execution_count": 50,
   "id": "10cf34c3-1f61-4623-8f24-d622c1258aec",
   "metadata": {},
   "outputs": [
    {
     "data": {
      "text/plain": [
       "[91, 100, 109, 118, 127, 136, 145, 154, 163, 172]"
      ]
     },
     "execution_count": 50,
     "metadata": {},
     "output_type": "execute_result"
    }
   ],
   "source": [
    "# remembers where it was if called again\n",
    "[next(ctr) for i in range(10)]"
   ]
  },
  {
   "cell_type": "markdown",
   "id": "e205d3ee-2ef9-42e2-a58c-fa4a5503b933",
   "metadata": {},
   "source": [
    "### Other useful iterators "
   ]
  },
  {
   "cell_type": "code",
   "execution_count": 52,
   "id": "0992a009-8bbb-434f-9f05-94a785cc4080",
   "metadata": {},
   "outputs": [
    {
     "data": {
      "text/plain": [
       "(('A', 'T', 'G'), ('C', 'A', 'T'), ('T', 'T', 'G'))"
      ]
     },
     "execution_count": 52,
     "metadata": {},
     "output_type": "execute_result"
    }
   ],
   "source": [
    "# itertools.batched takes items in batches of size n from \n",
    "# the input iterable\n",
    "\n",
    "seq = \"ATGCATTTGACTC\"\n",
    "\n",
    "codon_itr = itertools.batched(seq, 3)\n",
    "\n",
    "next(codon_itr), next(codon_itr), next(codon_itr)\n"
   ]
  },
  {
   "cell_type": "code",
   "execution_count": 74,
   "id": "4613545b-ab18-4f6c-870f-bde26fc916ad",
   "metadata": {},
   "outputs": [
    {
     "name": "stdout",
     "output_type": "stream",
     "text": [
      "First letter: a  -> Group:  ['aardvark', 'ant']\n",
      "First letter: b  -> Group:  ['beaver', 'bear']\n",
      "First letter: c  -> Group:  ['cat', 'cougar']\n",
      "First letter: d  -> Group:  ['dog']\n",
      "First letter: k  -> Group:  ['koala']\n"
     ]
    }
   ],
   "source": [
    "# itertools.groupby provides an iterator\n",
    "# that groups elements by a key function\n",
    "#\n",
    "# NOTE: items should be sorted by the same key function first\n",
    "\n",
    "\n",
    "\n",
    "# first example, group by first letter\n",
    "\n",
    "animals = [\"aardvark\", \"ant\", \"dog\", \n",
    "           \"cat\", \"cougar\", \"koala\", \"beaver\", \"bear\"]\n",
    "\n",
    "sorted_by_first = sorted(animals, key = lambda x: x[0])\n",
    "\n",
    "grp_by_first = itertools.groupby(sorted_by_first, key = lambda x: x[0])\n",
    "\n",
    "for first, grp in grp_by_first:\n",
    "    print(\"First letter:\", first, \" -> Group: \", list(grp))\n",
    "\n"
   ]
  },
  {
   "cell_type": "code",
   "execution_count": 76,
   "id": "3d86d45e-4cb4-4290-89b5-ecbefdb7f02f",
   "metadata": {},
   "outputs": [
    {
     "name": "stdout",
     "output_type": "stream",
     "text": [
      "Name length: 3  -> Group:  ['ant', 'dog', 'cat']\n",
      "Name length: 4  -> Group:  ['bear']\n",
      "Name length: 5  -> Group:  ['koala']\n",
      "Name length: 6  -> Group:  ['cougar', 'beaver']\n",
      "Name length: 8  -> Group:  ['aardvark']\n"
     ]
    }
   ],
   "source": [
    "# second example, group by length of name\n",
    "\n",
    "sorted_by_len = sorted(animals, key = len)\n",
    "\n",
    "grp_by_len = itertools.groupby(sorted_by_len, key = len)\n",
    "\n",
    "for namelen, grp in grp_by_len:\n",
    "    print(\"Name length:\", namelen, \" -> Group: \", list(grp))\n"
   ]
  },
  {
   "cell_type": "markdown",
   "id": "4448ac81-3025-4122-b174-0fd19c3c9b90",
   "metadata": {},
   "source": [
    "### Products, Permutations, and Combinations in itertools"
   ]
  },
  {
   "cell_type": "code",
   "execution_count": 31,
   "id": "94c3f814-ee9d-4b2c-9192-bcfb800b4691",
   "metadata": {},
   "outputs": [
    {
     "data": {
      "text/plain": [
       "[('A', 'A'),\n",
       " ('A', 'B'),\n",
       " ('A', 'C'),\n",
       " ('B', 'A'),\n",
       " ('B', 'B'),\n",
       " ('B', 'C'),\n",
       " ('C', 'A'),\n",
       " ('C', 'B'),\n",
       " ('C', 'C')]"
      ]
     },
     "execution_count": 31,
     "metadata": {},
     "output_type": "execute_result"
    }
   ],
   "source": [
    "# product (permutation with repetition) -> \n",
    "#    gove all possible sequences of length 2, \n",
    "#    composed of the characters drawn from \"ABC\"\n",
    "\n",
    "list(itertools.product(\"ABC\", repeat=2))"
   ]
  },
  {
   "cell_type": "code",
   "execution_count": 32,
   "id": "96b6940f-5708-4437-bf89-ba857d57d3b9",
   "metadata": {},
   "outputs": [
    {
     "data": {
      "text/plain": [
       "[('A', 'B'), ('A', 'C'), ('B', 'A'), ('B', 'C'), ('C', 'A'), ('C', 'B')]"
      ]
     },
     "execution_count": 32,
     "metadata": {},
     "output_type": "execute_result"
    }
   ],
   "source": [
    "# permutation (w/out repetition) -> \n",
    "#    give  all possible sequences of length 2, \n",
    "#    composed of the characters drawn from \"ABC\"\n",
    "#    but with no character appearing more than once\n",
    "\n",
    "list(itertools.permutations(\"ABC\", 2))"
   ]
  },
  {
   "cell_type": "code",
   "execution_count": 34,
   "id": "288b7e48-edc8-4aa8-bbba-f88004a63214",
   "metadata": {},
   "outputs": [
    {
     "data": {
      "text/plain": [
       "[('A', 'B'), ('A', 'C'), ('B', 'C')]"
      ]
     },
     "execution_count": 34,
     "metadata": {},
     "output_type": "execute_result"
    }
   ],
   "source": [
    "# combination  -> \n",
    "#    give  all possible sequences of length 2, \n",
    "#    composed of the characters drawn from \"ABC.\n",
    "#    Order doesn't matter and no character appears\n",
    "#    more than once.\n",
    "\n",
    "list(itertools.combinations(\"ABC\", 2))"
   ]
  },
  {
   "cell_type": "code",
   "execution_count": 36,
   "id": "2149d424-7379-4081-b62a-4c2f1dffc137",
   "metadata": {},
   "outputs": [
    {
     "data": {
      "text/plain": [
       "[('A', 'A'), ('A', 'B'), ('A', 'C'), ('B', 'B'), ('B', 'C'), ('C', 'C')]"
      ]
     },
     "execution_count": 36,
     "metadata": {},
     "output_type": "execute_result"
    }
   ],
   "source": [
    "# combination_with_replacement  -> \n",
    "#    give all possible sequences of length 2, \n",
    "#    composed of the characters drawn from \"ABC.\n",
    "#    Order doesn't matter and but character appears\n",
    "#    can be repeated\n",
    "\n",
    "list(itertools.combinations_with_replacement(\"ABC\", 2))"
   ]
  },
  {
   "cell_type": "markdown",
   "id": "65a5fe61-12d8-46ec-9482-decf1496153b",
   "metadata": {},
   "source": [
    "### Pathlib\n",
    "\n",
    "[pathlib](https://docs.python.org/3/library/pathlib.html) is a Python standard library that provides a convenient object oriented interface for working with file system paths.  \n",
    "\n",
    "It provides an iterator based interface for getting path information and searching for matches.\n"
   ]
  },
  {
   "cell_type": "code",
   "execution_count": 2,
   "id": "bc80ead2-c56a-4dbb-81e0-1d14c3617481",
   "metadata": {},
   "outputs": [],
   "source": [
    "from pathlib import Path"
   ]
  },
  {
   "cell_type": "code",
   "execution_count": 3,
   "id": "6f08e503-0f9b-4d64-9fcc-dfdc14146ee9",
   "metadata": {},
   "outputs": [
    {
     "data": {
      "text/plain": [
       "PosixPath('/Applications')"
      ]
     },
     "execution_count": 3,
     "metadata": {},
     "output_type": "execute_result"
    }
   ],
   "source": [
    "# specify a path from scratch\n",
    "\n",
    "p = Path(\"/Applications/\")\n",
    "p"
   ]
  },
  {
   "cell_type": "code",
   "execution_count": 4,
   "id": "bf667e29-b787-48db-aaac-4d5d84ad355a",
   "metadata": {},
   "outputs": [
    {
     "data": {
      "text/plain": [
       "PosixPath('/Users/pmagwene')"
      ]
     },
     "execution_count": 4,
     "metadata": {},
     "output_type": "execute_result"
    }
   ],
   "source": [
    "# use the home() method to get my home directory\n",
    "\n",
    "Path.home()"
   ]
  },
  {
   "cell_type": "code",
   "execution_count": 7,
   "id": "a4a67f7e-5a41-4a30-9a32-09e0d38f32bd",
   "metadata": {},
   "outputs": [
    {
     "data": {
      "text/plain": [
       "PosixPath('/Users/pmagwene/gits')"
      ]
     },
     "execution_count": 7,
     "metadata": {},
     "output_type": "execute_result"
    }
   ],
   "source": [
    "# append a subdirectory \"gits\" to my home directory\n",
    "\n",
    "git_path = Path.home() / \"gits\"\n",
    "git_path"
   ]
  },
  {
   "cell_type": "code",
   "execution_count": 8,
   "id": "49778dc8-2aa8-46c5-a6b0-9c04f4cb64d8",
   "metadata": {},
   "outputs": [
    {
     "data": {
      "text/plain": [
       "PosixPath('/Users/pmagwene/tmp')"
      ]
     },
     "execution_count": 8,
     "metadata": {},
     "output_type": "execute_result"
    }
   ],
   "source": [
    "# expand user methods translates tilde ~ to user's home directory\n",
    "\n",
    "Path.expanduser(Path(\"~/tmp\"))  "
   ]
  },
  {
   "cell_type": "code",
   "execution_count": 9,
   "id": "053fe8fd-7fd7-403e-971f-cf82017e13e3",
   "metadata": {},
   "outputs": [
    {
     "data": {
      "text/plain": [
       "PosixPath('/Users/pmagwene/gits/Bio724D_2024_2025')"
      ]
     },
     "execution_count": 9,
     "metadata": {},
     "output_type": "execute_result"
    }
   ],
   "source": [
    "bio724 = git_path / \"Bio724D_2024_2025\"\n",
    "bio724"
   ]
  },
  {
   "cell_type": "code",
   "execution_count": 53,
   "id": "0b3c53cf-c750-4a25-b92c-6195a2fb7e0a",
   "metadata": {},
   "outputs": [
    {
     "data": {
      "text/plain": [
       "[PosixPath('/Users/pmagwene/gits/Bio724D_2024_2025/class_notes'),\n",
       " PosixPath('/Users/pmagwene/gits/Bio724D_2024_2025/practical-tutorials'),\n",
       " PosixPath('/Users/pmagwene/gits/Bio724D_2024_2025/docs'),\n",
       " PosixPath('/Users/pmagwene/gits/Bio724D_2024_2025/slides'),\n",
       " PosixPath('/Users/pmagwene/gits/Bio724D_2024_2025/code_examples'),\n",
       " PosixPath('/Users/pmagwene/gits/Bio724D_2024_2025/templates'),\n",
       " PosixPath('/Users/pmagwene/gits/Bio724D_2024_2025/.git'),\n",
       " PosixPath('/Users/pmagwene/gits/Bio724D_2024_2025/data'),\n",
       " PosixPath('/Users/pmagwene/gits/Bio724D_2024_2025/python_notebooks')]"
      ]
     },
     "execution_count": 53,
     "metadata": {},
     "output_type": "execute_result"
    }
   ],
   "source": [
    "# Path objects provide an iterator over the items contained in a path\n",
    "\n",
    "directories = [i for i in bio724.iterdir() if i.is_dir()]\n",
    "directories"
   ]
  },
  {
   "cell_type": "code",
   "execution_count": 65,
   "id": "2d887086-d601-477d-b97d-c04dc71a034b",
   "metadata": {},
   "outputs": [
    {
     "data": {
      "text/plain": [
       "<generator object Path.rglob at 0x104cb2240>"
      ]
     },
     "execution_count": 65,
     "metadata": {},
     "output_type": "execute_result"
    }
   ],
   "source": [
    "# We can search for matches in a Path using the \n",
    "# `glob` and `rglob` (recursive glob)\n",
    "# functions, both of which  return generators\n",
    "\n",
    "shell_files = bio724.rglob(\"*.sh\")\n",
    "shell_files"
   ]
  },
  {
   "cell_type": "code",
   "execution_count": 67,
   "id": "9f07b8ce-8223-411e-b0d6-9587f6188fa4",
   "metadata": {},
   "outputs": [
    {
     "name": "stdout",
     "output_type": "stream",
     "text": [
      "/Users/pmagwene/gits/Bio724D_2024_2025/code_examples/conductor.sh\n",
      "/Users/pmagwene/gits/Bio724D_2024_2025/code_examples/align_sequences.sh\n",
      "/Users/pmagwene/gits/Bio724D_2024_2025/code_examples/build_trees.sh\n",
      "/Users/pmagwene/gits/Bio724D_2024_2025/code_examples/combine_sequences.sh\n",
      "/Users/pmagwene/gits/Bio724D_2024_2025/code_examples/get_sequences.sh\n"
     ]
    }
   ],
   "source": [
    "for f in shell_files:\n",
    "    print(f)"
   ]
  },
  {
   "cell_type": "code",
   "execution_count": null,
   "id": "3e9f4813-e832-4277-8f72-9f27ccd97b45",
   "metadata": {},
   "outputs": [],
   "source": []
  }
 ],
 "metadata": {
  "kernelspec": {
   "display_name": "Python 3 (ipykernel)",
   "language": "python",
   "name": "python3"
  },
  "language_info": {
   "codemirror_mode": {
    "name": "ipython",
    "version": 3
   },
   "file_extension": ".py",
   "mimetype": "text/x-python",
   "name": "python",
   "nbconvert_exporter": "python",
   "pygments_lexer": "ipython3",
   "version": "3.12.2"
  }
 },
 "nbformat": 4,
 "nbformat_minor": 5
}
