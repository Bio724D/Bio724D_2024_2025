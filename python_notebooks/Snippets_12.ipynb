{
 "cells": [
  {
   "cell_type": "markdown",
   "id": "389044e6-9967-4992-8dc1-8ea49f6256c6",
   "metadata": {},
   "source": [
    "## Code snippets for lecture 12  \n",
    "\n",
    "Feel free to edit and run code in this notebook during lecture. \n",
    "\n",
    "Modify and experiment! Consider adding comments to record your findings. \n",
    "\n",
    "#### Quick orientation to Jupyter notebooks:\n",
    "Icons directly above windows provide most basic functions (mouse over for descriptions).   \n",
    "To select a cell either: click to its left or directly on the gray box.  \n",
    "The currently selected cell is indicated by a blue bar at the left; a white background means you can edit.  \n",
    "To run code in a cell, select it, then press the play icon or `shift-return`.    \n",
    "To edit code in a cell, select it and then click to position the cursor; you can then modify the text as you wish.  \n",
    "To add, move, or delete a cell, select it and then use the icons at the upper right (mouse over for descriptions).  \n",
    "To change a cell from code to markdown (or vice versa), select it and use the drop-down menu."
   ]
  },
  {
   "cell_type": "code",
   "execution_count": null,
   "id": "be056618-131f-4dc0-a979-294b3baa5c98",
   "metadata": {},
   "outputs": [],
   "source": [
    "# simple assignment\n",
    "\n",
    "my_int = 42\n",
    "\n",
    "my_bool = True"
   ]
  },
  {
   "cell_type": "code",
   "execution_count": null,
   "id": "0be5fa27-265f-45ed-be1e-b0364da42d42",
   "metadata": {},
   "outputs": [],
   "source": [
    "# assignment to string\n",
    "\n",
    "my_string = 'Hello world!'\n",
    "\n",
    "long_string = 'There is grandeur in this view of life, with its several powers, having been originally breathed into a few forms or into one; and that, whilst this planet has gone cycling on according to the fixed law of gravity, from so simple a beginning endless forms most beautiful and most wonderful have been, and are being, evolved.'"
   ]
  },
  {
   "cell_type": "code",
   "execution_count": null,
   "id": "079c778d-fc4a-4f26-bb30-949429826c91",
   "metadata": {},
   "outputs": [],
   "source": [
    "# assignment to list\n",
    "\n",
    "my_list = [1, 2, 3, 4]\n",
    "\n",
    "my_list = ['guanine', 'adenosine', 'cytosine', 'thymidine']"
   ]
  },
  {
   "cell_type": "code",
   "execution_count": null,
   "id": "f95eb1be-4dc3-482c-8b58-be8409a283c8",
   "metadata": {},
   "outputs": [],
   "source": [
    "# printing results\n",
    "\n",
    "print(my_int, my_bool)\n",
    "\n",
    "print(my_string)\n",
    "\n",
    "print(my_list)\n",
    "\n",
    "print(type(my_var))       \n",
    "\n",
    "len(long_string)"
   ]
  },
  {
   "cell_type": "code",
   "execution_count": null,
   "id": "d7637386-1a4a-41a5-827e-d190b6cc7caf",
   "metadata": {},
   "outputs": [],
   "source": [
    "# simple expressions\n",
    "\n",
    "print(1 + 1 < 5)\n",
    "\n",
    "print(42 % 7 == 0)\n",
    "\n",
    "print('uracil' in my_list)"
   ]
  },
  {
   "cell_type": "code",
   "execution_count": null,
   "id": "dccc2501-7898-4e29-b08c-9d87614335d8",
   "metadata": {},
   "outputs": [],
   "source": [
    "# mutable and immutable objects\n",
    "\n",
    "# create a mutable object and assign it to a new variable name\n",
    "my_list = [1, 2, 3, 4, 5]\n",
    "new_list = my_list\n",
    "\n",
    "# now modify the new variable and print out both\n",
    "new_list[1] = 'fjords'\n",
    "print(my_list)\n",
    "print(new_list)\n",
    "\n",
    "# now try the same process with an immutable object\n",
    "my_tuple = (1, 2, 3, 4, 5)\n",
    "new_tuple = my_tuple\n",
    "\n",
    "new_tuple[1] = 'fjords'\n"
   ]
  },
  {
   "cell_type": "code",
   "execution_count": null,
   "id": "f66636e1-92e8-4a45-9368-8b8ec5fdd498",
   "metadata": {},
   "outputs": [],
   "source": [
    "# functions with mutable and immutable objects\n",
    "\n",
    "# apply sort to a mutable object\n",
    "my_list = [3, 1, 5, 2, 4]\n",
    "my_list.sort() \n",
    "output = my_list.sort()\n",
    "print(my_list)\n",
    "print(output)\n",
    "\n",
    "# now apply sort to an immutable object\n",
    "my_tuple = (3, 1, 5, 2, 4)\n",
    "my_tuple.sort()  \n"
   ]
  },
  {
   "cell_type": "code",
   "execution_count": null,
   "id": "d30bf7e6-8aeb-4ef4-bc1f-948676606e51",
   "metadata": {
    "tags": []
   },
   "outputs": [],
   "source": [
    "# indexing\n",
    "\n",
    "# create a list\n",
    "my_obj = [12, 7, 23, 0, 8, -2, 4, 5]\n",
    "\n",
    "# now extract items using indexing\n",
    "my_obj[1]\n",
    "my_obj[0:1]\n",
    "my_obj[3:]\n",
    "my_obj[:2]\n",
    "my_obj[-1]\n",
    "my_obj[0:8:3]\n",
    "my_obj[-1:0:-1]\n",
    "my_obj[::-1]"
   ]
  },
  {
   "cell_type": "code",
   "execution_count": null,
   "id": "34c539bf-7044-4d77-8a31-31710ee03c02",
   "metadata": {},
   "outputs": [],
   "source": [
    "# calling functions and methods\n",
    "\n",
    "# create a list and call a function\n",
    "my_list = [5, 3, 1, 2, 4]\n",
    "function_result = len(my_list)        \n",
    "print(function_result)               \n",
    "\n",
    "# now call a method\n",
    "my_list.sort()                        \n",
    "print(my_list)                        \n",
    "my_string = 'hello world'\n",
    "my_string.sort()                     \n",
    "\n"
   ]
  },
  {
   "cell_type": "code",
   "execution_count": null,
   "id": "119950be-37ca-4583-b915-9ec01536aeac",
   "metadata": {},
   "outputs": [],
   "source": [
    "# flow control template:  if / else \n",
    "\n",
    "# test for life stage of frogs\n",
    "gills = False\n",
    "if gills == True :\n",
    "    cohort = 'tadpole'\n",
    "else : \n",
    "    cohort = 'adult'\n",
    "print('Cohort is: ', cohort)"
   ]
  },
  {
   "cell_type": "code",
   "execution_count": null,
   "id": "62cbaff0-5941-4dfd-84ef-bf29a38234a1",
   "metadata": {},
   "outputs": [],
   "source": [
    "# flow control template: for loop\n",
    "\n",
    "# print out names of study group\n",
    "study_group = ['Athena', 'Thor', 'Ra'] \n",
    "for x in study_group :\n",
    "    print('id num:', study_group.index(x), '  name:', x)\n",
    "num = len(study_group)\n",
    "print('total individuals =', num)"
   ]
  },
  {
   "cell_type": "code",
   "execution_count": 69,
   "id": "9b234b47-ed4e-4168-a792-d40e5c44183f",
   "metadata": {},
   "outputs": [
    {
     "name": "stdout",
     "output_type": "stream",
     "text": [
      "False True\n"
     ]
    }
   ],
   "source": [
    "# create a function to test whether 7 is a factor\n",
    "\n",
    "def is_div_by_7(input_value) :\n",
    "    if input_value % 7 == 0 : return True\n",
    "    else: return False \n",
    "\n",
    "# call the function\n",
    "result_1 = is_div_by_7(3)\n",
    "result_2 = is_div_by_7(42)\n",
    "print(result_1, result_2)                "
   ]
  },
  {
   "cell_type": "code",
   "execution_count": null,
   "id": "6d116fd2-3c29-4c17-9f33-41552b42b0aa",
   "metadata": {},
   "outputs": [],
   "source": [
    "# "
   ]
  }
 ],
 "metadata": {
  "kernelspec": {
   "display_name": "Python 3 (ipykernel)",
   "language": "python",
   "name": "python3"
  },
  "language_info": {
   "codemirror_mode": {
    "name": "ipython",
    "version": 3
   },
   "file_extension": ".py",
   "mimetype": "text/x-python",
   "name": "python",
   "nbconvert_exporter": "python",
   "pygments_lexer": "ipython3",
   "version": "3.10.9"
  }
 },
 "nbformat": 4,
 "nbformat_minor": 5
}
