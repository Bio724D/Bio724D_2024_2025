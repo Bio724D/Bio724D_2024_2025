{
 "cells": [
  {
   "cell_type": "markdown",
   "id": "667262df-b2d0-4552-a7bd-158365bee000",
   "metadata": {},
   "source": [
    "# Bio 724: Pandas example application"
   ]
  },
  {
   "cell_type": "markdown",
   "id": "e26dc9e2-a031-469c-81e0-75a0f1008216",
   "metadata": {},
   "source": [
    "## Libraries"
   ]
  },
  {
   "cell_type": "code",
   "execution_count": null,
   "id": "d72a6202-d52c-4a57-b0ab-5ebf24e1e9ba",
   "metadata": {},
   "outputs": [],
   "source": [
    "import itertools\n",
    "\n",
    "import pandas as pd\n",
    "# see https://pandas.pydata.org/docs/user_guide/copy_on_write.html#\n",
    "pd.options.mode.copy_on_write = True\n",
    "\n",
    "import numpy as np\n",
    "\n",
    "from matplotlib import pyplot as plt\n",
    "from matplotlib import image\n",
    "\n",
    "import skimage"
   ]
  },
  {
   "cell_type": "markdown",
   "id": "b7786830-2b74-42a0-9ab4-a28e4d973352",
   "metadata": {},
   "source": [
    "## Biological context\n",
    "\n",
    "We're going to illustrate using Pandas to facilitate an image based analysis of a biological experiment.\n",
    "\n",
    "The examples illustrated below are from a study that the Magwene lab is carrying out to understand the genetic architecture of a cellular phenotype called [\"Titan cell formation\"](https://pmc.ncbi.nlm.nih.gov/articles/PMC3723695/) in the fungal pathogen, *Cryptococcus neoformans*.  Titan cells are giant cells that form when *C. neoformans* is exposed to conditions that mimic the lung epithelial environment. These giant cells are thought to contribute to pathogenesis because they are more likely to escape phagocytosis by host macrophages.  \n",
    "\n",
    "The data below come from a chemical genetic analysis in the Magwene lab to explore how variation in the cAMP-PKA signaling pathway contributes to variation in titan cell formation.  The images below contrast differences in cellular phenotypes when a particular strain is exposed to the standard titan cell inducing conditions (`CONTROL` treatment) or to titan-inducing conditions plus the addition of IBMX (a phosphodiesterase inhibitor).\n"
   ]
  },
  {
   "cell_type": "markdown",
   "id": "1646c29d-d3ea-420e-87b4-1c42047099c6",
   "metadata": {},
   "source": [
    "## Metadata and DataFrame creation"
   ]
  },
  {
   "cell_type": "code",
   "execution_count": null,
   "id": "e18f77a1-8217-4a5e-8064-8ffa418fe57b",
   "metadata": {},
   "outputs": [],
   "source": [
    "# Create metadata for our analyses\n",
    "\n",
    "strains = [\"PMY2279\"]\n",
    "treatments = [\"CONTROL\", \"IBMX-2mM\"]\n",
    "rep = [\"A\", \"B\"]\n",
    "imgtype = [\"gray\", \"mask\"]\n",
    "\n",
    "\n",
    "metadata = list(itertools.product(strains, treatments, imgtype, rep))\n",
    "metadata"
   ]
  },
  {
   "cell_type": "code",
   "execution_count": null,
   "id": "f6fc831f-fac8-40f4-95dd-7a8cf8256b04",
   "metadata": {},
   "outputs": [],
   "source": [
    "# filenames of images to read based on metadata above\n",
    "\n",
    "filenames = [f\"{strain}_{treatment}_{rep}_{imgtype}.jpg\" for (strain, treatment, imgtype, rep) in metadata]\n",
    "filenames"
   ]
  },
  {
   "cell_type": "code",
   "execution_count": null,
   "id": "883ea74a-4a04-4fba-bce9-6ae113d66b55",
   "metadata": {},
   "outputs": [],
   "source": [
    "# Create a data frame holding metadata, filenames, and image arrays\n",
    "\n",
    "df = pd.DataFrame({\n",
    "    'strain': [i[0] for i in metadata],\n",
    "    'treatment': [i[1] for i in metadata],\n",
    "    'imgtype': [i[2] for i in metadata],\n",
    "    'rep': [i[3] for i in metadata],    \n",
    "    'file': filenames,\n",
    "    'image': [image.imread(f) for f in filenames]\n",
    "})\n",
    "\n",
    "df.head()"
   ]
  },
  {
   "cell_type": "markdown",
   "id": "af4bcfad-7a12-4c9b-888d-2e59a288d068",
   "metadata": {},
   "source": [
    "## Looking at the image data\n",
    "\n",
    "Before we get into quantitative analyses, let's take a moment to look at the images that represent the raw data."
   ]
  },
  {
   "cell_type": "code",
   "execution_count": null,
   "id": "28bbcc63-f553-4cdd-86c2-5965e39c5613",
   "metadata": {},
   "outputs": [],
   "source": [
    "# plot the grayscale images \n",
    "\n",
    "\n",
    "fig, axes = plt.subplots(nrows = 2, ncols = 2,\n",
    "                        sharex = True, sharey = True,\n",
    "                        figsize = (8,8))\n",
    "\n",
    "\n",
    "# iterating over rows of a data frame is usually considered inefficient\n",
    "# if you're doing computations that can be expressed in vectorized form\n",
    "# but for this plotting application it's a decent solution\n",
    "\n",
    "gray_df = df[df[\"imgtype\"] == \"gray\"]\n",
    "\n",
    "ct = 0\n",
    "for (idx, row) in gray_df.iterrows():\n",
    "    ax = axes[ct // 2, ct % 2]\n",
    "    ax.imshow(row[\"image\"])\n",
    "    ax.set_title(f'{row[\"treatment\"]}, {row[\"rep\"]}')\n",
    "    ct += 1\n",
    "\n",
    "plt.tight_layout()\n",
    "    "
   ]
  },
  {
   "cell_type": "markdown",
   "id": "2437b6e2-2d2d-441b-807a-598d59e12fcf",
   "metadata": {},
   "source": [
    "### Segmentation masks\n",
    "\n",
    "Now let's look at the segmented masks for these images which were created in ImageJ. Segmentation is the process of finding objects of interest in images.\n",
    "\n",
    "We could carry out such a segmentation in Python, using Scikit-Image or other libraries, but for simplicity we'll use the already existing masks \n",
    "\n"
   ]
  },
  {
   "cell_type": "code",
   "execution_count": null,
   "id": "0aaedd47-e687-4ae3-9263-52e1acdf1427",
   "metadata": {},
   "outputs": [],
   "source": [
    "\n",
    "# Mask data\n",
    "\n",
    "fig, axes = plt.subplots(nrows = 2, ncols = 2,\n",
    "                        sharex = True, sharey = True,\n",
    "                        figsize = (8,8))\n",
    "\n",
    "\n",
    "mask_df = df[df[\"imgtype\"] == \"mask\"]\n",
    "\n",
    "ct = 0\n",
    "for (idx, row) in mask_df.iterrows():\n",
    "    ax = axes[ct // 2, ct % 2]\n",
    "    ax.imshow(row[\"image\"])\n",
    "    ax.set_title(f'{row[\"treatment\"]}, {row[\"rep\"]}')\n",
    "    ct += 1\n",
    "\n",
    "plt.tight_layout()"
   ]
  },
  {
   "cell_type": "markdown",
   "id": "324996f7-e611-48e3-8b61-1f9aab0afcf0",
   "metadata": {},
   "source": [
    "# Masks to labeled arrays\n",
    "\n",
    "Our next step involves turning the masks into labeled arrays we can use to measure properties of interest on each of the segemented cells.\n",
    "\n",
    "We'll write functions to carry out these steps so we can apply them easily to multiple rows."
   ]
  },
  {
   "cell_type": "code",
   "execution_count": null,
   "id": "99a8397b-7a26-4d2c-812d-793e84e65ffe",
   "metadata": {},
   "outputs": [],
   "source": [
    "def mask2labeled(rgbmask, threshold = 25):\n",
    "    \"\"\"Convert an RGB mask to a segmented and labeled array\n",
    "    \"\"\"\n",
    "    # the masks are rgb images\n",
    "    # we sum across the RGB layers (axis = 2), and threshold\n",
    "    masksum = rgbmask.sum(axis = 2)  \n",
    "    binary = masksum >= 25\n",
    "    lblimg = skimage.measure.label(binary)\n",
    "    return lblimg\n",
    "    \n",
    "\n",
    "def labeled_properties_df(lblimg, properties=[\"label\", \"centroid\", \"area\", \"feret_diameter_max\"]):\n",
    "    \"\"\"From a labeled array, calculate various properties of the segmented objects.\n",
    "\n",
    "    For the full list of retrievable properties see:\n",
    "      https://scikit-image.org/docs/stable/api/skimage.measure.html#skimage.measure.regionprops\n",
    "    \"\"\"\n",
    "    regiontbl = skimage.measure.regionprops_table(lblimg, properties=properties)\n",
    "    return pd.DataFrame(regiontbl)\n",
    "\n",
    "                          "
   ]
  },
  {
   "cell_type": "code",
   "execution_count": null,
   "id": "0c2b28f3-3af0-40e9-9bf3-4c46bd7ebd80",
   "metadata": {},
   "outputs": [],
   "source": [
    "# Let's test those functions on one of our masked arrays\n",
    "\n",
    "masked_image = mask_df[\"image\"].iloc[0]  # grab the first masked array \n",
    "\n",
    "labeled_image = mask2labeled(masked_image)\n",
    "\n",
    "fig, (ax1, ax2) = plt.subplots(nrows=1, ncols=2, figsize = (10,4))\n",
    "\n",
    "ax1.imshow(labeled_image > 0)  # binary representing\n",
    "ax2.imshow(skimage.color.label2rgb(labeled_image)) # each object colored a different color"
   ]
  },
  {
   "cell_type": "code",
   "execution_count": null,
   "id": "b40b6eaa-97c6-4121-a4bd-950670400d58",
   "metadata": {},
   "outputs": [],
   "source": [
    "# our labeled_properties_df function takes a labeled image as input\n",
    "# and produces a DataFrame of the resulting properties, with each\n",
    "# row representing an object\n",
    "\n",
    "prop_df = labeled_properties_df(labeled_image)\n",
    "\n",
    "prop_df.head()"
   ]
  },
  {
   "cell_type": "markdown",
   "id": "cf2d6158-9272-44e9-9a10-ef9c01514be2",
   "metadata": {},
   "source": [
    "## Adding the properties DataFrames as columns in our higher level DataFrame\n",
    "\n",
    "DataFrame can hold arbitrary Python objects, including other DataFrames!  Below we create a new column in `mask_df` to hold each of the property DataFrames corresponding to each masked image."
   ]
  },
  {
   "cell_type": "code",
   "execution_count": null,
   "id": "b321d052-220e-4aff-b49f-632614ada0a5",
   "metadata": {},
   "outputs": [],
   "source": [
    "# add new columns for the labeled image arrays and the cell properties data frames\n",
    "\n",
    "mask_df[\"labeled_img\"] = [mask2labeled(i) for i in mask_df[\"image\"]]\n",
    "mask_df[\"cell_properties\"] = [labeled_properties_df(i) for i in mask_df[\"labeled_img\"]]\n",
    "\n",
    "mask_df.head()"
   ]
  },
  {
   "cell_type": "markdown",
   "id": "268ae782-556e-4f89-995b-84fb6e664f3c",
   "metadata": {},
   "source": [
    "Below we're going to combine all the cell properties data frames into one, so we'll add additional columns onto the sub-data frames so we can do grouping operations as appropriate after they've been combined."
   ]
  },
  {
   "cell_type": "code",
   "execution_count": null,
   "id": "301f429a-4877-4a78-928b-9be4fcb9b14f",
   "metadata": {},
   "outputs": [],
   "source": [
    "for (i,row) in mask_df.iterrows():\n",
    "    row[\"cell_properties\"][\"treatment\"] = row[\"treatment\"]\n",
    "    row[\"cell_properties\"][\"rep\"] = row[\"rep\"]"
   ]
  },
  {
   "cell_type": "code",
   "execution_count": null,
   "id": "9ab4f11b-3800-4795-bb81-b05b98e3a827",
   "metadata": {},
   "outputs": [],
   "source": [
    "# here's what one of these sub-DFs looks like now\n",
    "\n",
    "mask_df[\"cell_properties\"].iloc[0].head()"
   ]
  },
  {
   "cell_type": "markdown",
   "id": "019f4181-03ab-40b2-a783-02265b718e6b",
   "metadata": {},
   "source": [
    "## Combining the cell properties sub-data frames\n",
    "\n",
    "Now we're ready to combine the sub-DFs into one table of cell properties"
   ]
  },
  {
   "cell_type": "code",
   "execution_count": null,
   "id": "ff6e8869-b699-4079-9b0f-a6d3bdb2c733",
   "metadata": {},
   "outputs": [],
   "source": [
    "cell_props = pd.concat(mask_df[\"cell_properties\"].tolist(), ignore_index=True)"
   ]
  },
  {
   "cell_type": "code",
   "execution_count": null,
   "id": "1b124ce5-8866-404f-a094-92ac37733981",
   "metadata": {},
   "outputs": [],
   "source": [
    "cell_props.shape"
   ]
  },
  {
   "cell_type": "code",
   "execution_count": null,
   "id": "c18f2ed7-928f-42f1-afc5-c5823331a376",
   "metadata": {},
   "outputs": [],
   "source": [
    "cell_props.head()"
   ]
  },
  {
   "cell_type": "markdown",
   "id": "c71d83bb-a463-4620-999d-aac556afa96c",
   "metadata": {},
   "source": [
    "Notice that some of the objects of very small areas -- this represents noise or schmutz in the images. Before we proceeed, let's filter the cell properties table so we only consider objects with areas of at least 100 pixels."
   ]
  },
  {
   "cell_type": "code",
   "execution_count": null,
   "id": "98081c49-2a85-43da-97ad-17feaf2049d8",
   "metadata": {},
   "outputs": [],
   "source": [
    "# This greatly reduces the objects to consider\n",
    "\n",
    "cell_filtered = cell_props[cell_props[\"area\"] >= 100]\n",
    "cell_filtered.shape"
   ]
  },
  {
   "cell_type": "markdown",
   "id": "e8619611-ff5b-4f9a-8dc8-80732f25f797",
   "metadata": {},
   "source": [
    "Now we can group by and apply various computations and counts to group.s"
   ]
  },
  {
   "cell_type": "code",
   "execution_count": null,
   "id": "b56dedb8-d82b-42c9-a299-a607c44e3df5",
   "metadata": {},
   "outputs": [],
   "source": [
    "cell_group = cell_filtered.groupby(\"treatment\")\n",
    "cell_group.groups.keys()"
   ]
  },
  {
   "cell_type": "code",
   "execution_count": null,
   "id": "d635bca9-f90e-4fa1-a336-1dc9da122e1e",
   "metadata": {},
   "outputs": [],
   "source": [
    "# Useful summary stats of the area property\n",
    "\n",
    "cell_group[\"area\"].describe()"
   ]
  },
  {
   "cell_type": "code",
   "execution_count": null,
   "id": "ab9f10a5-6c73-4396-935b-6d787e6e14cf",
   "metadata": {},
   "outputs": [],
   "source": [
    "# Useful summary stats of the feret diameter property\n",
    "\n",
    "cell_group[\"feret_diameter_max\"].describe()"
   ]
  },
  {
   "cell_type": "markdown",
   "id": "121c4a8f-f6bc-40e0-a532-3d3196065300",
   "metadata": {},
   "source": [
    "### Some summary plots"
   ]
  },
  {
   "cell_type": "code",
   "execution_count": null,
   "id": "a7dbae0e-7092-4448-95a6-f4df98e789a6",
   "metadata": {},
   "outputs": [],
   "source": [
    "# Using pandas built-in plotting \n",
    "\n",
    "cell_group.boxplot(column=\"feret_diameter_max\",\n",
    "                  subplots = False,\n",
    "                  grid = False,\n",
    "                  )\n",
    "pass"
   ]
  },
  {
   "cell_type": "markdown",
   "id": "5a2e61b0-2d4b-4981-968b-85672bf7ced5",
   "metadata": {},
   "source": [
    "## Fancier plots with seaborn\n",
    "\n",
    "If you have the seaborn packaged installed it's easy to make nicer plots."
   ]
  },
  {
   "cell_type": "code",
   "execution_count": null,
   "id": "4635fac0-389a-4f83-aa79-d104e540f025",
   "metadata": {},
   "outputs": [],
   "source": [
    "import seaborn as sns"
   ]
  },
  {
   "cell_type": "code",
   "execution_count": null,
   "id": "49e11a18-5e86-4957-aef5-c7aee3c44176",
   "metadata": {},
   "outputs": [],
   "source": [
    "# boxplot plus swarmplots\n",
    "\n",
    "sns.boxplot(x=\"treatment\", y=\"feret_diameter_max\", data=cell_filtered,\n",
    "           hue = \"treatment\", fill = False, showfliers=False)\n",
    "sns.swarmplot(x=\"treatment\", y=\"feret_diameter_max\", data=cell_filtered,\n",
    "             size = 4, hue = \"treatment\")\n",
    "pass"
   ]
  },
  {
   "cell_type": "code",
   "execution_count": null,
   "id": "58120731-66ea-4aeb-a303-6c20dbd55bfd",
   "metadata": {},
   "outputs": [],
   "source": [
    "# alternate representation using strip plots\n",
    "# and pointplots (to draw lines representing means)\n",
    "\n",
    "ax = sns.stripplot(x=\"treatment\", y=\"feret_diameter_max\", data=cell_filtered,\n",
    "             size = 4, hue = \"treatment\", alpha = 0.25)\n",
    "\n",
    "sns.pointplot(x=\"treatment\",\n",
    "                y=\"feret_diameter_max\",\n",
    "                data=cell_filtered,\n",
    "                hue = \"treatment\",\n",
    "                errorbar=None,\n",
    "                marker=\"_\", \n",
    "                markersize=20, \n",
    "                markeredgewidth=3,\n",
    "                estimator='mean',\n",
    "             )\n",
    "\n",
    "plt.xlabel(\"Treament\")\n",
    "plt.ylabel(\"Feret Diameter (pixels)\")\n",
    "plt.title(\"The effect of IBMX treatmeant on cell size, Strain PMY2279\")\n",
    "\n",
    "# showing how to save figure as high resolution PNG\n",
    "plt.savefig(\"example_figure.png\", dpi=600)\n",
    "pass"
   ]
  },
  {
   "cell_type": "code",
   "execution_count": null,
   "id": "648c1c96-eac5-4969-b4bc-6a231d40eb71",
   "metadata": {},
   "outputs": [],
   "source": []
  }
 ],
 "metadata": {
  "kernelspec": {
   "display_name": "Python 3 (ipykernel)",
   "language": "python",
   "name": "python3"
  },
  "language_info": {
   "codemirror_mode": {
    "name": "ipython",
    "version": 3
   },
   "file_extension": ".py",
   "mimetype": "text/x-python",
   "name": "python",
   "nbconvert_exporter": "python",
   "pygments_lexer": "ipython3",
   "version": "3.12.2"
  }
 },
 "nbformat": 4,
 "nbformat_minor": 5
}
