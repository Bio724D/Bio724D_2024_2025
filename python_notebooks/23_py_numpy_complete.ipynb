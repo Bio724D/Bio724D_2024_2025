{
 "cells": [
  {
   "cell_type": "markdown",
   "id": "c7dd67cd-da7a-4efc-bed4-6e82aaf041d8",
   "metadata": {},
   "source": [
    "# Practice with NumPy\n",
    "\n",
    "Author: Greg Wray  \n",
    "2025-MAR-22 "
   ]
  },
  {
   "cell_type": "code",
   "execution_count": null,
   "id": "0d228367-48b0-431e-a202-57b0b7dc9398",
   "metadata": {},
   "outputs": [],
   "source": [
    "import numpy as np\n",
    "import sys\n",
    "from datetime import date\n",
    "import math\n",
    "import random"
   ]
  },
  {
   "cell_type": "markdown",
   "id": "16801404-9c7a-4ea7-b745-1087e9f22f61",
   "metadata": {},
   "source": [
    "## NumPy\n",
    "\n",
    "**NumPy** is a library of data structures and functions for working arrays and matrices in Python. It is widely used in science and engineering. NumPy is a foundational library, not only used on its own, but required for many other libraries. \n",
    "\n",
    "NumPy provides a large set of functions and methods written in C that provide improved performance over base Python functions. This includes a full set of math, logic, and statistics functions, as well as functions specific to working with arrays and linear algebra. \n",
    "\n",
    "Access there official NumPy documentation [here](https://numpy.org/doc/stable/index.html)."
   ]
  },
  {
   "cell_type": "markdown",
   "id": "d4620032-2750-4f98-a1f4-12146cb2fd52",
   "metadata": {},
   "source": [
    "## Introducing ndarrays   \n",
    "\n",
    "The fundamental data structure provided by NumPy is the **ndarray**, which stands for n-dimensional array. As the name implies, ndarrays can be created in any number of dimensions: vector (1-dimensional), array (2-dimensional), matrix (3-dimensional), and so forth. \n",
    "\n",
    "In contrast to base Python iterables, ndarrays have a fixed size that is specified at creation.  \n",
    "\n",
    "An ndarray holds a single data type; it can be any valid Python data type or object, although most commonly numeric and Boolean. While ndarrays can hold strings and even data structures, this is not their primary intended purpose.\n",
    "\n",
    "Importantly, ndarrays are optimized for **speed** and for **vectorized** operations. \n",
    "   \n",
    "To illustrate the performance difference, we can use `timeit`, a Jupyter \"magic\" that measures the time required execute a Python statement. Note that the ndarray is processed 1-2 orders of magnitude faster. Try some other operations for comparison. "
   ]
  },
  {
   "cell_type": "code",
   "execution_count": null,
   "id": "7b35f477-6d20-4633-9296-4cac366dd521",
   "metadata": {},
   "outputs": [],
   "source": [
    "# create a big list and a big ndarray\n",
    "my_list = list(range(1_000_000))\n",
    "arr_A = np.arange(1_000_000)"
   ]
  },
  {
   "cell_type": "code",
   "execution_count": null,
   "id": "cab36b53-ed0d-4767-88a6-f35b40f026b0",
   "metadata": {},
   "outputs": [],
   "source": [
    "# apply a function to each item and time the operation\n",
    "%timeit my_list_2 = [x * 2.333 for x in my_list]"
   ]
  },
  {
   "cell_type": "code",
   "execution_count": null,
   "id": "ce949329-243e-4cf5-8c95-7c351dc5b49d",
   "metadata": {},
   "outputs": [],
   "source": [
    "# apply a function to each item and time the operation\n",
    "%timeit arr_A_2 = arr_A * 2.333"
   ]
  },
  {
   "cell_type": "markdown",
   "id": "c8cc8bbc-432d-4b53-9fcc-ee9b51054900",
   "metadata": {},
   "source": [
    "To illustrate vectorized operations, we can create another array, then carry out arithmetic and matrix operations directly on the array object without needing to loop through each element. This also makes code *much* easier to understand. "
   ]
  },
  {
   "cell_type": "code",
   "execution_count": null,
   "id": "8ffa2edb-8cad-40a9-9723-c5f9c5ebfb9e",
   "metadata": {},
   "outputs": [],
   "source": [
    "# create an array (syntax will be explained later)\n",
    "arr_B = np.arange(0, 100, 5).reshape(4,5)\n",
    "arr_B"
   ]
  },
  {
   "cell_type": "code",
   "execution_count": null,
   "id": "379b4795-604d-4489-a9fb-16e8a018cd37",
   "metadata": {},
   "outputs": [],
   "source": [
    "# multiply an array by a scalar\n",
    "arr_B * 7"
   ]
  },
  {
   "cell_type": "code",
   "execution_count": null,
   "id": "71029645-a7a5-40a3-bca0-d61e6617c5b0",
   "metadata": {},
   "outputs": [],
   "source": [
    "# add arrays\n",
    "arr_B + arr_B"
   ]
  },
  {
   "cell_type": "code",
   "execution_count": null,
   "id": "7ff56042-3f0e-4204-947c-4c14d332af72",
   "metadata": {},
   "outputs": [],
   "source": [
    "# calculate the square root of every item in an array\n",
    "np.sqrt(arr_B)"
   ]
  },
  {
   "cell_type": "code",
   "execution_count": null,
   "id": "787e8bee-471d-4576-ba15-7aa2ae7fbef3",
   "metadata": {},
   "outputs": [],
   "source": [
    "# transpose an array\n",
    "np.transpose(arr_B)"
   ]
  },
  {
   "cell_type": "markdown",
   "id": "3291e135-0560-4585-9f43-e45b09a0a26e",
   "metadata": {},
   "source": [
    "## Creating ndarrays\n",
    "\n",
    "When working with tabular data, creating a data frame from scratch is uncommon. In contrast, it is often useful to create an array from scratch. NumPy provides a set of useful methods that allow you to quickly generate arrays and populate them with specified values. The following examples illustrate the most common ways to generate ndarrays; refer to the NumPy documentation for other approaches."
   ]
  },
  {
   "cell_type": "markdown",
   "id": "00d58281-7672-42c5-89e2-255098b88cbc",
   "metadata": {},
   "source": [
    "**Create an ndarray from an existing iterable.** The general-purpose method for creating ndarrays is `np.array()`. You can pass any iterable to it, but lists are the most common. (With dictionaries, you first need to convert to a list or else it will treat the entire dictionary as a single element in the array.) Nested iterables are interpreted as arrays with the number of dimensions corresponding to the depth of nesting. "
   ]
  },
  {
   "cell_type": "code",
   "execution_count": null,
   "id": "3b8274ba-66f4-423e-bf02-37cb90e9f608",
   "metadata": {},
   "outputs": [],
   "source": [
    "# generate some lists\n",
    "simple_list = [22, -1, 5, 17, 9, 24, 31, 99, -42]\n",
    "nested_list = [[1, 8, 101, 50], [5, 1, 19, 44], [72, -4, 1, -30], [50, 37, -61, 1]]"
   ]
  },
  {
   "cell_type": "code",
   "execution_count": null,
   "id": "1f0fb20a-d487-422e-b2e7-f30ce593ad22",
   "metadata": {},
   "outputs": [],
   "source": [
    "# create a 1D ndarray from flat list\n",
    "np.array(simple_list)"
   ]
  },
  {
   "cell_type": "code",
   "execution_count": null,
   "id": "f29fe362-4e03-4d5f-bcf3-360d1ad6bf09",
   "metadata": {},
   "outputs": [],
   "source": [
    "# create a 2D ndarray from nested list\n",
    "np.array(nested_list)"
   ]
  },
  {
   "cell_type": "markdown",
   "id": "b6a31a0b-0bd2-411e-823a-1bd31e7a1d7a",
   "metadata": {},
   "source": [
    "**Create an ndarray filled with a specified value.** NumPy provides functions for creating specific kinds of arrays. The first argument in all cases is the *shape* of the array: pass the same number of integers as dimensions, with values corresponding to length of each dimension. For more than 1 dimension, pass a tuple."
   ]
  },
  {
   "cell_type": "code",
   "execution_count": null,
   "id": "53a2bce9-a9dc-4fd1-b893-6205753a8558",
   "metadata": {},
   "outputs": [],
   "source": [
    "# create a 1D ndarray filled with zeros\n",
    "np.zeros(16)"
   ]
  },
  {
   "cell_type": "code",
   "execution_count": null,
   "id": "b8c74e7d-4c30-440f-a8b3-48c3afa81b97",
   "metadata": {},
   "outputs": [],
   "source": [
    "# create a 2D ndarray filled with zeros\n",
    "np.zeros((4, 4))"
   ]
  },
  {
   "cell_type": "code",
   "execution_count": null,
   "id": "574b2954-a528-425c-8846-7a0d4cddf073",
   "metadata": {},
   "outputs": [],
   "source": [
    "# create a 3D ndarray filled with ones\n",
    "np.ones((2, 3, 4))"
   ]
  },
  {
   "cell_type": "code",
   "execution_count": null,
   "id": "4b0dd84d-7754-4523-a5db-083aad15602e",
   "metadata": {},
   "outputs": [],
   "source": [
    "# create an nD ndarray filled with a single value\n",
    "np.full((4, 5), 42)"
   ]
  },
  {
   "cell_type": "code",
   "execution_count": null,
   "id": "d9bb2d13-ec1e-4ad6-ab38-5630b248735f",
   "metadata": {},
   "outputs": [],
   "source": [
    "# create a 2D array filled with random numbers\n",
    "np.random.rand(6, 4) "
   ]
  },
  {
   "cell_type": "code",
   "execution_count": null,
   "id": "c4eea422-102d-480a-a936-1ed412d90a5e",
   "metadata": {},
   "outputs": [],
   "source": [
    "# create a 2D ndarray of 0s with 1s on the diagonal (identity matrix); .eye() is a synonym\n",
    "#   only needs 1 value, since the identify matrix is a square\n",
    "np.identity(8)"
   ]
  },
  {
   "cell_type": "code",
   "execution_count": null,
   "id": "2d31a4df-760c-4600-a9fb-f29d9c47f674",
   "metadata": {},
   "outputs": [],
   "source": [
    "# create a 2D ndarray filled with a single number except with 1s on the diagonal\n",
    "#   first create the identity arrray as above, then filter and reassign 0 values\n",
    "arr_C = np.identity(8)\n",
    "arr_C[arr_C == 0] = 5\n",
    "arr_C"
   ]
  },
  {
   "cell_type": "markdown",
   "id": "a02f57eb-8564-4fc4-b539-c6fad1920b1f",
   "metadata": {},
   "source": [
    "**Create an ndarray by generating a sequence.** Use the `arange()` function to generate a sequence of numbers while creating an ndarray. This function is analogous to the `range()` function of base Python."
   ]
  },
  {
   "cell_type": "code",
   "execution_count": null,
   "id": "e8ad51b0-6e12-4e83-9153-44378d170153",
   "metadata": {},
   "outputs": [],
   "source": [
    "# generate a 1D ndarray from a sequence\n",
    "np.arange(8)"
   ]
  },
  {
   "cell_type": "code",
   "execution_count": null,
   "id": "0d973844-f96f-4f9b-9ff2-fa978a2ee314",
   "metadata": {},
   "outputs": [],
   "source": [
    "# arange() takes the same optional arguments as range()\n",
    "np.arange(0, 100, 5)"
   ]
  },
  {
   "cell_type": "code",
   "execution_count": null,
   "id": "57b5d914-23db-4f8d-af68-1296c213d301",
   "metadata": {},
   "outputs": [],
   "source": [
    "# use .reshape to make a 2D ndarray\n",
    "np.arange(0, 100, 5).reshape(4, 5)"
   ]
  },
  {
   "cell_type": "markdown",
   "id": "955b9d26-594a-4733-a192-1fd2df3a8073",
   "metadata": {},
   "source": [
    "## Data types\n",
    "\n",
    "NumPy provides a much larger set of atomic data types than base Python. Available data types are essentially the ones available in C, since much of NumPy is written in C. For numerics, you have control over not only integer, float, and complex types, but also amount of memory per item and whether you need negative values. In general, chose the smallest and simplest data type that can hold your data; this can result in signifcant savings in memory and compute time.   \n",
    "\n",
    "Examples of NumPy data types are: `float64` (64-bit float), `uint8` (unsigned 8-bit integer), and `int32` (signed 32-bit integer). To use these data types, prefix with `np.`. You can also use generic names `int` and `float` if you are not concerned with memory and performance. Strings are a special case and won't be covered here. See the NumPy documentation for a full list of available data types and their names. \n",
    "\n",
    "**Specify data type at creation.** Use the optional `dtype` argument with most ndarray generator functions to indicate the data type you would like.   "
   ]
  },
  {
   "cell_type": "code",
   "execution_count": null,
   "id": "2aae65d4-76b0-4e2a-8e91-bb4ec270ff45",
   "metadata": {},
   "outputs": [],
   "source": [
    "# generate a 2D ndarray of small unsigned integers\n",
    "np.arange(0, 100, 5, dtype=np.uint8).reshape(4,5)"
   ]
  },
  {
   "cell_type": "code",
   "execution_count": null,
   "id": "aba9ab3f-f83d-49f7-9813-45a0779d75fb",
   "metadata": {},
   "outputs": [],
   "source": [
    "# generate a 2D ndarray of medium floats\n",
    "np.arange(0, 100, 5, dtype=np.float16).reshape(4,5)"
   ]
  },
  {
   "cell_type": "code",
   "execution_count": null,
   "id": "9f651f8b-15f9-41ca-a866-4f9634d4b308",
   "metadata": {},
   "outputs": [],
   "source": [
    "# generate a 2D ndarray of booleans; the easiest way is using full()\n",
    "np.full((4, 5), False)"
   ]
  },
  {
   "cell_type": "markdown",
   "id": "2c41cfb5-bbd5-4251-8625-aa2f88fddf94",
   "metadata": {},
   "source": [
    "**Convert between data types.** Use the `.astype()` method to convert an existing ndarray to a different data type. You can check on the data type of an existing array by calling the `.dtype` attribute."
   ]
  },
  {
   "cell_type": "code",
   "execution_count": null,
   "id": "8888e6ca-a4c5-462f-abd2-b56c6dbaad71",
   "metadata": {},
   "outputs": [],
   "source": [
    "# check data type\n",
    "arr_C = np.identity(8)\n",
    "arr_C.dtype"
   ]
  },
  {
   "cell_type": "code",
   "execution_count": null,
   "id": "2d49c0cd-da9d-4f18-a642-0fea340fddbd",
   "metadata": {},
   "outputs": [],
   "source": [
    "# convert data type\n",
    "arr_C.astype(np.int32)"
   ]
  },
  {
   "cell_type": "markdown",
   "id": "e4dacc57-81e8-4c3e-8022-87f58abbe219",
   "metadata": {},
   "source": [
    "## Input / output with arrays\n",
    "\n",
    "The following examples illustrate how to move values into and out of npdarrrays. "
   ]
  },
  {
   "cell_type": "code",
   "execution_count": null,
   "id": "68732e88-be61-4e04-88f4-2d8d0e2feab6",
   "metadata": {},
   "outputs": [],
   "source": [
    "# return a standard Python list with nesting corresponding to array dimensions\n",
    "#    See \"Create an ndarray from an existing iterable\" (above) for  the opposite operation\n",
    "arr_D = np.arange(10).reshape(2, 5)\n",
    "print(arr_D, '\\n')\n",
    "list_D = arr_D.tolist()\n",
    "print(list_D)\n",
    "type(list_D)"
   ]
  },
  {
   "cell_type": "code",
   "execution_count": null,
   "id": "a6f9b39e-125a-4fd5-9158-a169714ecb62",
   "metadata": {},
   "outputs": [],
   "source": [
    "# read from a file directly into an ndarray\n",
    "np.genfromtxt('small.txt', delimiter=',')"
   ]
  },
  {
   "cell_type": "code",
   "execution_count": null,
   "id": "2ce1c099-e94d-4dc0-9e01-f52f55d3509f",
   "metadata": {},
   "outputs": [],
   "source": [
    "# save an ndarray as a .csv file\n",
    "arr_E = np.arange(0, 20, dtype=np.uint32).reshape(4, 5)\n",
    "np.savetxt('output.csv', arr_E, delimiter=',')\n",
    "arr_E\n"
   ]
  },
  {
   "cell_type": "markdown",
   "id": "cae3742f-5e9b-4bab-ac76-c39030452915",
   "metadata": {},
   "source": [
    "## Retrieving information about an ndarray\n",
    "\n",
    "**Attributes.** NumPy provides several attributes and functions to retrieve information about an ndarray. The following are some of the more useful ones; consult the NumPy documentation for a full list and more information. These attributes and functions are particularly useful when you will be changing the size, shape, or dimensions of an array within a program. Some kinds of information can be returned from either a function or an attribute, because attributes can be chained while functions are more useful for functional programming. Remember that attributes should not be followed by `()`."
   ]
  },
  {
   "cell_type": "code",
   "execution_count": null,
   "id": "c00abe9e-1753-4770-9ec1-d37349030b38",
   "metadata": {},
   "outputs": [],
   "source": [
    "# create an array to work with\n",
    "arr_F = np.arange(0, 400, 5).reshape(4, 4, 5)\n",
    "print(arr_F)"
   ]
  },
  {
   "cell_type": "code",
   "execution_count": null,
   "id": "29d4edcd-8e6e-4892-955c-e3a741b12645",
   "metadata": {},
   "outputs": [],
   "source": [
    "# retrieve data type\n",
    "type(arr_F)"
   ]
  },
  {
   "cell_type": "code",
   "execution_count": null,
   "id": "e29008cd-fb3b-41d2-80a7-c49b7bedef4c",
   "metadata": {},
   "outputs": [],
   "source": [
    "# retrieve the number of dimensions; attribute\n",
    "arr_F.ndim"
   ]
  },
  {
   "cell_type": "code",
   "execution_count": null,
   "id": "2bd239cf-18bd-4971-93b3-bed1aebb18ec",
   "metadata": {},
   "outputs": [],
   "source": [
    "# retrieve the length of each axis; attribute\n",
    "arr_F.shape"
   ]
  },
  {
   "cell_type": "code",
   "execution_count": null,
   "id": "5ab35481-c732-4946-a395-1945b1a445ac",
   "metadata": {},
   "outputs": [],
   "source": [
    "# retrieve the total number of elements; attribute\n",
    "arr_F.size"
   ]
  },
  {
   "cell_type": "code",
   "execution_count": null,
   "id": "3d5c5bab-c181-4dbf-8d71-657c576b8448",
   "metadata": {},
   "outputs": [],
   "source": [
    "# retrieve the amount of memory that the array occupies; attribute\n",
    "arr_F.nbytes"
   ]
  },
  {
   "cell_type": "code",
   "execution_count": null,
   "id": "7b2594ff-a9c1-4353-883b-a5cf5e7bbb49",
   "metadata": {},
   "outputs": [],
   "source": [
    "# retrieve the number of dimensions; function\n",
    "np.ndim(arr_F)"
   ]
  },
  {
   "cell_type": "code",
   "execution_count": null,
   "id": "92353738-2eba-4430-b294-584367328491",
   "metadata": {},
   "outputs": [],
   "source": [
    "# retrieve the number of dimensions; function\n",
    "np.shape(arr_F)"
   ]
  },
  {
   "cell_type": "code",
   "execution_count": null,
   "id": "f060651f-a164-4cab-a210-df64dcb80575",
   "metadata": {},
   "outputs": [],
   "source": [
    "# retrieve the total number of elements; function\n",
    "np.size(arr_F)"
   ]
  },
  {
   "cell_type": "code",
   "execution_count": null,
   "id": "f0106fae-25fc-46d6-90cd-b8ea815cf650",
   "metadata": {},
   "outputs": [],
   "source": [
    "# retrieve the number of elements on axis 2; function\n",
    "np.size(arr_F, axis=2)"
   ]
  },
  {
   "cell_type": "markdown",
   "id": "08518bba-8119-4bdd-8497-911756ab852a",
   "metadata": {},
   "source": [
    "**Contents by condition.** To find out if an array contains values that meet a given condition, use the NumPy versions of `any()` and `all()`. These can be applied to a single axis with an optional argument; in this case, NumPy returns a list of values for each column or row (depending on which axis is requested). Note that compound conditions use `&` and `|` for AND and OR; to negate use `~`."
   ]
  },
  {
   "cell_type": "code",
   "execution_count": null,
   "id": "702f13f3-7cfc-4d86-b5b3-111eed2b3a31",
   "metadata": {},
   "outputs": [],
   "source": [
    "# first, create an array to use\n",
    "arr_G = np.arange(0, 100, 5).reshape(4,5)\n",
    "print(arr_G)"
   ]
  },
  {
   "cell_type": "code",
   "execution_count": null,
   "id": "d28cfb1d-8efe-4357-b32b-845741b53185",
   "metadata": {},
   "outputs": [],
   "source": [
    "# test whether any values in the array are larger than 50\n",
    "np.any(arr_G > 70)"
   ]
  },
  {
   "cell_type": "code",
   "execution_count": null,
   "id": "0335c610-0806-4533-94f1-a1323aaaf3d0",
   "metadata": {},
   "outputs": [],
   "source": [
    "# test whether all values in the array are positive\n",
    "np.all(arr_G > 0)"
   ]
  },
  {
   "cell_type": "code",
   "execution_count": null,
   "id": "abacbe50-2c0e-44e5-b371-514128be02b8",
   "metadata": {},
   "outputs": [],
   "source": [
    "# test whether all values in each column are larger than 10\n",
    "np.all(arr_G > 10, axis=0)"
   ]
  },
  {
   "cell_type": "code",
   "execution_count": null,
   "id": "0c16b9cb-c76d-4e1f-bd27-5bf26e218d4e",
   "metadata": {},
   "outputs": [],
   "source": [
    "# test whether any values in the array meet a compound condition\n",
    "np.any((arr_G > 10) & (arr_G < 70))"
   ]
  },
  {
   "cell_type": "markdown",
   "id": "48d05397-0d5d-4520-bf35-4f6a70234bb3",
   "metadata": {},
   "source": [
    "## Indexing ndarrays\n",
    "Use square bracket indexing to access values in ndarrays. This works similarly to plain Python: indexing is zero-based and accepts negative values as well as slices, including open slices. You can pass up to the same number of arguments as array dimensions; fewer arguments than dimensions will retrieve sub-arrays (see examples below). Arguments are separated by commas; each argument can have 1, 2, or 3 values separated by colons (start; start:stop; and start:stop:step).   \n",
    "\n",
    "When mentally mapping indexes onto an ndarray, a good rule of thumb is to work your way from outer to inner representation. In a 2-dimensional array, the outer dimension (axis = 0, first argument) refers to rows and the inner dimension (axis = 1, second argument) refers to columns. In a 3-dimensional array, the outer dimension (axis = 0) refers to \"planes\", the intermediate (axis = 1) refers to rows, and the inner (axis = 2) refers to columns. Another way to think about this is that internal columns are always the last dimension, and internal rows are always the second-to-last. If you require 4- and higher dimensional arrays (tensors), the same basic principles hold, but are beyond the scope of this notebook."
   ]
  },
  {
   "cell_type": "code",
   "execution_count": null,
   "id": "aa9a0e23-cf7f-4e22-94a4-e90b927facd5",
   "metadata": {},
   "outputs": [],
   "source": [
    "# create 1-dimensional array\n",
    "arr_H = np.arange(10)\n",
    "print(arr_H)"
   ]
  },
  {
   "cell_type": "code",
   "execution_count": null,
   "id": "e7a51ae6-6bc2-42fd-86bf-3fb11697b1ee",
   "metadata": {},
   "outputs": [],
   "source": [
    "# index a 1-dimensional array\n",
    "arr_H[3]"
   ]
  },
  {
   "cell_type": "code",
   "execution_count": null,
   "id": "7ce95347-2984-47bf-b9de-d45ef42ac644",
   "metadata": {},
   "outputs": [],
   "source": [
    "# create 2-dimensional array\n",
    "arr_I = np.arange(36).reshape(6, 6)\n",
    "print(arr_I)"
   ]
  },
  {
   "cell_type": "code",
   "execution_count": null,
   "id": "76ec1b6f-5ef7-48dc-ae9b-a2907b29564b",
   "metadata": {},
   "outputs": [],
   "source": [
    "# index a 2-dimensional array; the first value refers to rows, the second to columns\n",
    "arr_I[3, 4]"
   ]
  },
  {
   "cell_type": "code",
   "execution_count": null,
   "id": "535ecc42-3c7b-49ed-b695-17d414c99970",
   "metadata": {},
   "outputs": [],
   "source": [
    "# create a 3-dimensional array\n",
    "arr_J = np.arange(0, 400, 5).reshape(4,4,5)\n",
    "print(arr_J)"
   ]
  },
  {
   "cell_type": "code",
   "execution_count": null,
   "id": "bba7b377-6dcf-466b-8037-ad01fa45cbdf",
   "metadata": {},
   "outputs": [],
   "source": [
    "# index a 3-dimensional array\n",
    "#    the first value refers to the separated layers, the second to rows, and the third to columns\n",
    "arr_J[3, 2, 1]"
   ]
  },
  {
   "cell_type": "markdown",
   "id": "fe2811f5-c82f-4ce8-8d29-4ee9df130a02",
   "metadata": {},
   "source": [
    "**Subsetting in multiple dimensions.** Indexing a multidimensional array with the *same number of indices as dimensions* returns a single element. For instance, `my_arr[3,2,1]` returns the value of a single element if `my_arr` has 3 dimensions. To retrieve a single element from a 2-dimesional array requires 2 indices. And so forth.\n",
    "\n",
    "Indexing a multidimensional array with *fewer indices than dimensions* returns a subdimensional array. For instance, `my_arr[2,1]` returns a 2-dimensional array if `my_arr` has three dimensions."
   ]
  },
  {
   "cell_type": "code",
   "execution_count": null,
   "id": "39d9852e-bed0-4e92-a187-193d7bf2abb2",
   "metadata": {},
   "outputs": [],
   "source": [
    "# create a 3-dimensional array to work with\n",
    "arr_J = np.arange(0, 400, 5).reshape(4,4,5)\n",
    "print(arr_J)"
   ]
  },
  {
   "cell_type": "code",
   "execution_count": null,
   "id": "1b2738bb-eb12-480c-af8c-d8d83d0822ce",
   "metadata": {},
   "outputs": [],
   "source": [
    "# retrieve a single element from a 3-dimensional array\n",
    "arr_J[3,2,1]"
   ]
  },
  {
   "cell_type": "code",
   "execution_count": null,
   "id": "01f3f90a-4dd3-4fe6-8f0d-335f54034b4e",
   "metadata": {},
   "outputs": [],
   "source": [
    "# retrieve a 1-dimensional array from a 3-dimensional array\n",
    "arr_J[3,2]"
   ]
  },
  {
   "cell_type": "code",
   "execution_count": null,
   "id": "4ad2f304-5b86-4b07-964b-52a1baa8a3db",
   "metadata": {},
   "outputs": [],
   "source": [
    "# retrieve a 2-dimensional array from a 3-dimensional array\n",
    "arr_J[3]"
   ]
  },
  {
   "cell_type": "markdown",
   "id": "c45c51fb-e71c-4f54-8bcf-ec844adf9897",
   "metadata": {},
   "source": [
    "**Indexing with slices.** Slices provide a powerful and elegant way to access multiple values within arrays. Getting comfortable with slicing will let you efficiently index rows and columns of 2-dimensional arrays, and planes, rows, and columns in any dimension of 3-dimensional arrays. Practice indexing with slices on 1- and 2- dimensional arrays first, as it quickly gets complicated with 3- and higher-dimensional arrays. With a 2-dimensional array, the first argument refers to rows and second to columns."
   ]
  },
  {
   "cell_type": "code",
   "execution_count": null,
   "id": "e1083c4b-7feb-4401-8ad5-ab25c475ba03",
   "metadata": {},
   "outputs": [],
   "source": [
    "# create a 2-dimensional array to work with\n",
    "arr_K = arr_J[0]\n",
    "print(arr_K)"
   ]
  },
  {
   "cell_type": "code",
   "execution_count": null,
   "id": "3216a2be-5ff8-433b-a45f-5a96be1836f4",
   "metadata": {},
   "outputs": [],
   "source": [
    "# retrieve the first column (axis 1)\n",
    "arr_K[:,0]"
   ]
  },
  {
   "cell_type": "code",
   "execution_count": null,
   "id": "c980b6e0-8ab1-492a-b64c-8bdbf545bd04",
   "metadata": {},
   "outputs": [],
   "source": [
    "# retrieve the fourth row (axis 0)\n",
    "arr_K[3,:]"
   ]
  },
  {
   "cell_type": "code",
   "execution_count": null,
   "id": "62da66f0-3e4e-4db0-a99c-d37a3a089186",
   "metadata": {},
   "outputs": [],
   "source": [
    "# retrieve a smaller 2-dimensional array\n",
    "arr_K[:3,:3]"
   ]
  },
  {
   "cell_type": "code",
   "execution_count": null,
   "id": "8d91a5e1-8a95-4ea9-98d5-b81b8457d282",
   "metadata": {},
   "outputs": [],
   "source": [
    "# negative indices are useful for retrieving the highest-index values\n",
    "arr_K[-2:,-2:]"
   ]
  },
  {
   "cell_type": "code",
   "execution_count": null,
   "id": "1e6a4576-3a3b-4439-84bb-c94c8bd1fd23",
   "metadata": {},
   "outputs": [],
   "source": [
    "# retrieve every other column \n",
    "arr_K[:,::2]"
   ]
  },
  {
   "cell_type": "code",
   "execution_count": null,
   "id": "c7cb3ea7-705c-45d5-a640-a0def5969c03",
   "metadata": {},
   "outputs": [],
   "source": [
    "# retrieve an array with the order of rows, but not columns, reversed\n",
    "arr_K[::-1,:]"
   ]
  },
  {
   "cell_type": "markdown",
   "id": "51603442-629b-45f0-a46b-0a2cc4102e10",
   "metadata": {},
   "source": [
    "When indexing a 3-dimensional array, work your way from the outermost to innnermost brackets."
   ]
  },
  {
   "cell_type": "code",
   "execution_count": null,
   "id": "4d955041-20a6-4602-8bea-090c0c8d4a0d",
   "metadata": {},
   "outputs": [],
   "source": [
    "# create an array to work with\n",
    "arr_J = np.arange(0, 400, 5).reshape(4,4,5)\n",
    "print(arr_J)"
   ]
  },
  {
   "cell_type": "code",
   "execution_count": null,
   "id": "7a50492a-44d1-4475-8052-76450c0300f9",
   "metadata": {},
   "outputs": [],
   "source": [
    "# retrieve the value of a column from the third dimension of a 3-dimensional array\n",
    "arr_J[1,:,2]"
   ]
  },
  {
   "cell_type": "code",
   "execution_count": null,
   "id": "71a1d325-b0f7-4d32-b74c-f2972d5ddc5d",
   "metadata": {},
   "outputs": [],
   "source": [
    "# retrieve the value of a row from the second dimension of a 3-dimensional array\n",
    "arr_J[1,3,:]"
   ]
  },
  {
   "cell_type": "markdown",
   "id": "d4087628-dfb6-4f7f-ad0e-23e5fcd95896",
   "metadata": {},
   "source": [
    "**Fancy indexing.** It is also possible to index an ndarray using a list of integers. NumPy calls this *fancy indexing*. This approach is useful when you want to extract discontinuous or out-of-order items, rows, or columms. Fancy indexing always returns a new data object, not a view of the original. The examples below use 2-dimensional arrays, but fancy indexing works with any number of dimensions (if you can wrap your head around how to do it). Note that indexing in the nested array is by a list of values in dimension zero, followed by a list of values in dimension 1; do not pass separate pairs of values for each item you want back. "
   ]
  },
  {
   "cell_type": "code",
   "execution_count": null,
   "id": "0275b7ef-c7e6-4e09-abdd-dee56102859a",
   "metadata": {},
   "outputs": [],
   "source": [
    "# create an array to work with\n",
    "arr_L = np.arange(32).reshape((8, 4))\n",
    "print(arr_L)"
   ]
  },
  {
   "cell_type": "code",
   "execution_count": null,
   "id": "93643379-fc76-4dcc-a659-29b5231bfc1e",
   "metadata": {},
   "outputs": [],
   "source": [
    "# retrieve a discontinuous set of rows using fancy indexing\n",
    "#   note that we are passing a list to square bracket indexing\n",
    "arr_L[[3,0,5], :]"
   ]
  },
  {
   "cell_type": "code",
   "execution_count": null,
   "id": "a77677d5-ac76-49a7-b6bc-890eb9d7cb1a",
   "metadata": {},
   "outputs": [],
   "source": [
    "# retrieve a discontinuous set of columns using fancy indexing\n",
    "#   note that we are passing a list to the second argument of square bracket indexing\n",
    "#   note that we need to pass :, before the list to indicate that the list applies to axis=1\n",
    "arr_L[:,[2, 0]]"
   ]
  },
  {
   "cell_type": "code",
   "execution_count": null,
   "id": "800109dd-3d3e-464a-a874-3069521ac207",
   "metadata": {},
   "outputs": [],
   "source": [
    "# retrieve a discontinuous set of items using fancy indexing\n",
    "#   note that we are passing a nested list; the two sub-lists must be the same length\n",
    "arr_L[[0,6,2], [2,0,1]]"
   ]
  },
  {
   "cell_type": "markdown",
   "id": "12595374-e8e8-4893-ab2c-ce604b4afee1",
   "metadata": {},
   "source": [
    "**Boolean indexing.** Recall that Boolean indexing involves first making a \"mask\": a data object that containts True/False values for each item in the object you want to filter. Any valid condition can be used to make the mask. Boolean indexing is particularly useful when you want to perform the same filtering step more than once. Like fancy indexing, Boolean indexing with ndarrays always returns a new object. "
   ]
  },
  {
   "cell_type": "code",
   "execution_count": null,
   "id": "1d9aa4d9-22ef-4108-ad87-3da339a2adfb",
   "metadata": {},
   "outputs": [],
   "source": [
    "# create an array\n",
    "simple_list = [21, -1, 5, 65, 17, 9, 24, 31, 99, -44, 13, -4, 29, 82, 36]\n",
    "arr_M = np.array(simple_list).reshape(5, 3)\n",
    "print(arr_M)"
   ]
  },
  {
   "cell_type": "code",
   "execution_count": null,
   "id": "bcbaf156-f4c0-4d1f-917d-3796bfc36c51",
   "metadata": {},
   "outputs": [],
   "source": [
    "# create a mask based on whether value in first column is divisible by 3\n",
    "div_3 = arr_M[:, 0] % 3 == 0\n",
    "div_3"
   ]
  },
  {
   "cell_type": "code",
   "execution_count": null,
   "id": "3d2f980a-f841-460b-818e-30364aafe438",
   "metadata": {},
   "outputs": [],
   "source": [
    "# alternatively, create a mask using where()\n",
    "div_3 = np.where(arr_M[:, 0] % 3 == 0, True, False)\n",
    "div_3"
   ]
  },
  {
   "cell_type": "code",
   "execution_count": null,
   "id": "a0465b7f-8995-4a62-ae5c-5cc8355ae7af",
   "metadata": {},
   "outputs": [],
   "source": [
    "# apply the mask to retrieve values in second and third columns based on True/False in first column\n",
    "arr_M[div_3,1:]"
   ]
  },
  {
   "cell_type": "markdown",
   "id": "0b2ba296-01e8-46c9-98c7-cd9dba6955e7",
   "metadata": {},
   "source": [
    "## Subsetting and copying ndarrays\n",
    "**Views and copies.** When assigning subsets of ndarrays, values are typically *not* copied unless specifically requested. This saves memory and compute time. However, you need to be aware that modifications to a slice or subset will update the source array. Use the `copy()` function if you want to create a distinct object in memory. Fancy indexing and Boolean idexing are exceptions: they always create a copy by default. NumPy documentation distinguishes between *views* and *copies* to make it clear which kind of behavior to expect."
   ]
  },
  {
   "cell_type": "code",
   "execution_count": null,
   "id": "b2bb6570-d1cf-4f8e-a501-f43329d390c6",
   "metadata": {},
   "outputs": [],
   "source": [
    "# updating a view updates the source array\n",
    "arr_N = np.arange(0, 6)\t\t\n",
    "my_slice = arr_N[:3]\n",
    "my_slice[2] = 42\t\n",
    "arr_N[2]\t\t\t\t\t# returns 42, not 2!"
   ]
  },
  {
   "cell_type": "code",
   "execution_count": null,
   "id": "07f1c09d-cf44-45d5-936e-4e6589a11acc",
   "metadata": {},
   "outputs": [],
   "source": [
    "#  updating a copy of a view does not update the source array\n",
    "arr_N = np.arange(0, 6)\t\t\n",
    "my_slice = arr_N[:3].copy()\n",
    "my_slice[2] = 42\t\n",
    "arr_N[2]\t\t\t\t\t# returns 2"
   ]
  },
  {
   "cell_type": "markdown",
   "id": "8779eaa4-f785-4447-b909-9378f225870c",
   "metadata": {},
   "source": [
    "**Subsetting by condition.** You can retrive values meeting any valid logical expression. Note that filtering returns a 1-dimenstional array, regardless of the number of dimensions in the input array. "
   ]
  },
  {
   "cell_type": "code",
   "execution_count": null,
   "id": "62e01879-b586-4230-8352-7cc02a500a0b",
   "metadata": {},
   "outputs": [],
   "source": [
    "# first, create an array\n",
    "arr_P = np.random.rand(6, 4)\n",
    "print(arr_P)"
   ]
  },
  {
   "cell_type": "code",
   "execution_count": null,
   "id": "58503e19-8282-4e2e-b287-038039fa14a5",
   "metadata": {},
   "outputs": [],
   "source": [
    "# filter for values greater than or equal to 0.75\n",
    "arr_P[arr_P >= 0.85]"
   ]
  },
  {
   "cell_type": "markdown",
   "id": "efa3d8ad-c2d7-4172-b85e-3d3445f0a448",
   "metadata": {},
   "source": [
    "If you want the indices rather than the values, use `where()`. This will return one ndarray of indexes for each dimension of the ndarray you pass to the function. If there is more than one dimension, the returned arrays are wrapped in a tuple. For example, applying `where()` to a 2-dimensional array will return a tuple containing two ndarrays: the first with values in axis 0 and the second with values in axis 1. Pair the first value in the first array with the first value in the second array to get the coordinates of the first item, and so forth."
   ]
  },
  {
   "cell_type": "code",
   "execution_count": null,
   "id": "7c63093e-7a93-4f70-880e-b7cd5f11021b",
   "metadata": {},
   "outputs": [],
   "source": [
    "# filter for indexes of values greater than or equal to 0.75\n",
    "np.where(arr_P >= 0.85)"
   ]
  },
  {
   "cell_type": "markdown",
   "id": "e3800647-3e23-4658-99fa-c6af23b97430",
   "metadata": {},
   "source": [
    "## Updating subsets of an ndarray.\n",
    "\n",
    "In all of the examples below, the original ndarray is updated in-place. \n",
    "\n",
    "**Update with a single value.** To update a subset of items, provide an index and a new value. This works for single items or slices. To update all items, use the `.fill()` method."
   ]
  },
  {
   "cell_type": "code",
   "execution_count": null,
   "id": "b71a2bd2-5872-48df-918f-2837465ad8e4",
   "metadata": {},
   "outputs": [],
   "source": [
    "# create an array to work with\n",
    "arr_Q = np.zeros((4, 5), dtype=int)\n",
    "print(arr_Q)"
   ]
  },
  {
   "cell_type": "code",
   "execution_count": null,
   "id": "b93b2554-46a2-4847-88b2-455bc7cc9769",
   "metadata": {},
   "outputs": [],
   "source": [
    "# replace a single value in a 2-dimensional array\n",
    "arr_Q[2, 2] = 999\n",
    "print(arr_Q)"
   ]
  },
  {
   "cell_type": "code",
   "execution_count": null,
   "id": "f328653d-2e28-4ed6-a4b5-7d8f8c116b11",
   "metadata": {},
   "outputs": [],
   "source": [
    "# replace a 2-dimensional slice of values in a 2-dimensional array with a scalar\n",
    "arr_Q[1:3, 1:3] = 999\n",
    "print(arr_Q)"
   ]
  },
  {
   "cell_type": "code",
   "execution_count": null,
   "id": "98080efc-addc-4398-baf7-aa4253f633ad",
   "metadata": {},
   "outputs": [],
   "source": [
    "# replace all values in an ndarray with a single new value\n",
    "arr_Q.fill(42)\n",
    "print(arr_Q)"
   ]
  },
  {
   "cell_type": "markdown",
   "id": "2027f272-1b26-4bf3-b02d-160198ad1829",
   "metadata": {},
   "source": [
    "**Update from an iterable.** You can update values in all or a specified subset of items an ndarry using `copyto()` and providing an iterable containing the new values. The examples below update from a flat list, but you can use  nested iterables to update in more than 1 dimension. Make sure the size and dimensions of the indexing and iterable are the same!"
   ]
  },
  {
   "cell_type": "code",
   "execution_count": null,
   "id": "d9f2f321-d8d3-4259-a8e8-69a4a1c24f26",
   "metadata": {},
   "outputs": [],
   "source": [
    "# create an array to work with\n",
    "arr_Q = np.zeros((4, 5), dtype=int)\n",
    "print(arr_Q)"
   ]
  },
  {
   "cell_type": "code",
   "execution_count": null,
   "id": "f2c6696e-1ee6-47af-a293-9f5187201acd",
   "metadata": {},
   "outputs": [],
   "source": [
    "# create values to use for updating\n",
    "new_row = [-1, -2, -3, -4, -5] \n",
    "new_col = (-10, -20, -30, -40)\n",
    "new_area = [[222, 333], [444, 555]]"
   ]
  },
  {
   "cell_type": "code",
   "execution_count": null,
   "id": "76b6f3df-aa84-4334-9834-93c5f4682101",
   "metadata": {},
   "outputs": [],
   "source": [
    "# replace values in second row \n",
    "np.copyto(arr_Q[1, :], new_row) \n",
    "print(arr_Q)"
   ]
  },
  {
   "cell_type": "code",
   "execution_count": null,
   "id": "b3c503ac-1355-446d-b184-e29787cdd4f5",
   "metadata": {},
   "outputs": [],
   "source": [
    "# replace values in third column \n",
    "np.copyto(arr_Q[:,2], new_col) \n",
    "print(arr_Q)"
   ]
  },
  {
   "cell_type": "code",
   "execution_count": null,
   "id": "d606fb45-5950-4a29-85e9-40f807a73c96",
   "metadata": {},
   "outputs": [],
   "source": [
    "# replace a 2-dimensional slice from a nested iterable\n",
    "arr_Q[1:3, 1:3] = new_area\n",
    "print(arr_Q)"
   ]
  },
  {
   "cell_type": "markdown",
   "id": "d36655c2-6d8d-4c4d-bb48-894c2c8a4637",
   "metadata": {},
   "source": [
    "**Update based on condition.** Use any logical expression and supply a new value. Use `&` and `|` as operators to create compound conditions (note: differen from base Python, which uses `and` and `or`). Use `~` to negate any expression or sub-expression."
   ]
  },
  {
   "cell_type": "code",
   "execution_count": null,
   "id": "7640d7bc-592b-4421-bc97-70fb2f61d356",
   "metadata": {},
   "outputs": [],
   "source": [
    "# create an array to work with\n",
    "arr_R = np.arange(0, 100, 5).reshape(4,5)\n",
    "print(arr_R)"
   ]
  },
  {
   "cell_type": "code",
   "execution_count": null,
   "id": "166e65f9-623f-4df9-afd9-f59fbeae8350",
   "metadata": {},
   "outputs": [],
   "source": [
    "# replace all values divisble by 3 with 999\n",
    "arr_R[arr_R % 3 == 0] = 999\n",
    "print(arr_R)"
   ]
  },
  {
   "cell_type": "code",
   "execution_count": null,
   "id": "a843325b-9b95-431b-8370-797b5bf9f5ff",
   "metadata": {},
   "outputs": [],
   "source": [
    "# replace all values divisble by 3 and less than 50 with 999\n",
    "arr_R[(arr_R % 3 == 0) & (arr_R < 20)] = 999\n",
    "print(arr_R)"
   ]
  },
  {
   "cell_type": "markdown",
   "id": "0020c40b-ecec-4dc5-b63e-190514e0a43c",
   "metadata": {},
   "source": [
    "## Math and functions with ndarrays\n",
    "\n",
    "The standard arithmetic and logical operators can be applied to Ndarrays for vectorized (implicit looping) operations. Numpy also provides a large number of functions optimized to work with ndarrays called \"universal functions\" or \"ufuncs\" for short. They provide vectorized operations, avoiding the need for loops. Ufuncs are written in C and are often much faster than applying standard Python functions. Some examples are shown below. See the NumPy documentation for a full list of ufuncs. When working with ndarrays, be sure to specify the `np.` version, as the names are often identical to standard Python functions."
   ]
  },
  {
   "cell_type": "code",
   "execution_count": null,
   "id": "7ae64b10-0087-4c65-bac0-993582eec7b7",
   "metadata": {},
   "outputs": [],
   "source": [
    "# create 2 arrays to work with\n",
    "arr_S = np.arange(1, 101, 5).reshape(4,5)\n",
    "arr_T = np.arange(1, 61, 3).reshape(4,5)\n",
    "print(arr_S, '\\n')\n",
    "print(arr_T)"
   ]
  },
  {
   "cell_type": "code",
   "execution_count": null,
   "id": "4f52c5db-89b4-4005-bd2b-ecaffac1bb93",
   "metadata": {},
   "outputs": [],
   "source": [
    "# return the product of every item multiplied by a constant\n",
    "arr_S * 33.3"
   ]
  },
  {
   "cell_type": "code",
   "execution_count": null,
   "id": "a845407e-bc14-4c56-b2f6-53366be66312",
   "metadata": {},
   "outputs": [],
   "source": [
    "# return the square root of every item\n",
    "np.sqrt(arr_S)"
   ]
  },
  {
   "cell_type": "code",
   "execution_count": null,
   "id": "2aa67b8b-c6fb-43d3-8d4e-fac6e5fbde6b",
   "metadata": {},
   "outputs": [],
   "source": [
    "# return boolean values by applying a condition to every item\n",
    "arr_S >= 50    "
   ]
  },
  {
   "cell_type": "code",
   "execution_count": null,
   "id": "6a95fd40-9201-40d5-be2c-f49e67458205",
   "metadata": {},
   "outputs": [],
   "source": [
    "# return the sum of two arrays\n",
    "arr_S + arr_T"
   ]
  },
  {
   "cell_type": "code",
   "execution_count": null,
   "id": "be4f398b-4722-46a3-a140-7000a531b6f9",
   "metadata": {},
   "outputs": [],
   "source": [
    "# return the sum of two arrays divided by the sin of the first\n",
    "(arr_S + arr_T) / np.sin(arr_S)"
   ]
  },
  {
   "cell_type": "code",
   "execution_count": null,
   "id": "6e662d0c-099b-435d-b27d-a03fa7075c0b",
   "metadata": {},
   "outputs": [],
   "source": [
    "# return boolean values based on a condition comparing two arrays\n",
    "(arr_S - 5) > arr_T"
   ]
  },
  {
   "cell_type": "code",
   "execution_count": null,
   "id": "91b2b9c1-2753-4e1b-a6cd-0298b7e38d8d",
   "metadata": {},
   "outputs": [],
   "source": [
    "# return boolean values based on a condition comparing two arrays\n",
    "(arr_S + arr_T <= 200) & ((arr_S + arr_T) % 3 == 0)"
   ]
  },
  {
   "cell_type": "markdown",
   "id": "61f34881-e60e-460c-97f1-20fc7aafe6fb",
   "metadata": {},
   "source": [
    "**Math updates in-place.** For simple arithmetic, you can you any of the augmentated assignment operators."
   ]
  },
  {
   "cell_type": "code",
   "execution_count": null,
   "id": "e4462e31-93f9-4bed-96c4-4fc5c5fa4e5a",
   "metadata": {},
   "outputs": [],
   "source": [
    "# Multiply all values by 3 in-place \n",
    "arr_S *= 3\n",
    "arr_S"
   ]
  },
  {
   "cell_type": "code",
   "execution_count": null,
   "id": "a121d037-47f0-472c-9633-b77aa02bce65",
   "metadata": {},
   "outputs": [],
   "source": [
    "# Divide all values by 3 in-place\n",
    "arr_T /= 3       # type error because NumPy is written in C! (this statement mixes data types)"
   ]
  },
  {
   "cell_type": "markdown",
   "id": "b0d0db1b-8d8b-461a-ab32-7d3336b87264",
   "metadata": {},
   "source": [
    "## Summary statistics\n",
    "Many of the summary statistics below can be called as functions or methods using the same name. Many can be applied to the entire array or just one dimension of a multi-dimensional array."
   ]
  },
  {
   "cell_type": "code",
   "execution_count": null,
   "id": "09d508e9-4adf-4253-976f-462d06da8d9b",
   "metadata": {},
   "outputs": [],
   "source": [
    "# first, create an array to work with\n",
    "nested_list = [[1, 8, 101, 50], [5, 1, 19, 44], [72, -4, 1, -30], [50, 37, -61, 1]]\n",
    "arr_U = np.array(nested_list)\n",
    "print(arr_U)"
   ]
  },
  {
   "cell_type": "code",
   "execution_count": null,
   "id": "cd3a9f2c-bfb4-4439-bce0-8ade7df19054",
   "metadata": {},
   "outputs": [],
   "source": [
    "# return the mean value from an ndarray using a function\n",
    "np.mean(arr_U)"
   ]
  },
  {
   "cell_type": "code",
   "execution_count": null,
   "id": "a5c2b2ff-f6fe-4be8-967a-21e1bcadb0bd",
   "metadata": {},
   "outputs": [],
   "source": [
    "# return the mean value from an ndarray using a method\n",
    "arr_U.mean()"
   ]
  },
  {
   "cell_type": "code",
   "execution_count": null,
   "id": "a4ec0637-0390-425f-b1f8-4d7caf14b808",
   "metadata": {},
   "outputs": [],
   "source": [
    "# return the sum of all items in an ndarray\n",
    "arr_U.sum()"
   ]
  },
  {
   "cell_type": "code",
   "execution_count": null,
   "id": "81e7e1c0-6a08-4a28-9811-5b5041ebc581",
   "metadata": {},
   "outputs": [],
   "source": [
    "# return the sums of rows\n",
    "arr_U.sum(axis=0)"
   ]
  },
  {
   "cell_type": "code",
   "execution_count": null,
   "id": "a79cf269-760f-4fef-87b1-4ad833aaf946",
   "metadata": {},
   "outputs": [],
   "source": [
    "# return the largest value in an array\n",
    "arr_U.max()"
   ]
  },
  {
   "cell_type": "code",
   "execution_count": null,
   "id": "ab0d513d-097e-4141-9358-49cad796fe02",
   "metadata": {},
   "outputs": [],
   "source": [
    "# return the largest value in each row\n",
    "arr_U.max(axis=1)"
   ]
  },
  {
   "cell_type": "code",
   "execution_count": null,
   "id": "215fd439-5e6c-4b12-b117-cd981a8c870a",
   "metadata": {},
   "outputs": [],
   "source": [
    "# return the variance of an array\n",
    "arr_U.var()"
   ]
  },
  {
   "cell_type": "code",
   "execution_count": null,
   "id": "945fbd2d-dd78-43f6-8552-da3e50f9b073",
   "metadata": {},
   "outputs": [],
   "source": [
    "# return the standard deviation of columns\n",
    "arr_U.std(axis=0)"
   ]
  },
  {
   "cell_type": "markdown",
   "id": "bd099c18-5e36-4943-8964-d192203c1503",
   "metadata": {},
   "source": [
    "## Sorting\n",
    "\n",
    "NumPy provides a lot flexibility in sorting procedures and options. The following examples cover the basics, but you can control sorting in more granular ways if needed."
   ]
  },
  {
   "cell_type": "code",
   "execution_count": null,
   "id": "9113bc7a-da04-4cba-a29d-391b907e86da",
   "metadata": {},
   "outputs": [],
   "source": [
    "# first, create an array to work with\n",
    "nested_list = [[1, 8, 101, 50], [5, 1, 19, 44], [72, -4, 1, -30], [50, 37, -61, 1]]\n",
    "arr_U = np.array(nested_list)\n",
    "print(arr_U)"
   ]
  },
  {
   "cell_type": "code",
   "execution_count": null,
   "id": "534901be-f8fa-4533-8afc-995242ca095c",
   "metadata": {},
   "outputs": [],
   "source": [
    "# sort an array along a single axis; modifies the array in-place\n",
    "#    default is to sort along the last axis (1 for a 2-dimensional array)\n",
    "arr_U.sort()\n",
    "print(arr_U)"
   ]
  },
  {
   "cell_type": "code",
   "execution_count": null,
   "id": "af9df30d-f2eb-4f1f-adfc-25240309632e",
   "metadata": {},
   "outputs": [],
   "source": [
    "# sort an array along the first axis; modifies the array in-place\n",
    "arr_U.sort(axis=0)\n",
    "print(arr_U)"
   ]
  },
  {
   "cell_type": "code",
   "execution_count": null,
   "id": "37ee0658-b3cb-48e5-a914-9def5a02ee95",
   "metadata": {},
   "outputs": [],
   "source": [
    "# to make a copy and preserve the original, use the function rather than the method\n",
    "sorted_arr = np.sort(arr_U)\n",
    "print(arr_U)"
   ]
  },
  {
   "cell_type": "code",
   "execution_count": null,
   "id": "5a8fe1bc-3122-40d4-b5ca-13ee35ab9a39",
   "metadata": {},
   "outputs": [],
   "source": [
    "# the original is unmodified\n",
    "print(arr_U)"
   ]
  },
  {
   "cell_type": "code",
   "execution_count": null,
   "id": "a7cff701-90fa-4936-94c0-2b9a6ed76114",
   "metadata": {},
   "outputs": [],
   "source": [
    "# return items sorted across the entire array (flattens into a 1-dimensional array)\n",
    "np.sort(arr_U, axis=None)"
   ]
  },
  {
   "cell_type": "code",
   "execution_count": null,
   "id": "cd9e6c66-044d-429e-8d1f-00bbae282178",
   "metadata": {},
   "outputs": [],
   "source": [
    "# return a sorted list of unique values\n",
    "np.unique(arr_U)"
   ]
  },
  {
   "cell_type": "markdown",
   "id": "ec464cee-cb5a-4a07-8a47-8ffab05a0361",
   "metadata": {},
   "source": [
    "## Matrix operations\n",
    "\n",
    "NumPy provides a rich set of functions and methods for matrix manipulations and linear algebra. The examples below illustrate some of the most common operations, but there are many more. "
   ]
  },
  {
   "cell_type": "markdown",
   "id": "30b2e85e-332c-40e2-b272-a89d605ae05f",
   "metadata": {},
   "source": [
    "**Reorganizing arrays.** Reorganizing involves changing the shape or dimensions of an array, or stacking (merging) two arrays. When stacking arrays, the joining edges must be of equal length. Any change to the dimensions or size of an array requires creating a new array, so assign output to save the result. A corollary is that none of these operations affect the original array(s)."
   ]
  },
  {
   "cell_type": "code",
   "execution_count": null,
   "id": "eabc9e22-a2fe-4387-8e4a-03d049d79c46",
   "metadata": {},
   "outputs": [],
   "source": [
    "# first, create an array to work with\n",
    "nested_list = [[1, 8, 101, 50], [72, -4, 1, -30], [50, 37, -61, 1]]\n",
    "arr_U = np.array(nested_list)\n",
    "print(arr_U)"
   ]
  },
  {
   "cell_type": "code",
   "execution_count": null,
   "id": "728e3399-864a-4010-8747-182f65db7fc1",
   "metadata": {},
   "outputs": [],
   "source": [
    "# returned a reshaped array\n",
    "#    note that the number of items must match the new dimensions\n",
    "arr_U.reshape(2, 6)"
   ]
  },
  {
   "cell_type": "code",
   "execution_count": null,
   "id": "4fc339f3-828e-43ea-a4b9-010d28548533",
   "metadata": {},
   "outputs": [],
   "source": [
    "# return the transpose of the array\n",
    "np.transpose(arr_U)"
   ]
  },
  {
   "cell_type": "code",
   "execution_count": null,
   "id": "53ba81f8-3ba2-4113-aa9a-71bbc22d17bd",
   "metadata": {},
   "outputs": [],
   "source": [
    "# synonym for getting the transpose of the array\n",
    "arr_U.T"
   ]
  },
  {
   "cell_type": "code",
   "execution_count": null,
   "id": "baed91d0-3f0f-42b4-bed5-1f8b5ed05740",
   "metadata": {},
   "outputs": [],
   "source": [
    "# return a flattened version of the array in 1 dimension\n",
    "#    follows row order\n",
    "arr_U.flatten()"
   ]
  },
  {
   "cell_type": "code",
   "execution_count": null,
   "id": "31f450d1-264d-4ec8-8b1e-fcce208b2a66",
   "metadata": {},
   "outputs": [],
   "source": [
    "# vertically stack arrays\n",
    "arr_V1 = np.array([1, 2, 3, 4])\n",
    "arr_V2 = np.array([5, 6, 7, 8])\n",
    "np.vstack((arr_V1, arr_V2))"
   ]
  },
  {
   "cell_type": "code",
   "execution_count": null,
   "id": "71431545-1941-4011-816d-3ad643ce054d",
   "metadata": {},
   "outputs": [],
   "source": [
    "# horizontally stack arrays\n",
    "arr_H1 = np.ones((2, 4))\n",
    "arr_H2 = np.zeros((2, 2))\n",
    "np.hstack((arr_H1, arr_H2))"
   ]
  },
  {
   "cell_type": "markdown",
   "id": "48f1c973-a651-431d-bf01-e8a3e0912d13",
   "metadata": {},
   "source": [
    "**Matrix multiplication.** "
   ]
  },
  {
   "cell_type": "code",
   "execution_count": null,
   "id": "9a5c98c1-ed3f-4852-8229-ac41bd6c1130",
   "metadata": {},
   "outputs": [],
   "source": [
    "# construct 2 matrices to multiply\n",
    "arr_W = np.ones((2,3))\n",
    "arr_X = np.full((3,2), 4)\n",
    "print(arr_W, '\\n')\n",
    "print(arr_X)"
   ]
  },
  {
   "cell_type": "code",
   "execution_count": null,
   "id": "b666f32e-72ca-4f00-871a-05fc193e5aad",
   "metadata": {},
   "outputs": [],
   "source": [
    "# do matrix multiplication\n",
    "np.matmul(arr_W, arr_X)"
   ]
  },
  {
   "cell_type": "markdown",
   "id": "d2d47e25-be4d-472b-aee8-08499a3bffb8",
   "metadata": {},
   "source": [
    "**Determinant of a matrix.**"
   ]
  },
  {
   "cell_type": "code",
   "execution_count": null,
   "id": "f07bbefc-ee5e-427b-8843-87e053d22c44",
   "metadata": {},
   "outputs": [],
   "source": [
    "# find the derminant\n",
    "arr_Y = np.random.rand(6, 6)\n",
    "print(arr_Y)\n",
    "np.linalg.det(arr_Y)"
   ]
  },
  {
   "cell_type": "code",
   "execution_count": null,
   "id": "e34ffad9-1460-4032-83a5-afeae4edded2",
   "metadata": {},
   "outputs": [],
   "source": [
    "# sanity check: the identify matrix has a determiant of 1 regardless of matrix size\n",
    "arr_Z = np.identity(7)\n",
    "print(arr_Z)\n",
    "np.linalg.det(arr_Z)"
   ]
  },
  {
   "cell_type": "code",
   "execution_count": null,
   "id": "298b89b8-be6f-49d6-9914-56478799e0e5",
   "metadata": {},
   "outputs": [],
   "source": []
  },
  {
   "cell_type": "code",
   "execution_count": null,
   "id": "6d4954da-d964-4a97-8c44-1f53eecea1ba",
   "metadata": {},
   "outputs": [],
   "source": []
  },
  {
   "cell_type": "code",
   "execution_count": null,
   "id": "597f85b3-d94b-47a8-a7d0-f6ba320ec4ad",
   "metadata": {},
   "outputs": [],
   "source": []
  }
 ],
 "metadata": {
  "kernelspec": {
   "display_name": "Python 3 (ipykernel)",
   "language": "python",
   "name": "python3"
  },
  "language_info": {
   "codemirror_mode": {
    "name": "ipython",
    "version": 3
   },
   "file_extension": ".py",
   "mimetype": "text/x-python",
   "name": "python",
   "nbconvert_exporter": "python",
   "pygments_lexer": "ipython3",
   "version": "3.12.7"
  }
 },
 "nbformat": 4,
 "nbformat_minor": 5
}
