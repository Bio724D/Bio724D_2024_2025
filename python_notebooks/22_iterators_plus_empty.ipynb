{
 "cells": [
  {
   "cell_type": "markdown",
   "id": "324ba9dd-bffb-4590-a62a-ae9ac606bc34",
   "metadata": {},
   "source": [
    "Under the hood python constructs like For loops and List comprehensions rely on objects that are \"iterators\" or that can be made in \"iterator\" objects.\n",
    "\n",
    "## Iterators\n",
    "\n",
    "- Python objects that represent streams of data\n",
    "\n",
    "- Iteratators return the data they hold one element at a time (what's considered an \"element\" depends on the type of iterator). Data element are returned by using the iterator in the `next()` function\n",
    "\n",
    "- When an iterator has exhausted its elements, than subsequent calls to net will raise a `StopIteration` exception\n",
    "\n",
    "## Getting iterators from sequence objects\n",
    "\n",
    "Common sequence objects like lists, tuple, string, and ranges are not iterators themselves, but are \"iterable\" in that we can get an iterator from them using the `iter()` function:"
   ]
  },
  {
   "cell_type": "code",
   "execution_count": null,
   "id": "f5fc43b6-f760-4fdb-8e1e-c03413b0fb59",
   "metadata": {},
   "outputs": [],
   "source": []
  },
  {
   "cell_type": "markdown",
   "id": "c676f925-43eb-48c6-a482-5931ec2a2322",
   "metadata": {},
   "source": [
    "## Getting elements from an iterator using `next()`"
   ]
  },
  {
   "cell_type": "code",
   "execution_count": null,
   "id": "4bd2ca96-dee9-4e94-8234-23b64d7ab522",
   "metadata": {},
   "outputs": [],
   "source": []
  },
  {
   "cell_type": "markdown",
   "id": "3fdb5fb6-172c-418e-9c49-9e512cb020b0",
   "metadata": {},
   "source": [
    "## for loops and comprehensions can be applied to anything that is iterable\n",
    "\n",
    "\"Iterable\" literally means that when you call `iter()` on the object it returns an interator.\n",
    "\n",
    "You can think if for loops as repeatedly calling `next()` on the iterator until a `StopIteration` exception is raised."
   ]
  },
  {
   "cell_type": "code",
   "execution_count": null,
   "id": "04c08c73-cc6a-42dc-b0e9-4e3405bf2e1f",
   "metadata": {},
   "outputs": [],
   "source": []
  },
  {
   "cell_type": "markdown",
   "id": "27727ee9-cbfe-4122-9afe-a1ed35ebe8fc",
   "metadata": {},
   "source": [
    "### List, Set, and Dictionary Comprehensions"
   ]
  },
  {
   "cell_type": "code",
   "execution_count": null,
   "id": "d1dde88c-5d0f-43f2-8f2d-838e1649e10e",
   "metadata": {},
   "outputs": [],
   "source": []
  },
  {
   "cell_type": "markdown",
   "id": "7fd4f29a-b4c7-46d2-b03f-59de617f0b3f",
   "metadata": {},
   "source": [
    "### Generator expressions\n",
    "\n",
    "In Python a \"generator\" is  function that returns and iterator. A generator expression is a syntax that is similar to a list comprehension, but rather than returning a list it returns a generator.\n"
   ]
  },
  {
   "cell_type": "code",
   "execution_count": null,
   "id": "719eabcf-6946-4ea5-85d1-6b320fecf2c6",
   "metadata": {},
   "outputs": [],
   "source": []
  },
  {
   "cell_type": "markdown",
   "id": "56dca7d6-445f-4054-b345-c65f55a66fdd",
   "metadata": {},
   "source": [
    "## The `itertools` module\n",
    "\n",
    "The `itertools` module included as part of the Python standard library includes a large number of functions that producter various useful iterators. We'll illustrate a few of these."
   ]
  },
  {
   "cell_type": "code",
   "execution_count": 1,
   "id": "ebab991e-e94b-44b9-8e8b-740620ffb701",
   "metadata": {},
   "outputs": [],
   "source": [
    "import itertools"
   ]
  },
  {
   "cell_type": "code",
   "execution_count": null,
   "id": "09eacad9-facb-481b-b1ae-90d87304adfd",
   "metadata": {},
   "outputs": [],
   "source": []
  },
  {
   "cell_type": "markdown",
   "id": "4448ac81-3025-4122-b174-0fd19c3c9b90",
   "metadata": {},
   "source": [
    "### Permutations, Combinations, and Products"
   ]
  },
  {
   "cell_type": "code",
   "execution_count": null,
   "id": "404798d3-3863-4e74-9966-a4b95baec8ed",
   "metadata": {},
   "outputs": [],
   "source": []
  },
  {
   "cell_type": "markdown",
   "id": "65a5fe61-12d8-46ec-9482-decf1496153b",
   "metadata": {},
   "source": [
    "### Pathlib"
   ]
  },
  {
   "cell_type": "code",
   "execution_count": null,
   "id": "3eab106d-a1af-4d08-b474-ea175c01d98a",
   "metadata": {},
   "outputs": [],
   "source": []
  }
 ],
 "metadata": {
  "kernelspec": {
   "display_name": "Python 3 (ipykernel)",
   "language": "python",
   "name": "python3"
  },
  "language_info": {
   "codemirror_mode": {
    "name": "ipython",
    "version": 3
   },
   "file_extension": ".py",
   "mimetype": "text/x-python",
   "name": "python",
   "nbconvert_exporter": "python",
   "pygments_lexer": "ipython3",
   "version": "3.12.2"
  }
 },
 "nbformat": 4,
 "nbformat_minor": 5
}
