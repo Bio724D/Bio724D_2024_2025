{
 "cells": [
  {
   "cell_type": "markdown",
   "id": "8e642aed-3822-4a34-98c8-7f9787533478",
   "metadata": {},
   "source": [
    "# Install and test software for using SQL\n",
    "\n",
    "This notebook will guide you through installing the software to use SQL directly in JupyterLab notebooks and within Python programs.\n",
    "\n",
    "We will be working with **DuckDB**, a \"lightweight\" implementation of SQL. You can learn more about DuckDB [here.](https://duckdb.org) \n",
    "\n",
    "In addition, we will install **JupySQL** to act as an interface between DuckDB and Jupyter. Information is [here.](https://jupysql.ploomber.io/en/latest/quick-start.html#)\n",
    "\n",
    "We'll start by installing software, then download some files and test whether everything is working as expected. For the testing (but not the installation), you will need to have the `s_orders.csv` file in the working directory."
   ]
  },
  {
   "cell_type": "markdown",
   "id": "7fd9018d-8603-4215-acca-94817205f1fd",
   "metadata": {},
   "source": [
    "## Install software   \n",
    "You only need to carry out the following steps once!"
   ]
  },
  {
   "cell_type": "code",
   "execution_count": null,
   "id": "2b6bdf55-7a49-4485-9daf-76f54df29fae",
   "metadata": {},
   "outputs": [],
   "source": [
    "pip install duckdb==0.9.2 --quiet"
   ]
  },
  {
   "cell_type": "code",
   "execution_count": null,
   "id": "64d29a3f-d913-40ed-8ce9-08090fd7b38d",
   "metadata": {},
   "outputs": [],
   "source": [
    "pip install jupysql --quiet"
   ]
  },
  {
   "cell_type": "code",
   "execution_count": null,
   "id": "94befd18-7955-4d42-8adf-453cff344c77",
   "metadata": {
    "scrolled": true
   },
   "outputs": [],
   "source": [
    "pip install duckdb-engine --quiet"
   ]
  },
  {
   "cell_type": "markdown",
   "id": "44cc4dd2-cc45-43c4-9c3b-048c364134fa",
   "metadata": {},
   "source": [
    "## Load extension\n",
    "\n",
    "Next, we need to load a package that tells Jupyter how to interface with a relational database. This is provided by JupySQL, which we installed earlier.   \n",
    "\n",
    "Note the `%` symbol at the beginning of line in the code cell. This is called a \"magic\" and signifies to Jupyter that what follows on this line is **not** Python code. In this case, the rest of the magic command tells Jupyter to load the JupySQL module. There are many other magic commands (we will see some examples later)."
   ]
  },
  {
   "cell_type": "code",
   "execution_count": null,
   "id": "96132804-4d3a-4255-8823-baac232b8d69",
   "metadata": {},
   "outputs": [],
   "source": [
    "%load_ext sql"
   ]
  },
  {
   "cell_type": "markdown",
   "id": "98a7a063-e913-46a7-be55-f4b47fa59180",
   "metadata": {},
   "source": [
    "## Test the installed software\n",
    "\n",
    "Now that software is installed, we want to make sure everything is working as expected. We'll start by downloading the famous `penguins` dataset. "
   ]
  },
  {
   "cell_type": "code",
   "execution_count": null,
   "id": "914a0fc6-061d-4947-9ac4-ef71a41306b8",
   "metadata": {},
   "outputs": [],
   "source": [
    "from pathlib import Path                   # this is a function in a standard Python library\n",
    "from urllib.request import urlretrieve     # same\n",
    "\n",
    "if not Path(\"penguins.csv\").is_file():     # now we download the dataset; the if not syntax replaces a previous file\n",
    "    urlretrieve(\n",
    "        \"https://raw.githubusercontent.com/mwaskom/seaborn-data/master/penguins.csv\",\n",
    "        \"penguins.csv\",\n",
    "    )"
   ]
  },
  {
   "cell_type": "markdown",
   "id": "6f4730ba-946f-42eb-b363-7c8f7aa03c32",
   "metadata": {},
   "source": [
    "Next, we connect to DuckDB using a magic and create a temporary database in memory."
   ]
  },
  {
   "cell_type": "code",
   "execution_count": null,
   "id": "69908963-3f51-4bfc-88f3-a1a3b951e4b7",
   "metadata": {},
   "outputs": [],
   "source": [
    "%sql duckdb://"
   ]
  },
  {
   "cell_type": "markdown",
   "id": "ea1aa69c-ef7d-46f2-8adc-a1a8e34f8e59",
   "metadata": {},
   "source": [
    "We will now use a magic to issue an SQL statement that queries `penguins.csv`. The magic `%sql` tells Jupyter that what follows is SQL code, not Python (the default assumption). Note that DuckDB can interact with this `.csv` file as if it were already part of a relational database.   \n",
    "\n",
    "After running the command below, you should see a table with seven colums and five rows."
   ]
  },
  {
   "cell_type": "code",
   "execution_count": null,
   "id": "70ecc74b-9c2a-40ec-a654-8231a4ba2a01",
   "metadata": {},
   "outputs": [],
   "source": [
    "%sql SELECT * FROM penguins.csv WHERE species = 'Chinstrap' LIMIT 5;"
   ]
  },
  {
   "cell_type": "markdown",
   "id": "2e452106-1049-4595-9f4f-84e692bc1173",
   "metadata": {},
   "source": [
    "Finally, we'll make an authentic SQL table and query it. This code creates an SQL table called `orders`, then reads a `.csv` file to load data into the table. The process of inserting data is called *populating* a table. For now, don't worry about syntax; we will cover how to create and manipulate tables later. "
   ]
  },
  {
   "cell_type": "code",
   "execution_count": null,
   "id": "3ad80c33-ffda-475e-b27b-7c47a5c8b265",
   "metadata": {},
   "outputs": [],
   "source": [
    "%%sql\n",
    "DROP TABLE IF EXISTS orders;\n",
    "CREATE TABLE orders(\n",
    "    order_ioc VARCHAR PRIMARY KEY,\n",
    "    seq SMALLINT NOT NULL,\n",
    "    familiar_order VARCHAR,\n",
    "    taxonomy VARCHAR\n",
    "    );\n",
    "COPY orders FROM 's_orders.csv';"
   ]
  },
  {
   "cell_type": "markdown",
   "id": "f8994188-77a0-478d-8869-a9f713688bfa",
   "metadata": {},
   "source": [
    "Now we can interact with the table using a magic followed by standard SQL query.   \n",
    "\n",
    "After running the command below, you should see a short table with four colums and five rows."
   ]
  },
  {
   "cell_type": "code",
   "execution_count": null,
   "id": "c4954ca5-aca8-4e44-b686-7c220af02a6f",
   "metadata": {},
   "outputs": [],
   "source": [
    "%sql SELECT * from orders ORDER BY seq LIMIT 5;"
   ]
  }
 ],
 "metadata": {
  "kernelspec": {
   "display_name": "Python 3 (ipykernel)",
   "language": "python",
   "name": "python3"
  },
  "language_info": {
   "codemirror_mode": {
    "name": "ipython",
    "version": 3
   },
   "file_extension": ".py",
   "mimetype": "text/x-python",
   "name": "python",
   "nbconvert_exporter": "python",
   "pygments_lexer": "ipython3",
   "version": "3.10.13"
  }
 },
 "nbformat": 4,
 "nbformat_minor": 5
}
