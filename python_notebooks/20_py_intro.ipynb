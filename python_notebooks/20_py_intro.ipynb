{
 "cells": [
  {
   "cell_type": "markdown",
   "id": "e11c1992-7bfb-43a7-bccc-162273a4d077",
   "metadata": {},
   "source": [
    "# 20: Introduction to Python\n",
    "\n",
    "Author: Greg Wray  \n",
    "2025-FEB-22  \n",
    "  \n",
    "Type code into this notebook during lecture. Run code in the selected cell by clicking the `run` (play button) icon or typing `shift-return`.  \n",
    "Modify and experiment!! This is the best way to get a feel for how Python works (and any other language).   \n",
    "Consider adding comments to record notes and findings: `#` starts a comment on a new line or part way through a line (just like R and bash). "
   ]
  },
  {
   "cell_type": "markdown",
   "id": "0233b382-6ad4-43f3-a713-f76fe640073f",
   "metadata": {},
   "source": [
    "### First Python program"
   ]
  },
  {
   "cell_type": "code",
   "execution_count": null,
   "id": "840e2048-589d-4478-82b7-9162bcfd449e",
   "metadata": {
    "panel-layout": {
     "height": 26.470584869384766,
     "visible": true,
     "width": 100
    }
   },
   "outputs": [],
   "source": []
  },
  {
   "cell_type": "markdown",
   "id": "565b3c18-a16d-447c-9dab-59cac4927f79",
   "metadata": {},
   "source": [
    "### Simple expressions\n",
    "\n",
    "Most math operators in Python are the same as R.\n",
    "The main exception is the exponentiation operator, `**`.   \n",
    "Use round brackets to enforce and clarity order of operations. As with other languages, inequalities return boolean (True/False) values."
   ]
  },
  {
   "cell_type": "code",
   "execution_count": 2,
   "id": "bb9f3ef9-8de9-469f-bcd5-7eb4b07a86c6",
   "metadata": {},
   "outputs": [],
   "source": [
    "# basic math\n"
   ]
  },
  {
   "cell_type": "code",
   "execution_count": 3,
   "id": "8edce4e3-0505-48da-91a6-aac7ba87a3f5",
   "metadata": {},
   "outputs": [],
   "source": [
    "# floor division (returns the remainder)\n",
    "        "
   ]
  },
  {
   "cell_type": "code",
   "execution_count": 4,
   "id": "b3971e75-8fbb-4144-b02d-7f79d449f690",
   "metadata": {},
   "outputs": [],
   "source": [
    "# exponentiation\n"
   ]
  },
  {
   "cell_type": "code",
   "execution_count": 1,
   "id": "d69bf956-8b56-4496-8b31-feac7ce1ab68",
   "metadata": {},
   "outputs": [],
   "source": [
    "# boolean expression\n"
   ]
  },
  {
   "cell_type": "markdown",
   "id": "c9f2126e-242e-49ff-8950-4e3db7281114",
   "metadata": {
    "editable": true,
    "slideshow": {
     "slide_type": ""
    },
    "tags": []
   },
   "source": [
    "### Atomic data types and assignment\n",
    "\n",
    "Data types are implicit in Python; the rules are very similar to R.   \n",
    "Variable names can be re-bound (re-assigned) at any time. Warning: re-binding erases the previous value!"
   ]
  },
  {
   "cell_type": "code",
   "execution_count": 6,
   "id": "0bf1ab23-9690-44a1-a186-9aa7a7add15b",
   "metadata": {
    "editable": true,
    "panel-layout": {
     "height": 26.470584869384766,
     "visible": true,
     "width": 100
    },
    "slideshow": {
     "slide_type": ""
    },
    "tags": []
   },
   "outputs": [],
   "source": [
    "# Python uses dynamic typing\n"
   ]
  },
  {
   "cell_type": "code",
   "execution_count": 5,
   "id": "ca205613-c461-4440-b046-7548b515e00b",
   "metadata": {},
   "outputs": [],
   "source": [
    "# to see what type Python used when creating a variable, use the type() function\n"
   ]
  },
  {
   "cell_type": "markdown",
   "id": "99b3b709-1d54-4a90-b13a-7e7278158373",
   "metadata": {},
   "source": [
    "### Common data structures\n",
    "\n",
    "The four most common Python data structures are list, tuple, set, and dictionary.  \n",
    "These are general-purpose **containers**: able to hold any data type or structure, including mixed contents.  \n",
    "You can specify and tell them apart by the type of brackets/braces and (for dictionary) by separators."
   ]
  },
  {
   "cell_type": "code",
   "execution_count": 7,
   "id": "b2331d5b-1885-4070-8cdb-d4a0ab42a7b3",
   "metadata": {},
   "outputs": [],
   "source": [
    "# list -- general-purpose container: square brackets\n",
    "\n",
    "# tuple -- immutable version of a list: round brackets\n",
    "\n",
    "# set -- unordered version of a list with no repeat items; curly braces\n",
    "\n",
    "# dictionary -- curly braces enclose a vector of key:value pairs \n"
   ]
  },
  {
   "cell_type": "code",
   "execution_count": 8,
   "id": "bf4b24b0-9884-4403-8c03-970d353588bd",
   "metadata": {
    "panel-layout": {
     "height": 50.4411735534668,
     "visible": true,
     "width": 100
    }
   },
   "outputs": [],
   "source": [
    "# to extract the length of a container, use len()\n"
   ]
  },
  {
   "cell_type": "code",
   "execution_count": 9,
   "id": "02515d9b-2868-40ce-a8f8-9b3cc497325c",
   "metadata": {},
   "outputs": [],
   "source": [
    "# len() also works with strings (but not other atomic data types)\n"
   ]
  },
  {
   "cell_type": "code",
   "execution_count": 10,
   "id": "28c44281-2343-482e-b510-783dd8e6c784",
   "metadata": {},
   "outputs": [],
   "source": [
    "# type() works with all data types\n"
   ]
  },
  {
   "cell_type": "code",
   "execution_count": 11,
   "id": "6b4dddf9-0277-490e-94d5-50e70ca5db0a",
   "metadata": {},
   "outputs": [],
   "source": [
    "# mixing data types and nesting within containers is allowed; it is also possible to include variables, expressions, and functions\n"
   ]
  },
  {
   "cell_type": "code",
   "execution_count": 16,
   "id": "9619784c-4c3b-4c42-9786-7900277f44f6",
   "metadata": {},
   "outputs": [
    {
     "data": {
      "text/plain": [
       "{'Leonardo': ['leader', 'blue', 'katana'],\n",
       " 'Raphael': ['muscle', 'red', 'sai'],\n",
       " 'Donatello': ['brains', 'purple', 'bo'],\n",
       " 'Michelangelo': ['comedian', 'orange', 'nunchuk']}"
      ]
     },
     "execution_count": 16,
     "metadata": {},
     "output_type": "execute_result"
    }
   ],
   "source": [
    "# a more practical and common use is create a custom data object\n",
    "tmnt = {\"Leonardo\": [\"leader\", \"blue\", \"katana\"], \n",
    "        \"Raphael\" : [\"muscle\", \"red\", \"sai\"],\n",
    "        \"Donatello\" : [\"brains\", \"purple\", \"bo\"],\n",
    "        \"Michelangelo\" : [\"comedian\", \"orange\", \"nunchuk\"]}\n",
    "tmnt"
   ]
  },
  {
   "cell_type": "markdown",
   "id": "520c4e94-99a6-4a67-8a96-2d6f9752ca49",
   "metadata": {
    "editable": true,
    "slideshow": {
     "slide_type": ""
    },
    "tags": []
   },
   "source": [
    "### Iterables\n",
    "\n",
    "An iterable is a data object that can return items one at a time. Strings and the four data structures mentioned above are iterable."
   ]
  },
  {
   "cell_type": "code",
   "execution_count": 12,
   "id": "d766c92d-c433-4d15-bd8b-c097f2fa8378",
   "metadata": {},
   "outputs": [],
   "source": [
    "# looping over a container returns one item at a time\n"
   ]
  },
  {
   "cell_type": "code",
   "execution_count": 13,
   "id": "94bd454d-c624-4413-9ce1-25b7ce7f4f54",
   "metadata": {},
   "outputs": [],
   "source": [
    "# looping over a string returns one character at a time\n"
   ]
  },
  {
   "cell_type": "markdown",
   "id": "e50b3f54-12f2-4ce2-b623-af026ef2b5ff",
   "metadata": {},
   "source": [
    "### Indexing\n",
    "\n",
    "Two key points to remember about indexing in Python:\n",
    "1. zero-based (unlike R, which is 1-based)\n",
    "2. slices include the beginning but not the end value (unlike R, which includes both)   "
   ]
  },
  {
   "cell_type": "code",
   "execution_count": 14,
   "id": "9ca01307-8cec-4fad-9a6a-777c6335ab49",
   "metadata": {},
   "outputs": [],
   "source": [
    "# square-bracket indexing works for all iterables except dictionaries\n"
   ]
  },
  {
   "cell_type": "code",
   "execution_count": 15,
   "id": "20ecb932-895f-4163-9b39-56bc6e065b19",
   "metadata": {},
   "outputs": [],
   "source": [
    "# slices return ranges\n"
   ]
  },
  {
   "cell_type": "code",
   "execution_count": 16,
   "id": "e587cf83-015a-40b4-b229-90655e1f8db6",
   "metadata": {},
   "outputs": [],
   "source": [
    "# open slices work\n"
   ]
  },
  {
   "cell_type": "code",
   "execution_count": 17,
   "id": "4746c2d6-5104-4964-ad0b-ee6892f35f3a",
   "metadata": {},
   "outputs": [],
   "source": [
    "# step size works as a third argument\n"
   ]
  },
  {
   "cell_type": "code",
   "execution_count": 18,
   "id": "fa54869a-d2d8-4300-bb8d-1c160698c470",
   "metadata": {},
   "outputs": [],
   "source": [
    "# step size can be combined with open slices\n"
   ]
  },
  {
   "cell_type": "code",
   "execution_count": 19,
   "id": "b74e6f35-9dff-4767-bb8d-a206601a4462",
   "metadata": {},
   "outputs": [],
   "source": [
    "# negative indexing is useful\n"
   ]
  },
  {
   "cell_type": "code",
   "execution_count": 20,
   "id": "0c81ddf2-bc6a-428b-bc37-40b04103ef5a",
   "metadata": {},
   "outputs": [],
   "source": [
    "# use open slices and negative indexing to reverse the complete iterable\n"
   ]
  },
  {
   "cell_type": "code",
   "execution_count": 21,
   "id": "b15b2a0a-0353-42d8-9298-641cc57311b5",
   "metadata": {},
   "outputs": [],
   "source": [
    "# to index a dictionary, use the key for the item you want to retrieve\n"
   ]
  },
  {
   "cell_type": "code",
   "execution_count": 22,
   "id": "c36398f7-970b-47ee-88ad-dc5fcf402cd9",
   "metadata": {},
   "outputs": [],
   "source": [
    "# to retrieve an item within a list in a dictionary, use consecutive square-bracket indexing \n"
   ]
  },
  {
   "cell_type": "markdown",
   "id": "19db84fe-ea5a-480e-8415-a07f3cf9659b",
   "metadata": {},
   "source": [
    "### Immutability\n",
    "\n",
    "Immutable data objects cannot be updated once assigned, but they can be deleted and the same name re-used.   \n",
    "Atomic data types, string, and tuples are the most common immutable data structure in Python.   "
   ]
  },
  {
   "cell_type": "code",
   "execution_count": 23,
   "id": "8fae5d5d-eff0-41d7-8560-0617f0ca1ff4",
   "metadata": {},
   "outputs": [],
   "source": [
    "# lists are mutable\n"
   ]
  },
  {
   "cell_type": "code",
   "execution_count": 24,
   "id": "ff39f2f1-a333-46d2-a183-851d98c09bd7",
   "metadata": {},
   "outputs": [],
   "source": [
    "# tuples are not mutable\n"
   ]
  },
  {
   "cell_type": "code",
   "execution_count": 25,
   "id": "7fe62198-5267-4c76-bd1f-decbe37c3173",
   "metadata": {},
   "outputs": [],
   "source": [
    "# but tuples can be \"erased\" by assigning a new value to the same identifier\n"
   ]
  },
  {
   "cell_type": "markdown",
   "id": "068036be-076e-423a-9934-16db540531e2",
   "metadata": {},
   "source": [
    "Mutable containers have an important property: assigning to a new variable does *not* create a new copy of the data.   \n",
    "Updating the contents for one variable also updates it for the other variable. "
   ]
  },
  {
   "cell_type": "code",
   "execution_count": 26,
   "id": "e10b9637-ad1f-4b4a-88f7-b8493d3143bd",
   "metadata": {},
   "outputs": [],
   "source": [
    "# assign to a new identifier\n"
   ]
  },
  {
   "cell_type": "code",
   "execution_count": 27,
   "id": "2ec80fdb-36a5-4fe4-9864-901f907e0c1d",
   "metadata": {},
   "outputs": [],
   "source": [
    "# update new_list\n"
   ]
  },
  {
   "cell_type": "code",
   "execution_count": 28,
   "id": "05ae3f9b-46d0-4df9-ae17-b94208d3f619",
   "metadata": {},
   "outputs": [],
   "source": [
    "# now, check the original list\n"
   ]
  },
  {
   "cell_type": "markdown",
   "id": "2e31c515-a718-44b5-bd7a-f64d5f63cf39",
   "metadata": {},
   "source": [
    "Immutable objects behave differently: assigning to a new variable creates an independent copy of the data.   \n",
    "Updating the copy does not affect the original."
   ]
  },
  {
   "cell_type": "code",
   "execution_count": 29,
   "id": "21490191-d4a9-4b03-8076-14e5f7ce2c71",
   "metadata": {
    "jp-MarkdownHeadingCollapsed": true
   },
   "outputs": [],
   "source": [
    "# create an immutable object and make a copy\n"
   ]
  },
  {
   "cell_type": "code",
   "execution_count": 30,
   "id": "174accd2-f307-437b-86df-841dbb1d34c1",
   "metadata": {},
   "outputs": [],
   "source": [
    "# modify the copy\n"
   ]
  },
  {
   "cell_type": "code",
   "execution_count": 31,
   "id": "49c9346a-a69c-4267-b596-1beea3b8d365",
   "metadata": {},
   "outputs": [],
   "source": [
    "# now, check the original string\n"
   ]
  },
  {
   "cell_type": "markdown",
   "id": "4929fe9c-e128-44f1-8876-51ca3aefe94c",
   "metadata": {},
   "source": [
    "### Syntax and formatting\n",
    "\n",
    "Python was designed to have clean, readable code.  \n",
    "To illustrate, we'll write another program."
   ]
  },
  {
   "cell_type": "code",
   "execution_count": 32,
   "id": "7cea73ba-fb0e-46c0-9b33-8d338e59421d",
   "metadata": {},
   "outputs": [],
   "source": [
    "# analysis of island names\n",
    "\n",
    "# input data\n",
    "islas_galapagos = ['Isabella', 'Fernandina', 'San Salvador', 'Santa Cruz', \n",
    "        'San Cristobal', 'Floreana']\n",
    "\n",
    "# main loop analyzes each input string\n",
    "\n",
    "# summary of work done\n"
   ]
  },
  {
   "cell_type": "markdown",
   "id": "f1d8aa9f-f067-448c-8a51-2b011fd01e6c",
   "metadata": {},
   "source": [
    "### Libraries\n",
    "\n",
    "Standard libraries:   \n",
    "* Do not need to be installed   \n",
    "* Contain many very useful data structures and functions    \n",
    "* Some common standard libraries: math, statistics, itertools, datetime, pathlb, sqlite3 \n",
    "   \n",
    "Third-party libraries:   \n",
    "* Must be installed before use   \n",
    "* Some common third-party libraries: scipy, numpy, pandas, matplotlib, seaborn   \n",
    "   \n",
    "All libraries must be imported before use and referred to by name when calling functions to avoid \"name collisions\"   "
   ]
  },
  {
   "cell_type": "code",
   "execution_count": 33,
   "id": "a63b58e7-15ad-4b3f-bc16-e95cb12552f9",
   "metadata": {},
   "outputs": [],
   "source": [
    "# try using a standard function that needs to be loaded first\n"
   ]
  },
  {
   "cell_type": "code",
   "execution_count": 35,
   "id": "9a931f25-24eb-48a7-9bb7-fe51c67e5dce",
   "metadata": {},
   "outputs": [],
   "source": [
    "# import the library\n"
   ]
  },
  {
   "cell_type": "code",
   "execution_count": 36,
   "id": "1d1a0618-705a-464d-b029-807fa0fce11a",
   "metadata": {},
   "outputs": [],
   "source": [
    "# refer to the library to avoid name collisions; now it works!\n"
   ]
  },
  {
   "cell_type": "code",
   "execution_count": null,
   "id": "05253432-5730-40f9-b3df-88ed431e8fcd",
   "metadata": {},
   "outputs": [],
   "source": []
  }
 ],
 "metadata": {
  "kernelspec": {
   "display_name": "Python 3 (ipykernel)",
   "language": "python",
   "name": "python3"
  },
  "language_info": {
   "codemirror_mode": {
    "name": "ipython",
    "version": 3
   },
   "file_extension": ".py",
   "mimetype": "text/x-python",
   "name": "python",
   "nbconvert_exporter": "python",
   "pygments_lexer": "ipython3",
   "version": "3.12.7"
  },
  "panel-cell-order": [
   "3e3b0242-573d-4d80-9697-ba90465df1fb",
   "840e2048-589d-4478-82b7-9162bcfd449e",
   "0bf1ab23-9690-44a1-a186-9aa7a7add15b",
   "bf4b24b0-9884-4403-8c03-970d353588bd"
  ]
 },
 "nbformat": 4,
 "nbformat_minor": 5
}
